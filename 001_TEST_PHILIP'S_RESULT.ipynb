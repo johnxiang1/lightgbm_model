{
 "cells": [
  {
   "cell_type": "code",
   "execution_count": 1,
   "metadata": {},
   "outputs": [
    {
     "name": "stderr",
     "output_type": "stream",
     "text": [
      "C:\\Anaconda\\lib\\site-packages\\sklearn\\externals\\joblib\\__init__.py:15: DeprecationWarning: sklearn.externals.joblib is deprecated in 0.21 and will be removed in 0.23. Please import this functionality directly from joblib, which can be installed with: pip install joblib. If this warning is raised when loading pickled models, you may need to re-serialize those models with scikit-learn 0.21+.\n",
      "  warnings.warn(msg, category=DeprecationWarning)\n"
     ]
    }
   ],
   "source": [
    "%run 040.model_utils.ipynb"
   ]
  },
  {
   "cell_type": "code",
   "execution_count": 2,
   "metadata": {},
   "outputs": [
    {
     "name": "stdout",
     "output_type": "stream",
     "text": [
      "time: 1e+03 µs\n"
     ]
    }
   ],
   "source": [
    "test_cols = ['AGE_D1', 'POSTAL_CODE', 'COMMUTING_DISTANCE',\n",
    "       'COMPANY_CODE',\n",
    "       'COVERAGE_CODE_AUTOMOBILE', 'DEDUCTIBLE_AMOUNT',\n",
    "       'DISTANCE_DRIVEN_ANNUALLY', 'DRIVERS_NUM',\n",
    "       'FSA','VEHICLE_RATE_GROUP',\n",
    "       'VEHICLE_RATE_GROUP_ACCIDENT_BENEFITS',\n",
    "       'VEHICLE_RATE_GROUP_DIRECT_COMPENSATION',\n",
    "       'VEHICLE_RATE_GROUP_COMPENSATION',\n",
    "       'FULL_TERM_PREMIUM_COVERAGE', 'LIMIT_1', 'MULTICAR_DISCOUNT_INDICATOR',\n",
    "       'NEW_CITY_NAME', 'PROVINCE_STATE_ABBREVIATION',\n",
    "       'VEHICLE_CODE1','COVERAGE_CODE_AUTOMOBILE_CLASS','VEHICLE_USE_CODE', 'DRIVER_SEX_CODE_D1',\n",
    "       'VEHICLE_ID', 'YEAR_LICENSED', 'DRIVING_AGE', 'AUTO_CLAIMS',\n",
    "       'CONVICTION_NUM', 'VEHICLE_AGE', 'VIN_SERIAL_NUMBER']"
   ]
  },
  {
   "cell_type": "code",
   "execution_count": 2,
   "metadata": {},
   "outputs": [
    {
     "name": "stdout",
     "output_type": "stream",
     "text": [
      "time: 1.62 s\n"
     ]
    }
   ],
   "source": [
    "#load training data and testing data\n",
    "token = lib.auth(tenant_id = 'fd3cd373-5dc9-4f59-9826-3aa2dd40d354'\n",
    "               , username='John.xiang@inteliusanalytics.com'\n",
    "               , password='XIANGlan960719.')\n",
    "adl = core.AzureDLFileSystem(token, store_name='trugendatalake')"
   ]
  },
  {
   "cell_type": "code",
   "execution_count": 11,
   "metadata": {},
   "outputs": [
    {
     "name": "stdout",
     "output_type": "stream",
     "text": [
      "LeadGen/Raw/Silver/AUTO/2019-10-28/auto_broker_1.pkl\n",
      "LeadGen/Raw/Silver/AUTO/2019-10-28/auto_broker_10.pkl\n",
      "LeadGen/Raw/Silver/AUTO/2019-10-28/auto_broker_11.pkl\n",
      "LeadGen/Raw/Silver/AUTO/2019-10-28/auto_broker_12.pkl\n",
      "LeadGen/Raw/Silver/AUTO/2019-10-28/auto_broker_13.pkl\n",
      "LeadGen/Raw/Silver/AUTO/2019-10-28/auto_broker_14.pkl\n",
      "LeadGen/Raw/Silver/AUTO/2019-10-28/auto_broker_15.pkl\n",
      "LeadGen/Raw/Silver/AUTO/2019-10-28/auto_broker_16.pkl\n",
      "LeadGen/Raw/Silver/AUTO/2019-10-28/auto_broker_17.pkl\n",
      "LeadGen/Raw/Silver/AUTO/2019-10-28/auto_broker_18.pkl\n",
      "LeadGen/Raw/Silver/AUTO/2019-10-28/auto_broker_19.pkl\n",
      "LeadGen/Raw/Silver/AUTO/2019-10-28/auto_broker_20.pkl\n",
      "LeadGen/Raw/Silver/AUTO/2019-10-28/auto_broker_21.pkl\n",
      "LeadGen/Raw/Silver/AUTO/2019-10-28/auto_broker_22.pkl\n",
      "LeadGen/Raw/Silver/AUTO/2019-10-28/auto_broker_23.pkl\n",
      "LeadGen/Raw/Silver/AUTO/2019-10-28/auto_broker_24.pkl\n",
      "LeadGen/Raw/Silver/AUTO/2019-10-28/auto_broker_25.pkl\n",
      "LeadGen/Raw/Silver/AUTO/2019-10-28/auto_broker_26.pkl\n",
      "LeadGen/Raw/Silver/AUTO/2019-10-28/auto_broker_27.pkl\n",
      "LeadGen/Raw/Silver/AUTO/2019-10-28/auto_broker_28.pkl\n",
      "LeadGen/Raw/Silver/AUTO/2019-10-28/auto_broker_29.pkl\n",
      "LeadGen/Raw/Silver/AUTO/2019-10-28/auto_broker_3.pkl\n",
      "LeadGen/Raw/Silver/AUTO/2019-10-28/auto_broker_30.pkl\n",
      "LeadGen/Raw/Silver/AUTO/2019-10-28/auto_broker_31.pkl\n",
      "LeadGen/Raw/Silver/AUTO/2019-10-28/auto_broker_32.pkl\n",
      "LeadGen/Raw/Silver/AUTO/2019-10-28/auto_broker_33.pkl\n",
      "LeadGen/Raw/Silver/AUTO/2019-10-28/auto_broker_34.pkl\n",
      "LeadGen/Raw/Silver/AUTO/2019-10-28/auto_broker_35.pkl\n",
      "LeadGen/Raw/Silver/AUTO/2019-10-28/auto_broker_36.pkl\n",
      "LeadGen/Raw/Silver/AUTO/2019-10-28/auto_broker_37.pkl\n",
      "LeadGen/Raw/Silver/AUTO/2019-10-28/auto_broker_38.pkl\n",
      "LeadGen/Raw/Silver/AUTO/2019-10-28/auto_broker_39.pkl\n",
      "LeadGen/Raw/Silver/AUTO/2019-10-28/auto_broker_41.pkl\n",
      "LeadGen/Raw/Silver/AUTO/2019-10-28/auto_broker_42.pkl\n",
      "LeadGen/Raw/Silver/AUTO/2019-10-28/auto_broker_43.pkl\n",
      "LeadGen/Raw/Silver/AUTO/2019-10-28/auto_broker_44.pkl\n",
      "LeadGen/Raw/Silver/AUTO/2019-10-28/auto_broker_45.pkl\n",
      "LeadGen/Raw/Silver/AUTO/2019-10-28/auto_broker_46.pkl\n",
      "LeadGen/Raw/Silver/AUTO/2019-10-28/auto_broker_47.pkl\n",
      "LeadGen/Raw/Silver/AUTO/2019-10-28/auto_broker_48.pkl\n",
      "LeadGen/Raw/Silver/AUTO/2019-10-28/auto_broker_49.pkl\n",
      "LeadGen/Raw/Silver/AUTO/2019-10-28/auto_broker_4_1.pkl\n",
      "LeadGen/Raw/Silver/AUTO/2019-10-28/auto_broker_4_2.pkl\n",
      "LeadGen/Raw/Silver/AUTO/2019-10-28/auto_broker_4_3.pkl\n",
      "LeadGen/Raw/Silver/AUTO/2019-10-28/auto_broker_50.pkl\n",
      "LeadGen/Raw/Silver/AUTO/2019-10-28/auto_broker_51.pkl\n",
      "LeadGen/Raw/Silver/AUTO/2019-10-28/auto_broker_52.pkl\n",
      "LeadGen/Raw/Silver/AUTO/2019-10-28/auto_broker_53.pkl\n",
      "LeadGen/Raw/Silver/AUTO/2019-10-28/auto_broker_54.pkl\n",
      "LeadGen/Raw/Silver/AUTO/2019-10-28/auto_broker_55.pkl\n",
      "LeadGen/Raw/Silver/AUTO/2019-10-28/auto_broker_56.pkl\n",
      "LeadGen/Raw/Silver/AUTO/2019-10-28/auto_broker_57.pkl\n",
      "LeadGen/Raw/Silver/AUTO/2019-10-28/auto_broker_58.pkl\n",
      "LeadGen/Raw/Silver/AUTO/2019-10-28/auto_broker_59.pkl\n",
      "LeadGen/Raw/Silver/AUTO/2019-10-28/auto_broker_5_1.pkl\n",
      "LeadGen/Raw/Silver/AUTO/2019-10-28/auto_broker_5_2.pkl\n",
      "LeadGen/Raw/Silver/AUTO/2019-10-28/auto_broker_5_3.pkl\n",
      "LeadGen/Raw/Silver/AUTO/2019-10-28/auto_broker_6.pkl\n",
      "LeadGen/Raw/Silver/AUTO/2019-10-28/auto_broker_60.pkl\n",
      "LeadGen/Raw/Silver/AUTO/2019-10-28/auto_broker_61.pkl\n",
      "LeadGen/Raw/Silver/AUTO/2019-10-28/auto_broker_62.pkl\n",
      "LeadGen/Raw/Silver/AUTO/2019-10-28/auto_broker_63.pkl\n",
      "LeadGen/Raw/Silver/AUTO/2019-10-28/auto_broker_64.pkl\n",
      "LeadGen/Raw/Silver/AUTO/2019-10-28/auto_broker_65.pkl\n",
      "LeadGen/Raw/Silver/AUTO/2019-10-28/auto_broker_66.pkl\n",
      "LeadGen/Raw/Silver/AUTO/2019-10-28/auto_broker_67.pkl\n",
      "LeadGen/Raw/Silver/AUTO/2019-10-28/auto_broker_68.pkl\n",
      "LeadGen/Raw/Silver/AUTO/2019-10-28/auto_broker_69.pkl\n",
      "LeadGen/Raw/Silver/AUTO/2019-10-28/auto_broker_70.pkl\n",
      "LeadGen/Raw/Silver/AUTO/2019-10-28/auto_broker_71.pkl\n",
      "LeadGen/Raw/Silver/AUTO/2019-10-28/auto_broker_72.pkl\n",
      "LeadGen/Raw/Silver/AUTO/2019-10-28/auto_broker_73.pkl\n",
      "LeadGen/Raw/Silver/AUTO/2019-10-28/auto_broker_74_1.pkl\n",
      "LeadGen/Raw/Silver/AUTO/2019-10-28/auto_broker_74_2.pkl\n",
      "LeadGen/Raw/Silver/AUTO/2019-10-28/auto_broker_74_3.pkl\n",
      "LeadGen/Raw/Silver/AUTO/2019-10-28/auto_broker_75.pkl\n",
      "LeadGen/Raw/Silver/AUTO/2019-10-28/auto_broker_76_1.pkl\n",
      "LeadGen/Raw/Silver/AUTO/2019-10-28/auto_broker_76_2.pkl\n",
      "LeadGen/Raw/Silver/AUTO/2019-10-28/auto_broker_76_3.pkl\n",
      "LeadGen/Raw/Silver/AUTO/2019-10-28/auto_broker_77.pkl\n",
      "LeadGen/Raw/Silver/AUTO/2019-10-28/auto_broker_78.pkl\n",
      "LeadGen/Raw/Silver/AUTO/2019-10-28/auto_broker_7_1.pkl\n",
      "LeadGen/Raw/Silver/AUTO/2019-10-28/auto_broker_7_2.pkl\n",
      "LeadGen/Raw/Silver/AUTO/2019-10-28/auto_broker_7_3.pkl\n",
      "LeadGen/Raw/Silver/AUTO/2019-10-28/auto_broker_8.pkl\n",
      "LeadGen/Raw/Silver/AUTO/2019-10-28/auto_broker_9.pkl\n",
      "load done\n",
      "time: 30min 10s\n"
     ]
    }
   ],
   "source": [
    "file_list = adl.listdir('LeadGen/Raw/Silver/AUTO/2019-10-28')\n",
    "for i in range(len(file_list)):\n",
    "    with adl.open(file_list[i],'rb') as f:\n",
    "        if i == 0:\n",
    "            b0 = pickle.load(f)\n",
    "           # b0 = b0[test_cols]\n",
    "        else:\n",
    "            b1= pickle.load(f)\n",
    "            #b1 =b1[test_cols]\n",
    "            b0 = pd.concat([b1,b0],axis = 0,sort=False)\n",
    "    print(file_list[i])\n",
    "print(\"load done\")\n",
    "pd.options.display.float_format = '{:,.2f}'.format"
   ]
  },
  {
   "cell_type": "code",
   "execution_count": 12,
   "metadata": {},
   "outputs": [
    {
     "name": "stdout",
     "output_type": "stream",
     "text": [
      "time: 2.01 ms\n"
     ]
    }
   ],
   "source": [
    "features = [\n",
    "\"AGE_D1\",\n",
    "\"FSA\",\n",
    "\"POSTAL_CODE\",\n",
    "\"COMPANY_CODE\",\n",
    "\"COVERAGE_CODE_AUTOMOBILE\",\n",
    "\"DEDUCTIBLE_AMOUNT\",\n",
    "\"DISTANCE_DRIVEN_ANNUALLY\",\n",
    "\"LIMIT_1\",\n",
    "\"VEHICLE_CODE1\",\n",
    "\"VEHICLE_RATE_GROUP\",\n",
    "\"DRIVING_AGE\",\n",
    "\"VEHICLE_AGE\",\n",
    "\"MULTICAR_DISCOUNT_INDICATOR\",\n",
    "\"DRIVERS_NUM\",\n",
    "\"FULL_TERM_PREMIUM_COVERAGE\",\n",
    "\"DRIVER_SEX_CODE_D1\",\n",
    "\"AUTO_CLAIMS\",\n",
    "\"CONVICTION_NUM\",\n",
    "\"DRIVER_MARITAL_STATUS_CODE_D1\",\n",
    "'NEW_CITY_NAME',\n",
    "'PROVINCE_STATE_ABBREVIATION',\n",
    "\"COVERAGE_CODE_AUTOMOBILE_CLASS\",\n",
    "'VIN_SERIAL_NUMBER']"
   ]
  },
  {
   "cell_type": "code",
   "execution_count": 13,
   "metadata": {},
   "outputs": [
    {
     "name": "stdout",
     "output_type": "stream",
     "text": [
      "Original data shape (18641520, 47)\n",
      "After drop duplicates (10642450, 23)\n",
      "time: 1min 15s\n"
     ]
    }
   ],
   "source": [
    "full_mongo=b0[features].drop_duplicates()\n",
    "print('Original data shape {}'.format(b0.shape))\n",
    "print('After drop duplicates {}'.format(full_mongo.shape))"
   ]
  },
  {
   "cell_type": "code",
   "execution_count": 14,
   "metadata": {},
   "outputs": [
    {
     "name": "stdout",
     "output_type": "stream",
     "text": [
      "time: 692 ms\n"
     ]
    }
   ],
   "source": [
    "#the dataframe has postal code, latitude, longtitude, province and city\n",
    "#####     set the premium range bigger\n",
    "with adl.open(('/LeadGen/Raw/Silver/AUTO/Geolocation/postal_code_api.pkl'), 'rb') as f:\n",
    "    api_df = pickle.load(f)"
   ]
  },
  {
   "cell_type": "code",
   "execution_count": 15,
   "metadata": {},
   "outputs": [
    {
     "name": "stdout",
     "output_type": "stream",
     "text": [
      "time: 53.5 s\n"
     ]
    }
   ],
   "source": [
    "vin_lookup = pd.read_json(r'C:\\Users\\john.lan\\Desktop\\Trufla scripts\\MongoDB\\Data_Science_models\\vin_lookup.json').T.reset_index().rename(columns = {'index':'VIN_NUMBER'})"
   ]
  },
  {
   "cell_type": "code",
   "execution_count": 16,
   "metadata": {},
   "outputs": [
    {
     "name": "stdout",
     "output_type": "stream",
     "text": [
      "time: 7.67 s\n"
     ]
    }
   ],
   "source": [
    "full_mongo['VIN_SERIAL_NUMBER_1'] = full_mongo['VIN_SERIAL_NUMBER'].str[:8]+full_mongo['VIN_SERIAL_NUMBER'].str[9:]"
   ]
  },
  {
   "cell_type": "code",
   "execution_count": 17,
   "metadata": {},
   "outputs": [
    {
     "name": "stdout",
     "output_type": "stream",
     "text": [
      "time: 25.1 s\n"
     ]
    }
   ],
   "source": [
    "full_mongo = pd.merge(full_mongo,vin_lookup,left_on = 'VIN_SERIAL_NUMBER_1',right_on='VIN_NUMBER',how = 'left')"
   ]
  },
  {
   "cell_type": "code",
   "execution_count": 14,
   "metadata": {},
   "outputs": [
    {
     "name": "stdout",
     "output_type": "stream",
     "text": [
      "AGE_D1 0.9991803391113241\n",
      "POSTAL_CODE 1.0\n",
      "COMPANY_CODE 1.0\n",
      "COVERAGE_CODE_AUTOMOBILE 0.9997233350925903\n",
      "DEDUCTIBLE_AMOUNT 1.0\n",
      "DISTANCE_DRIVEN_ANNUALLY 0.9979271269331079\n",
      "DRIVERS_NUM 1.0\n",
      "FSA 0.9999193021543412\n",
      "VEHICLE_RATE_GROUP 0.9032180121349268\n",
      "FULL_TERM_PREMIUM_COVERAGE 0.7600420906435028\n",
      "LIMIT_1 1.0\n",
      "MULTICAR_DISCOUNT_INDICATOR 0.6638260210813962\n",
      "NEW_CITY_NAME 0.9999193021543412\n",
      "PROVINCE_STATE_ABBREVIATION 0.9999388424941515\n",
      "VEHICLE_CODE1 0.9923964592152712\n",
      "COVERAGE_CODE_AUTOMOBILE_CLASS 0.9927129563538327\n",
      "VEHICLE_USE_CODE 0.9981507135136293\n",
      "DRIVER_SEX_CODE_D1 0.9985569271162235\n",
      "YEAR_LICENSED 0.9159788874143865\n",
      "DRIVING_AGE 0.9159788874143865\n",
      "AUTO_CLAIMS 1.0\n",
      "CONVICTION_NUM 0.9999991545045275\n",
      "VEHICLE_AGE 0.9999508673186501\n",
      "VIN_SERIAL_NUMBER 0.9999497399913534\n",
      "time: 1min 18s\n"
     ]
    }
   ],
   "source": [
    "#completeness check\n",
    "for c in full_mongo.columns:\n",
    "    print(c,len(full_mongo[full_mongo[c].notnull()])/len(full_mongo))"
   ]
  },
  {
   "cell_type": "code",
   "execution_count": 11,
   "metadata": {},
   "outputs": [
    {
     "name": "stdout",
     "output_type": "stream",
     "text": [
      "AGE_D1 1.0\n",
      "FSA 0.9999210740902003\n",
      "POSTAL_CODE 1.0\n",
      "COMPANY_CODE 1.0\n",
      "COVERAGE_CODE_AUTOMOBILE 1.0\n",
      "DEDUCTIBLE_AMOUNT 1.0\n",
      "DISTANCE_DRIVEN_ANNUALLY 0.9985981455248747\n",
      "LIMIT_1 1.0\n",
      "VEHICLE_CODE1 1.0\n",
      "VEHICLE_RATE_GROUP 0.8931086750925067\n",
      "DRIVING_AGE 1.0\n",
      "VEHICLE_AGE 1.0\n",
      "MULTICAR_DISCOUNT_INDICATOR 0.6615558199030546\n",
      "DRIVERS_NUM 1.0\n",
      "FULL_TERM_PREMIUM_COVERAGE 1.0\n",
      "DRIVER_SEX_CODE_D1 0.9993206696658512\n",
      "AUTO_CLAIMS 1.0\n",
      "CONVICTION_NUM 0.9999990541502154\n",
      "DRIVER_MARITAL_STATUS_CODE_D1 0.9992097950522177\n",
      "NEW_CITY_NAME 0.9999210740902003\n",
      "PROVINCE_STATE_ABBREVIATION 0.9999450356180756\n",
      "COVERAGE_CODE_AUTOMOBILE_CLASS 1.0\n",
      "VIN_SERIAL_NUMBER 1.0\n",
      "VIN_SERIAL_NUMBER_1 1.0\n",
      "VIN_NUMBER 1.0\n",
      "extendedVehicleCode 1.0\n",
      "modelYear 1.0\n",
      "make 1.0\n",
      "model 1.0\n",
      "vehicleType 1.0\n",
      "bodyStyle 1.0\n",
      "driveTrain 1.0\n",
      "CSIOBodyType 1.0\n",
      "time: 2min 51s\n"
     ]
    }
   ],
   "source": [
    "#get complete data for full mongo df\n",
    "full_mongo['FULL_TERM_PREMIUM_COVERAGE'].fillna(0, inplace=True)\n",
    "full_mongo = full_mongo[ (full_mongo['AGE_D1'].notnull())\\\n",
    "                        &(full_mongo['VEHICLE_CODE1'].notnull())\\\n",
    "                        &(full_mongo['COVERAGE_CODE_AUTOMOBILE'].notnull())\\\n",
    "                        &(full_mongo['COVERAGE_CODE_AUTOMOBILE_CLASS'].notnull())\\\n",
    "                        &(full_mongo['DRIVING_AGE'].notnull()\n",
    "                        &(full_mongo['VIN_NUMBER'].notnull()))]\n",
    "\n",
    "\n",
    "\n",
    "for c in full_mongo.columns:\n",
    "    print(c, len(full_mongo[full_mongo[c].notnull()])/len(full_mongo))"
   ]
  },
  {
   "cell_type": "code",
   "execution_count": 28,
   "metadata": {},
   "outputs": [
    {
     "name": "stdout",
     "output_type": "stream",
     "text": [
      "time: 215 ms\n"
     ]
    }
   ],
   "source": [
    "#check top coverage codes that need to be predicted\n",
    "coverage_code_df = full_mongo.groupby('COVERAGE_CODE_AUTOMOBILE')['COVERAGE_CODE_AUTOMOBILE'].count().reset_index(name = 'count').sort_values(['count'], ascending=False)"
   ]
  },
  {
   "cell_type": "code",
   "execution_count": 50,
   "metadata": {},
   "outputs": [
    {
     "name": "stdout",
     "output_type": "stream",
     "text": [
      "time: 1.99 ms\n"
     ]
    }
   ],
   "source": [
    "coverage_code_list = coverage_code_df['COVERAGE_CODE_AUTOMOBILE'].unique().tolist()"
   ]
  },
  {
   "cell_type": "code",
   "execution_count": 51,
   "metadata": {},
   "outputs": [
    {
     "name": "stdout",
     "output_type": "stream",
     "text": [
      "AB 2761 Min is 0.0 Max is 8766.0 Mean is 340.82 25% is 114.0 75% is 426.0 95% is 1012.0\n",
      "TPBI 2393 Min is 0.0 Max is 5870.0 Mean is 352.28 25% is 212.0 75% is 388.0 95% is 855.0\n",
      "TPDC 2344 Min is 0.0 Max is 3396.0 Mean is 227.24 25% is 115.0 75% is 293.0 95% is 549.0\n",
      "UA 198 Min is 0.0 Max is 265.0 Mean is 15.48 25% is 8.0 75% is 19.0 95% is 35.0\n",
      "TPPD 1166 Min is -1.0 Max is 767.0 Mean is 11.27 25% is 4.85 75% is 14.0 95% is 31.0\n",
      "CMP 1027 Min is 0.0 Max is 3756.0 Mean is 118.98 25% is 48.0 75% is 147.0 95% is 341.0\n",
      "COL 1482 Min is 0.0 Max is 5974.0 Mean is 217.91 25% is 122.0 75% is 261.0 95% is 495.0\n",
      "DISMV 1 Min is 0.0 Max is 0.0 Mean is 0.00 25% is 0.0 75% is 0.0 95% is 0.0\n",
      "DISCF 1 Min is 0.0 Max is 0.0 Mean is 0.00 25% is 0.0 75% is 0.0 95% is 0.0\n",
      "44 119 Min is 0.0 Max is 277.0 Mean is 23.25 25% is 15.0 75% is 29.0 95% is 49.0\n",
      "20 108 Min is 0.0 Max is 310.0 Mean is 28.96 25% is 20.0 75% is 35.0 95% is 60.0\n",
      "44R 77 Min is 0.0 Max is 61.0 Mean is 14.70 25% is 7.0 75% is 23.0 95% is 29.0\n",
      "DISRN 1 Min is 0.0 Max is 0.0 Mean is 0.00 25% is 0.0 75% is 0.0 95% is 0.0\n",
      "DISMP 1 Min is 0.0 Max is 0.0 Mean is 0.00 25% is 0.0 75% is 0.0 95% is 0.0\n",
      "DISSN 1 Min is 0.0 Max is 0.0 Mean is 0.00 25% is 0.0 75% is 0.0 95% is 0.0\n",
      "27 68 Min is 0.0 Max is 1576.0 Mean is 26.81 25% is 16.0 75% is 40.0 95% is 50.0\n",
      "23A 2 Min is 0.0 Max is 60.0 Mean is 0.00 25% is 0.0 75% is 0.0 95% is 0.0\n",
      "CPP 88 Min is 0.0 Max is 118.0 Mean is 51.07 25% is 40.0 75% is 75.0 95% is 75.0\n",
      "AP 1442 Min is 0.0 Max is 3277.0 Mean is 347.64 25% is 202.0 75% is 428.0 95% is 763.0\n",
      "35 12 Min is 0.0 Max is 25.0 Mean is 4.49 25% is 0.0 75% is 10.0 95% is 10.0\n",
      "47 1 Min is 0.0 Max is 0.0 Mean is 0.00 25% is 0.0 75% is 0.0 95% is 0.0\n",
      "DISRD 1 Min is 0.0 Max is 0.0 Mean is 0.00 25% is 0.0 75% is 0.0 95% is 0.0\n",
      "DISVC 1 Min is 0.0 Max is 0.0 Mean is 0.00 25% is 0.0 75% is 0.0 95% is 0.0\n",
      "CLADV 15 Min is 0.0 Max is 60.0 Mean is 12.37 25% is 15.0 75% is 15.0 95% is 15.0\n",
      "CIMRB 331 Min is 0.0 Max is 647.0 Mean is 59.28 25% is 32.0 75% is 80.0 95% is 137.0\n",
      "DRBLO 20 Min is 0.0 Max is 120.0 Mean is 29.10 25% is 0.0 75% is 85.0 95% is 105.0\n",
      "TP 1472 Min is 0.0 Max is 8632.0 Mean is 560.34 25% is 363.0 75% is 592.0 95% is 1335.1499999999996\n",
      "LWD 2 Min is 0.0 Max is 10.0 Mean is 0.34 25% is 0.0 75% is 0.0 95% is 0.0\n",
      "PAK09 32 Min is 0.0 Max is 120.0 Mean is 69.64 25% is 53.0 75% is 85.0 95% is 85.0\n",
      "ZCOMB 1 Min is 0.0 Max is 0.0 Mean is 0.00 25% is 0.0 75% is 0.0 95% is 0.0\n",
      "DISGD 1 Min is 0.0 Max is 0.0 Mean is 0.00 25% is 0.0 75% is 0.0 95% is 0.0\n",
      "PAK06 57 Min is 0.0 Max is 142.0 Mean is 22.77 25% is 0.0 75% is 60.0 95% is 60.0\n",
      "13D 64 Min is -923.0 Max is 0.0 Mean is -2.27 25% is 0.0 75% is 0.0 95% is 0.0\n",
      "ZZAWE 5 Min is 0.0 Max is 100.0 Mean is 29.80 25% is 0.0 75% is 50.0 95% is 50.0\n",
      "43 322 Min is 0.0 Max is 776.0 Mean is 77.09 25% is 50.0 75% is 85.0 95% is 190.0\n",
      "ZDD5 1 Min is 0.0 Max is 0.0 Mean is 0.00 25% is 0.0 75% is 0.0 95% is 0.0\n",
      "CATIM 125 Min is 0.0 Max is 216.0 Mean is 19.53 25% is 10.0 75% is 25.0 95% is 47.0\n",
      "5 1 Min is 0.0 Max is 0.0 Mean is 0.00 25% is 0.0 75% is 0.0 95% is 0.0\n",
      "ZCX3 36 Min is 0.0 Max is 96.0 Mean is 58.90 25% is 65.0 75% is 75.0 95% is 75.0\n",
      "39 29 Min is 0.0 Max is 96.0 Mean is 49.81 25% is 30.0 75% is 60.0 95% is 62.0\n",
      "DISMI 1 Min is 0.0 Max is 0.0 Mean is 0.00 25% is 0.0 75% is 0.0 95% is 0.0\n",
      "DISLC 1 Min is 0.0 Max is 0.0 Mean is 0.00 25% is 0.0 75% is 0.0 95% is 0.0\n",
      "HSL 17 Min is 0.0 Max is 113.0 Mean is 5.03 25% is 0.0 75% is 0.0 95% is 50.0\n",
      "ZDDE 49 Min is 0.0 Max is 84.0 Mean is 49.47 25% is 50.0 75% is 50.0 95% is 80.0\n",
      "DISMC 1 Min is 0.0 Max is 0.0 Mean is 0.00 25% is 0.0 75% is 0.0 95% is 0.0\n",
      "DFB 50 Min is 0.0 Max is 97.0 Mean is 6.70 25% is 0.0 75% is 10.0 95% is 21.0\n",
      "MRB 170 Min is 0.0 Max is 447.0 Mean is 43.44 25% is 19.0 75% is 54.0 95% is 110.0\n",
      "DISNB 1 Min is 0.0 Max is 0.0 Mean is 0.00 25% is 0.0 75% is 0.0 95% is 0.0\n",
      "MCP 23 Min is 0.0 Max is 360.0 Mean is 25.12 25% is 13.0 75% is 40.0 95% is 40.0\n",
      "DISON 1 Min is 0.0 Max is 0.0 Mean is 0.00 25% is 0.0 75% is 0.0 95% is 0.0\n",
      "ZCSD 58 Min is 145.0 Max is 214.0 Mean is 164.05 25% is 160.0 75% is 169.66666666666666 95% is 185.0\n",
      "DRALX 5 Min is 0.0 Max is 105.0 Mean is 15.34 25% is 0.0 75% is 0.0 95% is 105.0\n",
      "PAK08 45 Min is 60.0 Max is 305.0 Mean is 169.67 25% is 125.0 75% is 205.0 95% is 255.0\n",
      "TPODC 556 Min is 0.0 Max is 820.0 Mean is 118.04 25% is 47.0 75% is 160.0 95% is 298.0\n",
      "TPOBI 657 Min is 0.0 Max is 1389.0 Mean is 229.59 25% is 104.0 75% is 302.0 95% is 597.1999999999998\n",
      "TPOPD 240 Min is 0.0 Max is 76.0 Mean is 7.03 25% is 1.0 75% is 10.0 95% is 26.954999999999835\n",
      "ABOD 522 Min is 0.0 Max is 1257.0 Mean is 178.86 25% is 75.5 75% is 253.0 95% is 443.9000000000001\n",
      "43E 272 Min is 0.0 Max is 526.0 Mean is 87.35 25% is 39.0 75% is 117.0 95% is 206.29999999999973\n",
      "ZCX1 15 Min is 0.0 Max is 70.0 Mean is 47.64 25% is 50.0 75% is 60.0 95% is 60.0\n",
      "DISTE 1 Min is 0.0 Max is 0.0 Mean is 0.00 25% is 0.0 75% is 0.0 95% is 0.0\n",
      "COLOD 440 Min is 0.0 Max is 829.0 Mean is 144.83 25% is 61.75 75% is 199.0 95% is 367.25\n",
      "ZDISL 1 Min is 0.0 Max is 0.0 Mean is 0.00 25% is 0.0 75% is 0.0 95% is 0.0\n",
      "19A 3 Min is 0.0 Max is 57.0 Mean is 0.11 25% is 0.0 75% is 0.0 95% is 0.0\n",
      "UAOD 42 Min is 0.0 Max is 44.0 Mean is 8.73 25% is 3.0 75% is 12.0 95% is 23.0\n",
      "DISSC 1 Min is 0.0 Max is 0.0 Mean is 0.00 25% is 0.0 75% is 0.0 95% is 0.0\n",
      "DISTX 1 Min is 0.0 Max is 0.0 Mean is 0.00 25% is 0.0 75% is 0.0 95% is 0.0\n",
      "DISOC 1 Min is 0.0 Max is 0.0 Mean is 0.00 25% is 0.0 75% is 0.0 95% is 0.0\n",
      "DISDR 1 Min is 0.0 Max is 0.0 Mean is 0.00 25% is 0.0 75% is 0.0 95% is 0.0\n",
      "WIB 185 Min is 0.0 Max is 570.0 Mean is 62.45 25% is 11.0 75% is 78.0 95% is 210.0\n",
      "28A 1 Min is 0.0 Max is 0.0 Mean is 0.00 25% is 0.0 75% is 0.0 95% is 0.0\n",
      "SURCN 1 Min is 0.0 Max is 0.0 Mean is 0.00 25% is 0.0 75% is 0.0 95% is 0.0\n",
      "ZNB1 1 Min is 0.0 Max is 0.0 Mean is 0.00 25% is 0.0 75% is 0.0 95% is 0.0\n",
      "DISGR 1 Min is 0.0 Max is 0.0 Mean is 0.00 25% is 0.0 75% is 0.0 95% is 0.0\n",
      "Z43O 59 Min is 0.0 Max is 430.0 Mean is 149.08 25% is 65.0 75% is 200.0 95% is 345.0\n",
      "ZDCLF 1 Min is 0.0 Max is 0.0 Mean is 0.00 25% is 0.0 75% is 0.0 95% is 0.0\n",
      "ZCS2 72 Min is 0.0 Max is 226.79999999999998 Mean is 115.72 25% is 84.0 75% is 170.0 95% is 190.0\n",
      "43A 81 Min is 0.0 Max is 240.0 Mean is 61.19 25% is 50.25 75% is 70.0 95% is 95.0\n",
      "43R 69 Min is 0.0 Max is 190.0 Mean is 51.66 25% is 30.0 75% is 70.0 95% is 97.59999999999991\n",
      "ZVSCD 1 Min is 0.0 Max is 0.0 Mean is 0.00 25% is 0.0 75% is 0.0 95% is 0.0\n",
      "ZDSLD 1 Min is 0.0 Max is 0.0 Mean is 0.00 25% is 0.0 75% is 0.0 95% is 0.0\n",
      "CHHMB 130 Min is 0.0 Max is 539.0 Mean is 48.90 25% is 23.0 75% is 79.0 95% is 112.0\n",
      "DISNC 1 Min is 0.0 Max is 0.0 Mean is 0.00 25% is 0.0 75% is 0.0 95% is 0.0\n",
      "ZAEBS 1 Min is 0.0 Max is 0.0 Mean is 0.00 25% is 0.0 75% is 0.0 95% is 0.0\n",
      "2 9 Min is 0.0 Max is 11.0 Mean is 1.50 25% is 0.0 75% is 5.0 95% is 5.0\n",
      "SURCL 1 Min is 0.0 Max is 0.0 Mean is 0.00 25% is 0.0 75% is 0.0 95% is 0.0\n",
      "ZCX2 10 Min is 0.0 Max is 76.0 Mean is 51.46 25% is 55.0 75% is 65.0 95% is 65.0\n",
      "ZCPE 12 Min is 0.0 Max is 45.0 Mean is 29.96 25% is 30.0 75% is 30.0 95% is 30.0\n",
      "DISDA 1 Min is 0.0 Max is 0.0 Mean is 0.00 25% is 0.0 75% is 0.0 95% is 0.0\n"
     ]
    },
    {
     "ename": "KeyboardInterrupt",
     "evalue": "",
     "output_type": "error",
     "traceback": [
      "\u001b[1;31m---------------------------------------------------------------------------\u001b[0m",
      "\u001b[1;31mKeyboardInterrupt\u001b[0m                         Traceback (most recent call last)",
      "\u001b[1;32m<ipython-input-51-bb74df09e7bb>\u001b[0m in \u001b[0;36m<module>\u001b[1;34m\u001b[0m\n\u001b[0;32m      1\u001b[0m \u001b[1;32mfor\u001b[0m \u001b[0mi\u001b[0m \u001b[1;32min\u001b[0m \u001b[0mcoverage_code_list\u001b[0m\u001b[1;33m:\u001b[0m\u001b[1;33m\u001b[0m\u001b[1;33m\u001b[0m\u001b[0m\n\u001b[1;32m----> 2\u001b[1;33m     print(i ,full_mongo[full_mongo['COVERAGE_CODE_AUTOMOBILE']==i]['FULL_TERM_PREMIUM_COVERAGE'].nunique(),\n\u001b[0m\u001b[0;32m      3\u001b[0m           \u001b[1;34m'Min is '\u001b[0m\u001b[1;33m+\u001b[0m\u001b[0mstr\u001b[0m\u001b[1;33m(\u001b[0m\u001b[0mfull_mongo\u001b[0m\u001b[1;33m[\u001b[0m\u001b[0mfull_mongo\u001b[0m\u001b[1;33m[\u001b[0m\u001b[1;34m'COVERAGE_CODE_AUTOMOBILE'\u001b[0m\u001b[1;33m]\u001b[0m\u001b[1;33m==\u001b[0m\u001b[0mi\u001b[0m\u001b[1;33m]\u001b[0m\u001b[1;33m[\u001b[0m\u001b[1;34m'FULL_TERM_PREMIUM_COVERAGE'\u001b[0m\u001b[1;33m]\u001b[0m\u001b[1;33m.\u001b[0m\u001b[0mmin\u001b[0m\u001b[1;33m(\u001b[0m\u001b[1;33m)\u001b[0m\u001b[1;33m)\u001b[0m\u001b[1;33m,\u001b[0m\u001b[1;33m\u001b[0m\u001b[1;33m\u001b[0m\u001b[0m\n\u001b[0;32m      4\u001b[0m           \u001b[1;34m'Max is '\u001b[0m\u001b[1;33m+\u001b[0m\u001b[0mstr\u001b[0m\u001b[1;33m(\u001b[0m\u001b[0mfull_mongo\u001b[0m\u001b[1;33m[\u001b[0m\u001b[0mfull_mongo\u001b[0m\u001b[1;33m[\u001b[0m\u001b[1;34m'COVERAGE_CODE_AUTOMOBILE'\u001b[0m\u001b[1;33m]\u001b[0m\u001b[1;33m==\u001b[0m\u001b[0mi\u001b[0m\u001b[1;33m]\u001b[0m\u001b[1;33m[\u001b[0m\u001b[1;34m'FULL_TERM_PREMIUM_COVERAGE'\u001b[0m\u001b[1;33m]\u001b[0m\u001b[1;33m.\u001b[0m\u001b[0mmax\u001b[0m\u001b[1;33m(\u001b[0m\u001b[1;33m)\u001b[0m\u001b[1;33m)\u001b[0m\u001b[1;33m,\u001b[0m\u001b[1;33m\u001b[0m\u001b[1;33m\u001b[0m\u001b[0m\n\u001b[0;32m      5\u001b[0m           \u001b[1;34m'Mean is {:.2f}'\u001b[0m\u001b[1;33m.\u001b[0m\u001b[0mformat\u001b[0m\u001b[1;33m(\u001b[0m\u001b[0mfull_mongo\u001b[0m\u001b[1;33m[\u001b[0m\u001b[0mfull_mongo\u001b[0m\u001b[1;33m[\u001b[0m\u001b[1;34m'COVERAGE_CODE_AUTOMOBILE'\u001b[0m\u001b[1;33m]\u001b[0m\u001b[1;33m==\u001b[0m\u001b[0mi\u001b[0m\u001b[1;33m]\u001b[0m\u001b[1;33m[\u001b[0m\u001b[1;34m'FULL_TERM_PREMIUM_COVERAGE'\u001b[0m\u001b[1;33m]\u001b[0m\u001b[1;33m.\u001b[0m\u001b[0mmean\u001b[0m\u001b[1;33m(\u001b[0m\u001b[1;33m)\u001b[0m\u001b[1;33m)\u001b[0m\u001b[1;33m,\u001b[0m\u001b[1;33m\u001b[0m\u001b[1;33m\u001b[0m\u001b[0m\n",
      "\u001b[1;32mC:\\Anaconda\\lib\\site-packages\\pandas\\core\\frame.py\u001b[0m in \u001b[0;36m__getitem__\u001b[1;34m(self, key)\u001b[0m\n\u001b[0;32m   2984\u001b[0m         \u001b[1;31m# Do we have a (boolean) 1d indexer?\u001b[0m\u001b[1;33m\u001b[0m\u001b[1;33m\u001b[0m\u001b[1;33m\u001b[0m\u001b[0m\n\u001b[0;32m   2985\u001b[0m         \u001b[1;32mif\u001b[0m \u001b[0mcom\u001b[0m\u001b[1;33m.\u001b[0m\u001b[0mis_bool_indexer\u001b[0m\u001b[1;33m(\u001b[0m\u001b[0mkey\u001b[0m\u001b[1;33m)\u001b[0m\u001b[1;33m:\u001b[0m\u001b[1;33m\u001b[0m\u001b[1;33m\u001b[0m\u001b[0m\n\u001b[1;32m-> 2986\u001b[1;33m             \u001b[1;32mreturn\u001b[0m \u001b[0mself\u001b[0m\u001b[1;33m.\u001b[0m\u001b[0m_getitem_bool_array\u001b[0m\u001b[1;33m(\u001b[0m\u001b[0mkey\u001b[0m\u001b[1;33m)\u001b[0m\u001b[1;33m\u001b[0m\u001b[1;33m\u001b[0m\u001b[0m\n\u001b[0m\u001b[0;32m   2987\u001b[0m \u001b[1;33m\u001b[0m\u001b[0m\n\u001b[0;32m   2988\u001b[0m         \u001b[1;31m# We are left with two options: a single key, and a collection of keys,\u001b[0m\u001b[1;33m\u001b[0m\u001b[1;33m\u001b[0m\u001b[1;33m\u001b[0m\u001b[0m\n",
      "\u001b[1;32mC:\\Anaconda\\lib\\site-packages\\pandas\\core\\frame.py\u001b[0m in \u001b[0;36m_getitem_bool_array\u001b[1;34m(self, key)\u001b[0m\n\u001b[0;32m   3037\u001b[0m         \u001b[1;31m# be reindexed to match DataFrame rows\u001b[0m\u001b[1;33m\u001b[0m\u001b[1;33m\u001b[0m\u001b[1;33m\u001b[0m\u001b[0m\n\u001b[0;32m   3038\u001b[0m         \u001b[0mkey\u001b[0m \u001b[1;33m=\u001b[0m \u001b[0mcheck_bool_indexer\u001b[0m\u001b[1;33m(\u001b[0m\u001b[0mself\u001b[0m\u001b[1;33m.\u001b[0m\u001b[0mindex\u001b[0m\u001b[1;33m,\u001b[0m \u001b[0mkey\u001b[0m\u001b[1;33m)\u001b[0m\u001b[1;33m\u001b[0m\u001b[1;33m\u001b[0m\u001b[0m\n\u001b[1;32m-> 3039\u001b[1;33m         \u001b[0mindexer\u001b[0m \u001b[1;33m=\u001b[0m \u001b[0mkey\u001b[0m\u001b[1;33m.\u001b[0m\u001b[0mnonzero\u001b[0m\u001b[1;33m(\u001b[0m\u001b[1;33m)\u001b[0m\u001b[1;33m[\u001b[0m\u001b[1;36m0\u001b[0m\u001b[1;33m]\u001b[0m\u001b[1;33m\u001b[0m\u001b[1;33m\u001b[0m\u001b[0m\n\u001b[0m\u001b[0;32m   3040\u001b[0m         \u001b[1;32mreturn\u001b[0m \u001b[0mself\u001b[0m\u001b[1;33m.\u001b[0m\u001b[0mtake\u001b[0m\u001b[1;33m(\u001b[0m\u001b[0mindexer\u001b[0m\u001b[1;33m,\u001b[0m \u001b[0maxis\u001b[0m\u001b[1;33m=\u001b[0m\u001b[1;36m0\u001b[0m\u001b[1;33m)\u001b[0m\u001b[1;33m\u001b[0m\u001b[1;33m\u001b[0m\u001b[0m\n\u001b[0;32m   3041\u001b[0m \u001b[1;33m\u001b[0m\u001b[0m\n",
      "\u001b[1;31mKeyboardInterrupt\u001b[0m: "
     ]
    },
    {
     "name": "stdout",
     "output_type": "stream",
     "text": [
      "time: 1min 23s\n"
     ]
    }
   ],
   "source": [
    "for i in coverage_code_list:\n",
    "    print(i ,full_mongo[full_mongo['COVERAGE_CODE_AUTOMOBILE']==i]['FULL_TERM_PREMIUM_COVERAGE'].nunique(),\n",
    "          'Min is '+str(full_mongo[full_mongo['COVERAGE_CODE_AUTOMOBILE']==i]['FULL_TERM_PREMIUM_COVERAGE'].min()), \n",
    "          'Max is '+str(full_mongo[full_mongo['COVERAGE_CODE_AUTOMOBILE']==i]['FULL_TERM_PREMIUM_COVERAGE'].max()),\n",
    "          'Mean is {:.2f}'.format(full_mongo[full_mongo['COVERAGE_CODE_AUTOMOBILE']==i]['FULL_TERM_PREMIUM_COVERAGE'].mean()),\n",
    "          '25% is '+str(full_mongo[full_mongo['COVERAGE_CODE_AUTOMOBILE']==i]['FULL_TERM_PREMIUM_COVERAGE'].quantile(0.25)),\n",
    "          '75% is '+str(full_mongo[full_mongo['COVERAGE_CODE_AUTOMOBILE']==i]['FULL_TERM_PREMIUM_COVERAGE'].quantile(0.75)),\n",
    "          '95% is '+str(full_mongo[full_mongo['COVERAGE_CODE_AUTOMOBILE']==i]['FULL_TERM_PREMIUM_COVERAGE'].quantile(0.95)))"
   ]
  },
  {
   "cell_type": "code",
   "execution_count": 62,
   "metadata": {},
   "outputs": [
    {
     "name": "stdout",
     "output_type": "stream",
     "text": [
      "AB 4569 Min is -265.0 Max is 8766.0 Mean is 225.80 25% is 68.0 75% is 282.0 95% is 732.0\n",
      "44 279 Min is -36.0 Max is 440.0 Mean is 25.35 25% is 16.0 75% is 35.0 95% is 41.0\n",
      "TPDC 3885 Min is -161.0 Max is 34597.0 Mean is 214.52 25% is 112.0 75% is 270.0 95% is 511.0\n",
      "TPBI 3978 Min is -408.0 Max is 70732.0 Mean is 319.11 25% is 192.0 75% is 353.0 95% is 736.0\n",
      "CMP 2336 Min is -201.0 Max is 6936.0 Mean is 175.84 25% is 64.0 75% is 236.0 95% is 491.0\n",
      "COL 3612 Min is -194.0 Max is 18915.0 Mean is 289.70 25% is 145.0 75% is 324.0 95% is 785.0\n",
      "UA 299 Min is -13.0 Max is 268.0 Mean is 13.99 25% is 8.0 75% is 17.0 95% is 27.0\n",
      "TPPD 1768 Min is -8.0 Max is 1963.0 Mean is 10.55 25% is 0.0 75% is 13.0 95% is 26.0\n",
      "DISMV 1 Min is 0.0 Max is 0.0 Mean is 0.00 25% is 0.0 75% is 0.0 95% is 0.0\n",
      "DISCF 1 Min is 0.0 Max is 0.0 Mean is 0.00 25% is 0.0 75% is 0.0 95% is 0.0\n",
      "20 323 Min is -30.0 Max is 370.0 Mean is 32.06 25% is 21.0 75% is 44.0 95% is 60.0\n",
      "DISRN 1 Min is 0.0 Max is 0.0 Mean is 0.00 25% is 0.0 75% is 0.0 95% is 0.0\n",
      "44R 92 Min is 0.0 Max is 167.0 Mean is 16.18 25% is 11.0 75% is 24.0 95% is 29.0\n",
      "27 162 Min is -30.0 Max is 4796.0 Mean is 22.02 25% is 15.0 75% is 35.0 95% is 43.63636363636363\n",
      "TP 4596 Min is -82.0 Max is 28380.0 Mean is 829.08 25% is 421.0 75% is 1033.0 95% is 2099.0\n",
      "13D 719 Min is -1325.4545454545455 Max is 0.0 Mean is -6.84 25% is 0.0 75% is 0.0 95% is 0.0\n",
      "DISMP 1 Min is 0.0 Max is 0.0 Mean is 0.00 25% is 0.0 75% is 0.0 95% is 0.0\n",
      "23A 2 Min is 0.0 Max is 60.0 Mean is 0.00 25% is 0.0 75% is 0.0 95% is 0.0\n",
      "CPP 252 Min is -40.0 Max is 316.0 Mean is 40.23 25% is 0.0 75% is 70.0 95% is 75.0\n",
      "AP 2501 Min is -275.0 Max is 6773.0 Mean is 334.46 25% is 199.0 75% is 409.0 95% is 719.0\n",
      "PAK09 141 Min is 0.0 Max is 720.0 Mean is 47.47 25% is 30.0 75% is 60.0 95% is 85.0\n",
      "DISSN 1 Min is 0.0 Max is 0.0 Mean is 0.00 25% is 0.0 75% is 0.0 95% is 0.0\n",
      "CLADV 35 Min is 0.0 Max is 180.0 Mean is 13.27 25% is 15.0 75% is 15.0 95% is 15.0\n",
      "DISVC 1 Min is 0.0 Max is 0.0 Mean is 0.00 25% is 0.0 75% is 0.0 95% is 0.0\n",
      "39 82 Min is 0.0 Max is 720.0 Mean is 38.66 25% is 30.0 75% is 60.0 95% is 60.0\n",
      "47 2 Min is 0.0 Max is 4.0 Mean is 0.00 25% is 0.0 75% is 0.0 95% is 0.0\n",
      "DRBLO 95 Min is 0.0 Max is 192.0 Mean is 22.41 25% is 0.0 75% is 40.0 95% is 105.0\n",
      "MCP 57 Min is 0.0 Max is 360.0 Mean is 18.27 25% is 13.0 75% is 25.0 95% is 40.0\n",
      "ZCOMB 1 Min is 0.0 Max is 0.0 Mean is 0.00 25% is 0.0 75% is 0.0 95% is 0.0\n",
      "DISGD 1 Min is 0.0 Max is 0.0 Mean is 0.00 25% is 0.0 75% is 0.0 95% is 0.0\n",
      "DISRD 1 Min is 0.0 Max is 0.0 Mean is 0.00 25% is 0.0 75% is 0.0 95% is 0.0\n",
      "SRAP 2 Min is 0.0 Max is 40.0 Mean is 0.02 25% is 0.0 75% is 0.0 95% is 0.0\n",
      "35 16 Min is 0.0 Max is 25.0 Mean is 6.19 25% is 0.0 75% is 10.0 95% is 10.0\n",
      "DISOC 1 Min is 0.0 Max is 0.0 Mean is 0.00 25% is 0.0 75% is 0.0 95% is 0.0\n",
      "CIMRB 504 Min is 0.0 Max is 948.0 Mean is 56.63 25% is 31.0 75% is 80.0 95% is 127.0\n",
      "2 41 Min is 0.0 Max is 53.0 Mean is 2.28 25% is 0.0 75% is 5.0 95% is 6.0\n",
      "ZAFW 167 Min is 5.0 Max is 240.0 Mean is 33.29 25% is 24.0 75% is 38.0 95% is 72.0\n",
      "CATIM 219 Min is 0.0 Max is 310.0 Mean is 18.94 25% is 11.0 75% is 25.0 95% is 42.0\n",
      "ZDD5 1 Min is 0.0 Max is 0.0 Mean is 0.00 25% is 0.0 75% is 0.0 95% is 0.0\n",
      "5 1 Min is 0.0 Max is 0.0 Mean is 0.00 25% is 0.0 75% is 0.0 95% is 0.0\n",
      "HSL 50 Min is 0.0 Max is 113.0 Mean is 11.99 25% is 0.0 75% is 34.0 95% is 50.0\n",
      "ZVSCD 1 Min is 0.0 Max is 0.0 Mean is 0.00 25% is 0.0 75% is 0.0 95% is 0.0\n",
      "ZZAWE 5 Min is 0.0 Max is 100.0 Mean is 27.01 25% is 0.0 75% is 40.0 95% is 50.0\n",
      "PAK06 101 Min is 0.0 Max is 142.0 Mean is 22.66 25% is 0.0 75% is 30.0 95% is 71.0\n",
      "43 508 Min is -60.0 Max is 1342.0 Mean is 88.69 25% is 55.0 75% is 108.0 95% is 206.0\n",
      "LWD 4 Min is 0.0 Max is 10.0 Mean is 1.07 25% is 0.0 75% is 0.0 95% is 10.0\n",
      "6A 151 Min is 0.0 Max is 345.0 Mean is 1.60 25% is 0.0 75% is 0.0 95% is 0.0\n",
      "38 15 Min is 0.0 Max is 276.0 Mean is 0.08 25% is 0.0 75% is 0.0 95% is 0.0\n",
      "MRB 292 Min is 0.0 Max is 563.0 Mean is 50.20 25% is 24.0 75% is 68.0 95% is 120.0\n",
      "ZDDE 171 Min is 0.0 Max is 90.85714285714286 Mean is 46.29 25% is 50.0 75% is 50.0 95% is 80.0\n",
      "ZCAP 1 Min is 0.0 Max is 0.0 Mean is 0.00 25% is 0.0 75% is 0.0 95% is 0.0\n",
      "DISMI 1 Min is 0.0 Max is 0.0 Mean is 0.00 25% is 0.0 75% is 0.0 95% is 0.0\n",
      "DISON 1 Min is 0.0 Max is 0.0 Mean is 0.00 25% is 0.0 75% is 0.0 95% is 0.0\n",
      "ZCX3 92 Min is 0.0 Max is 96.0 Mean is 60.12 25% is 65.0 75% is 75.0 95% is 75.0\n",
      "DISMC 1 Min is 0.0 Max is 0.0 Mean is 0.00 25% is 0.0 75% is 0.0 95% is 0.0\n",
      "DISNB 1 Min is 0.0 Max is 0.0 Mean is 0.00 25% is 0.0 75% is 0.0 95% is 0.0\n",
      "PAK08 123 Min is 0.0 Max is 315.0 Mean is 124.81 25% is 77.0 75% is 160.0 95% is 255.0\n",
      "DFB 94 Min is 0.0 Max is 144.0 Mean is 4.15 25% is 0.0 75% is 6.0 95% is 16.0\n",
      "DISLC 1 Min is 0.0 Max is 0.0 Mean is 0.00 25% is 0.0 75% is 0.0 95% is 0.0\n",
      "DISNC 1 Min is 0.0 Max is 0.0 Mean is 0.00 25% is 0.0 75% is 0.0 95% is 0.0\n",
      "DISTE 1 Min is 0.0 Max is 0.0 Mean is 0.00 25% is 0.0 75% is 0.0 95% is 0.0\n",
      "43R 219 Min is 0.0 Max is 720.0 Mean is 51.53 25% is 30.0 75% is 62.0 95% is 103.0\n",
      "DRALX 7 Min is 0.0 Max is 105.0 Mean is 13.80 25% is 0.0 75% is 0.0 95% is 105.0\n",
      "ZCSD 177 Min is 0.0 Max is 217.09090909090907 Mean is 163.61 25% is 160.0 75% is 160.0 95% is 185.0\n",
      "SURCX 1 Min is 0.0 Max is 0.0 Mean is 0.00 25% is 0.0 75% is 0.0 95% is 0.0\n",
      "13C 97 Min is -158.0 Max is 0.0 Mean is -2.71 25% is 0.0 75% is 0.0 95% is 0.0\n",
      "DISTX 1 Min is 0.0 Max is 0.0 Mean is 0.00 25% is 0.0 75% is 0.0 95% is 0.0\n",
      "ZDISL 1 Min is 0.0 Max is 0.0 Mean is 0.00 25% is 0.0 75% is 0.0 95% is 0.0\n",
      "ABOD 749 Min is 0.0 Max is 1300.0 Mean is 125.74 25% is 0.0 75% is 188.0 95% is 387.0\n",
      "Z43O 382 Min is 0.0 Max is 430.0 Mean is 151.96 25% is 65.0 75% is 200.0 95% is 345.0\n",
      "ZNB1 1 Min is 0.0 Max is 0.0 Mean is 0.00 25% is 0.0 75% is 0.0 95% is 0.0\n",
      "ZCX2 71 Min is 0.0 Max is 76.0 Mean is 50.07 25% is 55.0 75% is 65.0 95% is 65.0\n",
      "Z49Y 7 Min is 0.0 Max is 16.0 Mean is 14.99 25% is 15.0 75% is 15.0 95% is 15.0\n",
      "TPOBI 919 Min is 0.0 Max is 2809.0 Mean is 211.67 25% is 95.0 75% is 282.0 95% is 547.0\n",
      "TPOPD 395 Min is 0.0 Max is 130.0 Mean is 6.95 25% is 0.0 75% is 9.05 95% is 25.0\n",
      "TPODC 877 Min is 0.0 Max is 2194.0 Mean is 119.11 25% is 52.0 75% is 158.0 95% is 292.57000000000045\n",
      "COLOD 795 Min is 0.0 Max is 2791.0 Mean is 178.13 25% is 79.0 75% is 231.0 95% is 448.0\n",
      "ZCX1 57 Min is 0.0 Max is 70.0 Mean is 47.82 25% is 50.0 75% is 60.0 95% is 60.0\n",
      "ZLOYD 1 Min is 0.0 Max is 0.0 Mean is 0.00 25% is 0.0 75% is 0.0 95% is 0.0\n",
      "ZNB2 1 Min is 0.0 Max is 0.0 Mean is 0.00 25% is 0.0 75% is 0.0 95% is 0.0\n",
      "ZPKDI 1 Min is 0.0 Max is 0.0 Mean is 0.00 25% is 0.0 75% is 0.0 95% is 0.0\n",
      "18 466 Min is 0.0 Max is 1045.0 Mean is 120.39 25% is 63.0 75% is 152.0 95% is 268.0\n",
      "UAOD 71 Min is 0.0 Max is 58.0 Mean is 7.27 25% is 3.0 75% is 8.0 95% is 23.0\n",
      "ZRPP 121 Min is 0.0 Max is 644.0 Mean is 64.76 25% is 68.57142857142857 75% is 70.0 95% is 83.0\n",
      "ZAEBS 1 Min is 0.0 Max is 0.0 Mean is 0.00 25% is 0.0 75% is 0.0 95% is 0.0\n",
      "19A 33 Min is 0.0 Max is 4060.0 Mean is 8.94 25% is 0.0 75% is 0.0 95% is 30.0\n",
      "ZCPE 42 Min is 0.0 Max is 48.0 Mean is 30.13 25% is 30.0 75% is 30.0 95% is 30.0\n",
      "ZDISE 1 Min is 0.0 Max is 0.0 Mean is 0.00 25% is 0.0 75% is 0.0 95% is 0.0\n",
      "DISDA 1 Min is 0.0 Max is 0.0 Mean is 0.00 25% is 0.0 75% is 0.0 95% is 0.0\n",
      "ZCP9 1 Min is 0.0 Max is 0.0 Mean is 0.00 25% is 0.0 75% is 0.0 95% is 0.0\n",
      "DISGR 1 Min is 0.0 Max is 0.0 Mean is 0.00 25% is 0.0 75% is 0.0 95% is 0.0\n",
      "28A 1 Min is 0.0 Max is 0.0 Mean is 0.00 25% is 0.0 75% is 0.0 95% is 0.0\n",
      "43E 408 Min is 0.0 Max is 1422.0 Mean is 93.86 25% is 41.0 75% is 125.0 95% is 227.0\n",
      "ZNB0 1 Min is 0.0 Max is 0.0 Mean is 0.00 25% is 0.0 75% is 0.0 95% is 0.0\n",
      "ZFLCV 1 Min is 0.0 Max is 0.0 Mean is 0.00 25% is 0.0 75% is 0.0 95% is 0.0\n",
      "WIB 293 Min is 0.0 Max is 580.0 Mean is 67.11 25% is 19.0 75% is 86.0 95% is 210.0\n",
      "ZCS1 95 Min is 0.0 Max is 202.0 Mean is 125.45 25% is 140.0 75% is 150.0 95% is 175.0\n",
      "DISED 1 Min is 0.0 Max is 0.0 Mean is 0.00 25% is 0.0 75% is 0.0 95% is 0.0\n",
      "SURCN 1 Min is 0.0 Max is 0.0 Mean is 0.00 25% is 0.0 75% is 0.0 95% is 0.0\n",
      "43A 323 Min is 0.0 Max is 766.0 Mean is 74.93 25% is 58.0 75% is 86.0 95% is 164.0\n",
      "time: 20min 6s\n"
     ]
    }
   ],
   "source": [
    "for i in coverage_code_list:\n",
    "    print(i ,full_mongo[full_mongo['COVERAGE_CODE_AUTOMOBILE']==i]['FULL_TERM_PREMIUM_COVERAGE'].nunique(),\n",
    "          'Min is '+str(full_mongo[full_mongo['COVERAGE_CODE_AUTOMOBILE']==i]['FULL_TERM_PREMIUM_COVERAGE'].min()), \n",
    "          'Max is '+str(full_mongo[full_mongo['COVERAGE_CODE_AUTOMOBILE']==i]['FULL_TERM_PREMIUM_COVERAGE'].max()),\n",
    "          'Mean is {:.2f}'.format(full_mongo[full_mongo['COVERAGE_CODE_AUTOMOBILE']==i]['FULL_TERM_PREMIUM_COVERAGE'].mean()),\n",
    "          '25% is '+str(full_mongo[full_mongo['COVERAGE_CODE_AUTOMOBILE']==i]['FULL_TERM_PREMIUM_COVERAGE'].quantile(0.25)),\n",
    "          '75% is '+str(full_mongo[full_mongo['COVERAGE_CODE_AUTOMOBILE']==i]['FULL_TERM_PREMIUM_COVERAGE'].quantile(0.75)),\n",
    "          '95% is '+str(full_mongo[full_mongo['COVERAGE_CODE_AUTOMOBILE']==i]['FULL_TERM_PREMIUM_COVERAGE'].quantile(0.95)))"
   ]
  },
  {
   "cell_type": "markdown",
   "metadata": {},
   "source": [
    "full_mongo['MULTICAR_DISCOUNT_INDICATOR'] = full_mongo['MULTICAR_DISCOUNT_INDICATOR'].apply(lambda x: 1 if x == 'Y' else 0)\n",
    "zcode = full_mongo[full_mongo['COVERAGE_CODE_AUTOMOBILE_CLASS']=='ZCODE']\n",
    "discount_code = full_mongo[full_mongo['COVERAGE_CODE_AUTOMOBILE_CLASS']=='AUTOMOBILE_DISCOUNT_CODES']\n",
    "surcharge = full_mongo[full_mongo['COVERAGE_CODE_AUTOMOBILE_CLASS']=='AUTOMOBILE_SURCHARGE_CODES']\n",
    "full_mongo = full_mongo[(full_mongo.COVERAGE_CODE_AUTOMOBILE_CLASS != 'ZCODE')\n",
    "            &(full_mongo.COVERAGE_CODE_AUTOMOBILE_CLASS != 'AUTOMOBILE_DISCOUNT_CODES')\n",
    "            &(full_mongo.COVERAGE_CODE_AUTOMOBILE_CLASS.notnull())]"
   ]
  },
  {
   "cell_type": "code",
   "execution_count": 18,
   "metadata": {},
   "outputs": [
    {
     "name": "stdout",
     "output_type": "stream",
     "text": [
      "time: 8.74 s\n"
     ]
    }
   ],
   "source": [
    "b1 = pd.merge(full_mongo,api_df,left_on='POSTAL_CODE',right_on='POSTAL_CODE',how='left')"
   ]
  },
  {
   "cell_type": "code",
   "execution_count": 53,
   "metadata": {},
   "outputs": [
    {
     "name": "stdout",
     "output_type": "stream",
     "text": [
      "time: 3.63 s\n"
     ]
    }
   ],
   "source": [
    "zcode = pd.merge(zcode,api_df,left_on='POSTAL_CODE',right_on='POSTAL_CODE',how='left')\n",
    "zcode = zcode[(zcode['LONGITUDE'].notnull())\n",
    "        &(zcode['DISTANCE_DRIVEN_ANNUALLY'].notnull())\n",
    "        &(zcode['CITY'].notnull())\n",
    "        &(b1['DRIVER_SEX_CODE_D1'].notnull())]"
   ]
  },
  {
   "cell_type": "code",
   "execution_count": 19,
   "metadata": {},
   "outputs": [
    {
     "name": "stdout",
     "output_type": "stream",
     "text": [
      "time: 15.4 s\n"
     ]
    }
   ],
   "source": [
    "b1 = b1[(b1['LONGITUDE'].notnull())\n",
    "        &(b1['DISTANCE_DRIVEN_ANNUALLY'].notnull())\n",
    "        &(b1['CITY'].notnull())\n",
    "        &(b1['DRIVER_SEX_CODE_D1'].notnull())]"
   ]
  },
  {
   "cell_type": "code",
   "execution_count": 20,
   "metadata": {},
   "outputs": [
    {
     "data": {
      "text/plain": [
       "(10606196, 37)"
      ]
     },
     "execution_count": 20,
     "metadata": {},
     "output_type": "execute_result"
    },
    {
     "name": "stdout",
     "output_type": "stream",
     "text": [
      "time: 7 ms\n"
     ]
    }
   ],
   "source": [
    "b1.shape"
   ]
  },
  {
   "cell_type": "code",
   "execution_count": 21,
   "metadata": {},
   "outputs": [
    {
     "data": {
      "text/plain": [
       "(10604615, 37)"
      ]
     },
     "execution_count": 21,
     "metadata": {},
     "output_type": "execute_result"
    },
    {
     "name": "stdout",
     "output_type": "stream",
     "text": [
      "time: 1min 2s\n"
     ]
    }
   ],
   "source": [
    "b1 = b1.drop_duplicates()\n",
    "b1.shape"
   ]
  },
  {
   "cell_type": "code",
   "execution_count": 11,
   "metadata": {},
   "outputs": [
    {
     "data": {
      "text/plain": [
       "Index(['AGE_D1', 'FSA', 'POSTAL_CODE', 'COMPANY_CODE',\n",
       "       'COVERAGE_CODE_AUTOMOBILE', 'DEDUCTIBLE_AMOUNT',\n",
       "       'DISTANCE_DRIVEN_ANNUALLY', 'LIMIT_1', 'VEHICLE_CODE1',\n",
       "       'VEHICLE_RATE_GROUP', 'DRIVING_AGE', 'VEHICLE_AGE',\n",
       "       'MULTICAR_DISCOUNT_INDICATOR', 'DRIVERS_NUM',\n",
       "       'FULL_TERM_PREMIUM_COVERAGE', 'DRIVER_SEX_CODE_D1', 'AUTO_CLAIMS',\n",
       "       'CONVICTION_NUM', 'DRIVER_MARITAL_STATUS_CODE_D1', 'NEW_CITY_NAME',\n",
       "       'PROVINCE_STATE_ABBREVIATION', 'COVERAGE_CODE_AUTOMOBILE_CLASS',\n",
       "       'VIN_SERIAL_NUMBER', 'CITY', 'PROVINCE', 'LONGITUDE', 'LATITUDE'],\n",
       "      dtype='object')"
      ]
     },
     "execution_count": 11,
     "metadata": {},
     "output_type": "execute_result"
    },
    {
     "name": "stdout",
     "output_type": "stream",
     "text": [
      "time: 3.01 ms\n"
     ]
    }
   ],
   "source": [
    "b1.columns"
   ]
  },
  {
   "cell_type": "code",
   "execution_count": 15,
   "metadata": {},
   "outputs": [
    {
     "name": "stdout",
     "output_type": "stream",
     "text": [
      "time: 688 ms\n"
     ]
    }
   ],
   "source": [
    "fsa = pd.DataFrame(b1['FSA'].unique().tolist(),columns=['FSA'])\n",
    "fsa.to_pickle(r'C:\\Users\\john.lan\\Desktop\\Trufla scripts\\trufla_test_result\\fsa_list.pickle')"
   ]
  },
  {
   "cell_type": "code",
   "execution_count": 18,
   "metadata": {},
   "outputs": [
    {
     "name": "stdout",
     "output_type": "stream",
     "text": [
      "time: 678 ms\n"
     ]
    }
   ],
   "source": [
    "vehicle_code = pd.DataFrame(b1['VEHICLE_CODE1'].unique().tolist(),columns=['VEHICLE_CODE1'])\n",
    "vehicle_code.to_pickle(r'C:\\Users\\john.lan\\Desktop\\Trufla scripts\\trufla_test_result\\vehicle_code_list.pickle')"
   ]
  },
  {
   "cell_type": "code",
   "execution_count": 20,
   "metadata": {},
   "outputs": [
    {
     "name": "stdout",
     "output_type": "stream",
     "text": [
      "time: 675 ms\n"
     ]
    }
   ],
   "source": [
    "city = pd.DataFrame(b1['CITY'].unique().tolist(),columns=['CITY'])\n",
    "city.to_pickle(r'C:\\Users\\john.lan\\Desktop\\Trufla scripts\\trufla_test_result\\city_list.pickle')"
   ]
  },
  {
   "cell_type": "code",
   "execution_count": 49,
   "metadata": {},
   "outputs": [
    {
     "name": "stdout",
     "output_type": "stream",
     "text": [
      "time: 2.04 s\n"
     ]
    }
   ],
   "source": [
    "zcode = zcode.drop_duplicates()"
   ]
  },
  {
   "cell_type": "code",
   "execution_count": 118,
   "metadata": {},
   "outputs": [
    {
     "name": "stdout",
     "output_type": "stream",
     "text": [
      "time: 4.06 ms\n"
     ]
    }
   ],
   "source": [
    "import json\n",
    "with open(r'C:\\Users\\john.lan\\Desktop\\zcode_0.json', 'w') as fp:\n",
    "    json.dump(CONSTANT_CODE, fp)"
   ]
  },
  {
   "cell_type": "code",
   "execution_count": 129,
   "metadata": {},
   "outputs": [
    {
     "name": "stdout",
     "output_type": "stream",
     "text": [
      "time: 2 ms\n"
     ]
    }
   ],
   "source": [
    "zcode_pred = list(set(coverage_code_list) - set(list(CONSTANT_CODE.keys())))\n",
    "zcode_pred_df = pd.DataFrame(zcode_pred,columns = ['COVERAGE_CODE_AUTOMOBILE'])"
   ]
  },
  {
   "cell_type": "code",
   "execution_count": 134,
   "metadata": {},
   "outputs": [
    {
     "name": "stdout",
     "output_type": "stream",
     "text": [
      "time: 1.29 s\n"
     ]
    }
   ],
   "source": [
    "zcode_1 = pd.merge(zcode,zcode_pred_df,left_on = 'COVERAGE_CODE_AUTOMOBILE',right_on = 'COVERAGE_CODE_AUTOMOBILE',how = 'inner')"
   ]
  },
  {
   "cell_type": "code",
   "execution_count": 106,
   "metadata": {},
   "outputs": [
    {
     "name": "stdout",
     "output_type": "stream",
     "text": [
      "ZCOMB 1 Min is 0.0 Max is 0.0 Mean is 0.00 25% is 0.0 75% is 0.0 95% is 0.0\n",
      "ZDD5 1 Min is 0.0 Max is 0.0 Mean is 0.00 25% is 0.0 75% is 0.0 95% is 0.0\n",
      "ZZAWE 5 Min is 0.0 Max is 100.0 Mean is 28.03 25% is 0.0 75% is 50.0 95% is 50.0\n",
      "ZDDE 171 Min is 0.0 Max is 90.85714285714286 Mean is 46.86 25% is 50.0 75% is 50.0 95% is 80.0\n",
      "ZCX3 92 Min is 0.0 Max is 96.0 Mean is 58.62 25% is 65.0 75% is 75.0 95% is 75.0\n",
      "ZVSCD 1 Min is 0.0 Max is 0.0 Mean is 0.00 25% is 0.0 75% is 0.0 95% is 0.0\n",
      "ZCSD 177 Min is 0.0 Max is 217.09090909090907 Mean is 163.26 25% is 160.0 75% is 160.0 95% is 185.0\n",
      "ZCAP 1 Min is 0.0 Max is 0.0 Mean is 0.00 25% is 0.0 75% is 0.0 95% is 0.0\n",
      "ZCX2 71 Min is 0.0 Max is 76.0 Mean is 48.89 25% is 55.0 75% is 65.0 95% is 65.0\n",
      "Z43O 382 Min is 0.0 Max is 430.0 Mean is 155.75 25% is 65.0 75% is 201.0 95% is 345.0\n",
      "ZCX1 57 Min is 0.0 Max is 70.0 Mean is 46.44 25% is 50.0 75% is 60.0 95% is 60.0\n",
      "ZLOYD 1 Min is 0.0 Max is 0.0 Mean is 0.00 25% is 0.0 75% is 0.0 95% is 0.0\n",
      "ZDISL 1 Min is 0.0 Max is 0.0 Mean is 0.00 25% is 0.0 75% is 0.0 95% is 0.0\n",
      "ZPKDI 1 Min is 0.0 Max is 0.0 Mean is 0.00 25% is 0.0 75% is 0.0 95% is 0.0\n",
      "ZCPE 42 Min is 0.0 Max is 48.0 Mean is 30.10 25% is 30.0 75% is 30.0 95% is 30.0\n",
      "ZCP9 1 Min is 0.0 Max is 0.0 Mean is 0.00 25% is 0.0 75% is 0.0 95% is 0.0\n",
      "ZAEBS 1 Min is 0.0 Max is 0.0 Mean is 0.00 25% is 0.0 75% is 0.0 95% is 0.0\n",
      "ZNB1 1 Min is 0.0 Max is 0.0 Mean is 0.00 25% is 0.0 75% is 0.0 95% is 0.0\n",
      "ZNB2 1 Min is 0.0 Max is 0.0 Mean is 0.00 25% is 0.0 75% is 0.0 95% is 0.0\n",
      "ZCS1 95 Min is 0.0 Max is 202.0 Mean is 122.99 25% is 140.0 75% is 150.0 95% is 175.0\n",
      "Z49Y 5 Min is 0.0 Max is 16.0 Mean is 15.00 25% is 15.0 75% is 15.0 95% is 15.0\n",
      "ZRPP 121 Min is 0.0 Max is 644.0 Mean is 60.09 25% is 65.0 75% is 70.0 95% is 79.0\n",
      "ZCS2 150 Min is 0.0 Max is 245.0 Mean is 94.64 25% is 80.0 75% is 120.0 95% is 170.0\n",
      "ZFLCV 1 Min is 0.0 Max is 0.0 Mean is 0.00 25% is 0.0 75% is 0.0 95% is 0.0\n",
      "ZDISE 1 Min is 0.0 Max is 0.0 Mean is 0.00 25% is 0.0 75% is 0.0 95% is 0.0\n",
      "Z43S 133 Min is 0.0 Max is 440.0 Mean is 141.51 25% is 75.0 75% is 210.0 95% is 295.0\n",
      "Z00G 44 Min is 48.0 Max is 102.0 Mean is 78.78 25% is 55.0 75% is 90.0 95% is 90.0\n",
      "ZOF6* 25 Min is 0.0 Max is 37.714285714285715 Mean is 28.25 25% is 26.0 75% is 32.0 95% is 35.0\n",
      "ZNB0 1 Min is 0.0 Max is 0.0 Mean is 0.00 25% is 0.0 75% is 0.0 95% is 0.0\n",
      "ZDD1 1 Min is 0.0 Max is 0.0 Mean is 0.00 25% is 0.0 75% is 0.0 95% is 0.0\n",
      "ZNOC 421 Min is -776.0 Max is 304.0 Mean is -57.91 25% is -102.0 75% is 0.0 95% is 15.0\n",
      "ZDD0 1 Min is 0.0 Max is 0.0 Mean is 0.00 25% is 0.0 75% is 0.0 95% is 0.0\n",
      "ZDD3 1 Min is 0.0 Max is 0.0 Mean is 0.00 25% is 0.0 75% is 0.0 95% is 0.0\n",
      "ZODE 1 Min is 0.0 Max is 0.0 Mean is 0.00 25% is 0.0 75% is 0.0 95% is 0.0\n",
      "ZNB3 1 Min is 0.0 Max is 0.0 Mean is 0.00 25% is 0.0 75% is 0.0 95% is 0.0\n",
      "ZDD4 1 Min is 0.0 Max is 0.0 Mean is 0.00 25% is 0.0 75% is 0.0 95% is 0.0\n",
      "ZDD2 1 Min is 0.0 Max is 0.0 Mean is 0.00 25% is 0.0 75% is 0.0 95% is 0.0\n",
      "ZLOY1 1 Min is 0.0 Max is 0.0 Mean is 0.00 25% is 0.0 75% is 0.0 95% is 0.0\n",
      "ZHPP 1 Min is 0.0 Max is 0.0 Mean is 0.00 25% is 0.0 75% is 0.0 95% is 0.0\n",
      "ZCSB 46 Min is 0.0 Max is 205.0 Mean is 142.88 25% is 160.0 75% is 160.0 95% is 185.0\n",
      "ZWCP 1 Min is 0.0 Max is 0.0 Mean is 0.00 25% is 0.0 75% is 0.0 95% is 0.0\n",
      "ZCS3 112 Min is 0.0 Max is 234.0 Mean is 108.01 25% is 97.0 75% is 170.0 95% is 190.0\n",
      "ZAEBD 1 Min is 0.0 Max is 0.0 Mean is 0.00 25% is 0.0 75% is 0.0 95% is 0.0\n",
      "ZDSLD 1 Min is 0.0 Max is 0.0 Mean is 0.00 25% is 0.0 75% is 0.0 95% is 0.0\n",
      "ZDCLF 1 Min is 0.0 Max is 0.0 Mean is 0.00 25% is 0.0 75% is 0.0 95% is 0.0\n",
      "ZZPC 1 Min is 0.0 Max is 0.0 Mean is 0.00 25% is 0.0 75% is 0.0 95% is 0.0\n",
      "ZMMM 250 Min is 0.0 Max is 793.0 Mean is 83.92 25% is 51.0 75% is 99.0 95% is 184.0\n",
      "ZGA2 1 Min is 0.0 Max is 0.0 Mean is 0.00 25% is 0.0 75% is 0.0 95% is 0.0\n",
      "ZRD15 1 Min is 0.0 Max is 0.0 Mean is 0.00 25% is 0.0 75% is 0.0 95% is 0.0\n",
      "ZMLFM 1 Min is 0.0 Max is 0.0 Mean is 0.00 25% is 0.0 75% is 0.0 95% is 0.0\n",
      "ZCX4 26 Min is 0.0 Max is 86.0 Mean is 64.91 25% is 70.0 75% is 80.0 95% is 80.0\n",
      "ZEVA 143 Min is 0.0 Max is 257.0 Mean is 108.70 25% is 101.0 75% is 130.0 95% is 160.0\n",
      "ZREV 1 Min is 0.0 Max is 0.0 Mean is 0.00 25% is 0.0 75% is 0.0 95% is 0.0\n",
      "ZMPD 1 Min is 0.0 Max is 0.0 Mean is 0.00 25% is 0.0 75% is 0.0 95% is 0.0\n",
      "ZCFF 1 Min is 0.0 Max is 0.0 Mean is 0.00 25% is 0.0 75% is 0.0 95% is 0.0\n",
      "ZRD12 1 Min is 0.0 Max is 0.0 Mean is 0.00 25% is 0.0 75% is 0.0 95% is 0.0\n",
      "ZNRV 1 Min is 0.0 Max is 0.0 Mean is 0.00 25% is 0.0 75% is 0.0 95% is 0.0\n",
      "ZGVP 8 Min is 0.0 Max is 130.0 Mean is 0.25 25% is 0.0 75% is 0.0 95% is 0.0\n",
      "ZCX5 17 Min is 0.0 Max is 94.0 Mean is 65.65 25% is 75.0 75% is 85.0 95% is 85.0\n",
      "ZRD09 1 Min is 0.0 Max is 0.0 Mean is 0.00 25% is 0.0 75% is 0.0 95% is 0.0\n",
      "ZDDC 1 Min is 0.0 Max is 0.0 Mean is 0.00 25% is 0.0 75% is 0.0 95% is 0.0\n",
      "ZC39 10 Min is 3.0 Max is 45.0 Mean is 44.85 25% is 45.0 75% is 45.0 95% is 45.0\n",
      "ZC19A 12 Min is 0.0 Max is 260.0 Mean is 61.33 25% is 60.0 75% is 60.0 95% is 100.0\n",
      "ZNEWV 1 Min is 0.0 Max is 0.0 Mean is 0.00 25% is 0.0 75% is 0.0 95% is 0.0\n",
      "Z50Y 2 Min is 15.0 Max is 16.0 Mean is 15.02 25% is 15.0 75% is 15.0 95% is 15.0\n",
      "Z00H 26 Min is 24.0 Max is 150.0 Mean is 44.40 25% is 30.0 75% is 60.0 95% is 61.8545454545455\n",
      "ZCFE 4 Min is 0.0 Max is 50.0 Mean is 24.97 25% is 25.0 75% is 25.0 95% is 25.0\n",
      "ZRPS 58 Min is 0.0 Max is 320.0 Mean is 57.31 25% is 63.0 75% is 70.0 95% is 73.0\n",
      "ZFD10 1 Min is 0.0 Max is 0.0 Mean is 0.00 25% is 0.0 75% is 0.0 95% is 0.0\n",
      "ZNBN1 1 Min is 0.0 Max is 0.0 Mean is 0.00 25% is 0.0 75% is 0.0 95% is 0.0\n",
      "ZTAC 1 Min is 0.0 Max is 0.0 Mean is 0.00 25% is 0.0 75% is 0.0 95% is 0.0\n",
      "ZGL60 1 Min is 0.0 Max is 0.0 Mean is 0.00 25% is 0.0 75% is 0.0 95% is 0.0\n",
      "ZF35 1 Min is 0.0 Max is 0.0 Mean is 0.00 25% is 0.0 75% is 0.0 95% is 0.0\n",
      "ZCS4 88 Min is 0.0 Max is 235.0 Mean is 105.85 25% is 103.0 75% is 124.0 95% is 200.0\n",
      "ZCX6 11 Min is 0.0 Max is 98.0 Mean is 81.04 25% is 85.0 75% is 95.0 95% is 95.0\n",
      "ZREN3 1 Min is 0.0 Max is 0.0 Mean is 0.00 25% is 0.0 75% is 0.0 95% is 0.0\n",
      "Z111 1 Min is 0.0 Max is 0.0 Mean is 0.00 25% is 0.0 75% is 0.0 95% is 0.0\n",
      "ZEVO2 55 Min is 21.0 Max is 85.0 Mean is 43.67 25% is 37.0 75% is 50.0 95% is 60.0\n",
      "ZGA1 1 Min is 0.0 Max is 0.0 Mean is 0.00 25% is 0.0 75% is 0.0 95% is 0.0\n",
      "ZCPID 1 Min is 0.0 Max is 0.0 Mean is 0.00 25% is 0.0 75% is 0.0 95% is 0.0\n",
      "ZF01 2 Min is 60.0 Max is 62.0 Mean is 60.01 25% is 60.0 75% is 60.0 95% is 60.0\n",
      "ZRTC 1 Min is 0.0 Max is 0.0 Mean is 0.00 25% is 0.0 75% is 0.0 95% is 0.0\n",
      "ZRD03 1 Min is 0.0 Max is 0.0 Mean is 0.00 25% is 0.0 75% is 0.0 95% is 0.0\n",
      "ZRUW 1 Min is 0.0 Max is 0.0 Mean is 0.00 25% is 0.0 75% is 0.0 95% is 0.0\n",
      "ZRD06 1 Min is 0.0 Max is 0.0 Mean is 0.00 25% is 0.0 75% is 0.0 95% is 0.0\n",
      "ZFMX 1 Min is 0.0 Max is 0.0 Mean is 0.00 25% is 0.0 75% is 0.0 95% is 0.0\n",
      "ZCRNL 1 Min is 0.0 Max is 0.0 Mean is 0.00 25% is 0.0 75% is 0.0 95% is 0.0\n",
      "ZNBN2 1 Min is 0.0 Max is 0.0 Mean is 0.00 25% is 0.0 75% is 0.0 95% is 0.0\n",
      "ZO161 1 Min is 0.0 Max is 0.0 Mean is 0.00 25% is 0.0 75% is 0.0 95% is 0.0\n",
      "ZGC43 18 Min is 21.6 Max is 54.0 Mean is 26.38 25% is 22.0 75% is 27.0 95% is 39.0\n",
      "ZG19A 14 Min is 45.0 Max is 96.0 Mean is 47.90 25% is 45.0 75% is 47.0 95% is 57.0\n",
      "ZMMC 119 Min is 0.0 Max is 398.0 Mean is 56.48 25% is 33.0 75% is 65.0 95% is 133.39999999999964\n",
      "ZZAEB 1 Min is 0.0 Max is 0.0 Mean is 0.00 25% is 0.0 75% is 0.0 95% is 0.0\n",
      "Z27P 8 Min is 0.0 Max is 40.0 Mean is 12.55 25% is 0.0 75% is 25.0 95% is 30.0\n",
      "ZAEBO 1 Min is 0.0 Max is 0.0 Mean is 0.00 25% is 0.0 75% is 0.0 95% is 0.0\n",
      "Z1CP 1 Min is 0.0 Max is 0.0 Mean is 0.00 25% is 0.0 75% is 0.0 95% is 0.0\n",
      "ZFD15 1 Min is 0.0 Max is 0.0 Mean is 0.00 25% is 0.0 75% is 0.0 95% is 0.0\n",
      "Z39X 1 Min is 0.0 Max is 0.0 Mean is 0.00 25% is 0.0 75% is 0.0 95% is 0.0\n",
      "ZCFX 1 Min is 0.0 Max is 0.0 Mean is 0.00 25% is 0.0 75% is 0.0 95% is 0.0\n",
      "ZEVB 94 Min is 0.0 Max is 250.0 Mean is 116.10 25% is 103.75 75% is 140.0 95% is 170.0\n",
      "ZSTNB 1 Min is 0.0 Max is 0.0 Mean is 0.00 25% is 0.0 75% is 0.0 95% is 0.0\n",
      "ZAV 1 Min is 0.0 Max is 0.0 Mean is 0.00 25% is 0.0 75% is 0.0 95% is 0.0\n",
      "ZBRYR 1 Min is 0.0 Max is 0.0 Mean is 0.00 25% is 0.0 75% is 0.0 95% is 0.0\n",
      "ZDED 1 Min is 0.0 Max is 0.0 Mean is 0.00 25% is 0.0 75% is 0.0 95% is 0.0\n",
      "ZREN1 1 Min is 0.0 Max is 0.0 Mean is 0.00 25% is 0.0 75% is 0.0 95% is 0.0\n",
      "ZREN2 1 Min is 0.0 Max is 0.0 Mean is 0.00 25% is 0.0 75% is 0.0 95% is 0.0\n",
      "ZCP2 1 Min is 0.0 Max is 0.0 Mean is 0.00 25% is 0.0 75% is 0.0 95% is 0.0\n",
      "ZYDCO 1 Min is 0.0 Max is 0.0 Mean is 0.00 25% is 0.0 75% is 0.0 95% is 0.0\n",
      "ZOCCU 1 Min is 0.0 Max is 0.0 Mean is 0.00 25% is 0.0 75% is 0.0 95% is 0.0\n",
      "Z06U 6 Min is 0.0 Max is 52.800000000000004 Mean is 40.84 25% is 50.0 75% is 50.0 95% is 50.0\n",
      "Z1N2 1 Min is 0.0 Max is 0.0 Mean is 0.00 25% is 0.0 75% is 0.0 95% is 0.0\n",
      "ZMAH 130 Min is 2.0 Max is 729.0 Mean is 94.34 25% is 59.0 75% is 111.0 95% is 208.59999999999997\n",
      "ZG43A 23 Min is 21.818181818181817 Max is 53.142857142857146 Mean is 26.87 25% is 22.0 75% is 27.75 95% is 39.0\n",
      "ZCP6 1 Min is 0.0 Max is 0.0 Mean is 0.00 25% is 0.0 75% is 0.0 95% is 0.0\n",
      "ZCOC 1 Min is 0.0 Max is 0.0 Mean is 0.00 25% is 0.0 75% is 0.0 95% is 0.0\n",
      "ZAFDS 1 Min is 0.0 Max is 0.0 Mean is 0.00 25% is 0.0 75% is 0.0 95% is 0.0\n",
      "Z00GX 5 Min is 55.0 Max is 97.5 Mean is 79.35 25% is 55.0 75% is 90.0 95% is 90.0\n",
      "ZFD05 1 Min is 0.0 Max is 0.0 Mean is 0.00 25% is 0.0 75% is 0.0 95% is 0.0\n",
      "ZC43 4 Min is 14.0 Max is 60.0 Mean is 43.80 25% is 30.0 75% is 60.0 95% is 60.0\n",
      "ZC43A 6 Min is 20.0 Max is 60.0 Mean is 39.11 25% is 30.0 75% is 60.0 95% is 60.0\n",
      "Z00E 3 Min is 19.0 Max is 20.0 Mean is 19.98 25% is 20.0 75% is 20.0 95% is 20.0\n",
      "Z1N1 1 Min is 0.0 Max is 0.0 Mean is 0.00 25% is 0.0 75% is 0.0 95% is 0.0\n",
      "ZXX 31 Min is 0.0 Max is 1110.0 Mean is 88.91 25% is 30.0 75% is 75.0 95% is 367.79999999999984\n",
      "ZCY3 5 Min is 0.0 Max is 98.0 Mean is 77.52 25% is 85.0 75% is 95.0 95% is 95.0\n",
      "ZYDCD 1 Min is 0.0 Max is 0.0 Mean is 0.00 25% is 0.0 75% is 0.0 95% is 0.0\n",
      "ZCSC 2 Min is 0.0 Max is 5.0 Mean is 0.03 25% is 0.0 75% is 0.0 95% is 0.0\n",
      "ZCX7 5 Min is 0.0 Max is 120.0 Mean is 90.52 25% is 110.0 75% is 120.0 95% is 120.0\n",
      "ZCLM 1 Min is 0.0 Max is 0.0 Mean is 0.00 25% is 0.0 75% is 0.0 95% is 0.0\n",
      "ZPIPD 1 Min is 0.0 Max is 0.0 Mean is 0.00 25% is 0.0 75% is 0.0 95% is 0.0\n",
      "ZUE05 1 Min is 0.0 Max is 0.0 Mean is 0.00 25% is 0.0 75% is 0.0 95% is 0.0\n",
      "ZC26 1 Min is 0.0 Max is 0.0 Mean is 0.00 25% is 0.0 75% is 0.0 95% is 0.0\n",
      "Z1N0 1 Min is 0.0 Max is 0.0 Mean is 0.00 25% is 0.0 75% is 0.0 95% is 0.0\n",
      "ZVAE 1 Min is 0.0 Max is 0.0 Mean is 0.00 25% is 0.0 75% is 0.0 95% is 0.0\n",
      "ZMMH 74 Min is 5.0 Max is 446.0 Mean is 123.82 25% is 76.75 75% is 161.0 95% is 240.7\n",
      "ZDLYO 1 Min is 0.0 Max is 0.0 Mean is 0.00 25% is 0.0 75% is 0.0 95% is 0.0\n",
      "ZLTD5 1 Min is 0.0 Max is 0.0 Mean is 0.00 25% is 0.0 75% is 0.0 95% is 0.0\n",
      "ZCHD 55 Min is 11.0 Max is 130.0 Mean is 53.38 25% is 32.0 75% is 70.0 95% is 101.39999999999999\n",
      "ZDSNO 1 Min is 0.0 Max is 0.0 Mean is 0.00 25% is 0.0 75% is 0.0 95% is 0.0\n",
      "ZCY6 5 Min is 0.0 Max is 115.0 Mean is 85.03 25% is 102.0 75% is 115.0 95% is 115.0\n",
      "ZENE 1 Min is 0.0 Max is 0.0 Mean is 0.00 25% is 0.0 75% is 0.0 95% is 0.0\n",
      "ZIMP 1 Min is 0.0 Max is 0.0 Mean is 0.00 25% is 0.0 75% is 0.0 95% is 0.0\n",
      "ZLTD6 1 Min is 0.0 Max is 0.0 Mean is 0.00 25% is 0.0 75% is 0.0 95% is 0.0\n",
      "ZFD20 1 Min is 0.0 Max is 0.0 Mean is 0.00 25% is 0.0 75% is 0.0 95% is 0.0\n",
      "ZCZ3 5 Min is 0.0 Max is 128.39999999999998 Mean is 103.41 25% is 115.0 75% is 125.0 95% is 125.0\n",
      "ZMOD 1 Min is 0.0 Max is 0.0 Mean is 0.00 25% is 0.0 75% is 0.0 95% is 0.0\n",
      "ZEXPD 1 Min is 0.0 Max is 0.0 Mean is 0.00 25% is 0.0 75% is 0.0 95% is 0.0\n",
      "ZCST 1 Min is 0.0 Max is 0.0 Mean is 0.00 25% is 0.0 75% is 0.0 95% is 0.0\n",
      "ZSAFE 1 Min is 0.0 Max is 0.0 Mean is 0.00 25% is 0.0 75% is 0.0 95% is 0.0\n",
      "Z06R 17 Min is 0.0 Max is 83.0 Mean is 42.18 25% is 47.25 75% is 50.0 95% is 56.14999999999999\n",
      "ZCY5 3 Min is 0.0 Max is 105.0 Mean is 79.83 25% is 95.0 75% is 105.0 95% is 105.0\n",
      "ZCY2 5 Min is 0.0 Max is 88.0 Mean is 61.62 25% is 18.75 75% is 85.0 95% is 85.0\n",
      "ZOWND 1 Min is 0.0 Max is 0.0 Mean is 0.00 25% is 0.0 75% is 0.0 95% is 0.0\n",
      "ZSCNP 1 Min is 0.0 Max is 0.0 Mean is 0.00 25% is 0.0 75% is 0.0 95% is 0.0\n",
      "ZCMYP 1 Min is 0.0 Max is 0.0 Mean is 0.00 25% is 0.0 75% is 0.0 95% is 0.0\n",
      "Z2CP 1 Min is 0.0 Max is 0.0 Mean is 0.00 25% is 0.0 75% is 0.0 95% is 0.0\n",
      "ZCL56 1 Min is 0.0 Max is 0.0 Mean is 0.00 25% is 0.0 75% is 0.0 95% is 0.0\n",
      "ZDDT5 1 Min is 0.0 Max is 0.0 Mean is 0.00 25% is 0.0 75% is 0.0 95% is 0.0\n",
      "ZAU90 1 Min is 0.0 Max is 0.0 Mean is 0.00 25% is 0.0 75% is 0.0 95% is 0.0\n",
      "ZRHDS 1 Min is 0.0 Max is 0.0 Mean is 0.00 25% is 0.0 75% is 0.0 95% is 0.0\n",
      "ZMCO 1 Min is 30.0 Max is 30.0 Mean is 30.00 25% is 30.0 75% is 30.0 95% is 30.0\n",
      "ZDUB4 1 Min is 0.0 Max is 0.0 Mean is 0.00 25% is 0.0 75% is 0.0 95% is 0.0\n",
      "ZDSUB 1 Min is 0.0 Max is 0.0 Mean is 0.00 25% is 0.0 75% is 0.0 95% is 0.0\n",
      "ZUBI1 1 Min is 0.0 Max is 0.0 Mean is 0.00 25% is 0.0 75% is 0.0 95% is 0.0\n",
      "ZCY4 3 Min is 0.0 Max is 100.0 Mean is 86.86 25% is 90.0 75% is 100.0 95% is 100.0\n",
      "ZTHFT 1 Min is 0.0 Max is 0.0 Mean is 0.00 25% is 0.0 75% is 0.0 95% is 0.0\n",
      "ZH18 1 Min is 0.0 Max is 0.0 Mean is 0.00 25% is 0.0 75% is 0.0 95% is 0.0\n",
      "ZST3Y 1 Min is 0.0 Max is 0.0 Mean is 0.00 25% is 0.0 75% is 0.0 95% is 0.0\n",
      "ZWIN5 1 Min is 0.0 Max is 0.0 Mean is 0.00 25% is 0.0 75% is 0.0 95% is 0.0\n",
      "Z9RSP 1 Min is 0.0 Max is 0.0 Mean is 0.00 25% is 0.0 75% is 0.0 95% is 0.0\n",
      "ZSVEH 1 Min is 0.0 Max is 0.0 Mean is 0.00 25% is 0.0 75% is 0.0 95% is 0.0\n",
      "ZWEB4 1 Min is 0.0 Max is 0.0 Mean is 0.00 25% is 0.0 75% is 0.0 95% is 0.0\n",
      "ZVIN 1 Min is 0.0 Max is 0.0 Mean is 0.00 25% is 0.0 75% is 0.0 95% is 0.0\n",
      "ZMP6 1 Min is 0.0 Max is 0.0 Mean is 0.00 25% is 0.0 75% is 0.0 95% is 0.0\n",
      "ZMP5 1 Min is 0.0 Max is 0.0 Mean is 0.00 25% is 0.0 75% is 0.0 95% is 0.0\n",
      "ZDDT6 1 Min is 0.0 Max is 0.0 Mean is 0.00 25% is 0.0 75% is 0.0 95% is 0.0\n",
      "ZWEB5 1 Min is 0.0 Max is 0.0 Mean is 0.00 25% is 0.0 75% is 0.0 95% is 0.0\n",
      "ZCZ7 3 Min is 0.0 Max is 170.0 Mean is 150.00 25% is 160.0 75% is 170.0 95% is 170.0\n",
      "ZH17 1 Min is 0.0 Max is 0.0 Mean is 0.00 25% is 0.0 75% is 0.0 95% is 0.0\n",
      "ZDSMD 1 Min is 0.0 Max is 0.0 Mean is 0.00 25% is 0.0 75% is 0.0 95% is 0.0\n",
      "ZWAA 25 Min is 55.0 Max is 307.0 Mean is 147.33 25% is 127.5 75% is 160.0 95% is 247.59999999999997\n",
      "ZZ16W 1 Min is 0.0 Max is 0.0 Mean is 0.00 25% is 0.0 75% is 0.0 95% is 0.0\n",
      "ZMMD 19 Min is 23.0 Max is 98.0 Mean is 57.63 25% is 44.0 75% is 72.5 95% is 91.29999999999998\n",
      "ZWIN6 1 Min is 0.0 Max is 0.0 Mean is 0.00 25% is 0.0 75% is 0.0 95% is 0.0\n",
      "ZETCH 1 Min is 0.0 Max is 0.0 Mean is 0.00 25% is 0.0 75% is 0.0 95% is 0.0\n",
      "ZDSOV 1 Min is 0.0 Max is 0.0 Mean is 0.00 25% is 0.0 75% is 0.0 95% is 0.0\n",
      "ZNEW5 1 Min is 0.0 Max is 0.0 Mean is 0.00 25% is 0.0 75% is 0.0 95% is 0.0\n",
      "ZMRD 22 Min is 14.0 Max is 100.0 Mean is 33.35 25% is 23.0 75% is 37.5 95% is 71.25\n",
      "ZONVD 1 Min is 0.0 Max is 0.0 Mean is 0.00 25% is 0.0 75% is 0.0 95% is 0.0\n",
      "ZCZ6 3 Min is 0.0 Max is 145.0 Mean is 92.83 25% is 0.0 75% is 145.0 95% is 145.0\n",
      "Z1ZXX 12 Min is 0.0 Max is 986.0 Mean is 114.91 25% is 47.0 75% is 64.0 95% is 261.15\n",
      "ZDSFD 1 Min is 0.0 Max is 0.0 Mean is 0.00 25% is 0.0 75% is 0.0 95% is 0.0\n",
      "ZWEB3 1 Min is 0.0 Max is 0.0 Mean is 0.00 25% is 0.0 75% is 0.0 95% is 0.0\n",
      "ZCY7 3 Min is 0.0 Max is 140.0 Mean is 119.09 25% is 130.0 75% is 140.0 95% is 140.0\n",
      "ZCY1 3 Min is 0.0 Max is 80.0 Mean is 71.82 25% is 80.0 75% is 80.0 95% is 80.0\n",
      "Z63 1 Min is 0.0 Max is 0.0 Mean is 0.00 25% is 0.0 75% is 0.0 95% is 0.0\n",
      "ZNW19 1 Min is 0.0 Max is 0.0 Mean is 0.00 25% is 0.0 75% is 0.0 95% is 0.0\n",
      "Z62 1 Min is 0.0 Max is 0.0 Mean is 0.00 25% is 0.0 75% is 0.0 95% is 0.0\n",
      "ZDSUD 1 Min is 0.0 Max is 0.0 Mean is 0.00 25% is 0.0 75% is 0.0 95% is 0.0\n",
      "ZNEW6 1 Min is 0.0 Max is 0.0 Mean is 0.00 25% is 0.0 75% is 0.0 95% is 0.0\n",
      "ZCLA 1 Min is 0.0 Max is 0.0 Mean is 0.00 25% is 0.0 75% is 0.0 95% is 0.0\n",
      "ZG1 1 Min is 0.0 Max is 0.0 Mean is 0.00 25% is 0.0 75% is 0.0 95% is 0.0\n",
      "ZDMLO 1 Min is 0.0 Max is 0.0 Mean is 0.00 25% is 0.0 75% is 0.0 95% is 0.0\n",
      "ZCPP 1 Min is 75.0 Max is 75.0 Mean is 75.00 25% is 75.0 75% is 75.0 95% is 75.0\n",
      "ZDISF 1 Min is 0.0 Max is 0.0 Mean is 0.00 25% is 0.0 75% is 0.0 95% is 0.0\n",
      "ZLOY2 1 Min is 0.0 Max is 0.0 Mean is 0.00 25% is 0.0 75% is 0.0 95% is 0.0\n",
      "ZCZ1 3 Min is 0.0 Max is 110.0 Mean is 89.41 25% is 100.0 75% is 110.0 95% is 110.0\n",
      "Z2ZXX 13 Min is 0.0 Max is 742.0 Mean is 208.47 25% is 11.0 75% is 258.0 95% is 618.8\n",
      "Z9DC 1 Min is 0.0 Max is 0.0 Mean is 0.00 25% is 0.0 75% is 0.0 95% is 0.0\n",
      "ZCS5 5 Min is 0.0 Max is 160.0 Mean is 95.50 25% is 0.0 75% is 156.25 95% is 160.0\n",
      "ZFD08 1 Min is 0.0 Max is 0.0 Mean is 0.00 25% is 0.0 75% is 0.0 95% is 0.0\n",
      "ZWEB2 1 Min is 0.0 Max is 0.0 Mean is 0.00 25% is 0.0 75% is 0.0 95% is 0.0\n",
      "Z3ZXX 11 Min is 0.0 Max is 217.0 Mean is 91.33 25% is 45.0 75% is 139.5 95% is 200.89999999999998\n",
      "ZCZ5 4 Min is 125.0 Max is 135.0 Mean is 133.88 25% is 135.0 75% is 135.0 95% is 135.0\n",
      "ZANT 1 Min is 0.0 Max is 0.0 Mean is 0.00 25% is 0.0 75% is 0.0 95% is 0.0\n",
      "ZARNL 1 Min is 0.0 Max is 0.0 Mean is 0.00 25% is 0.0 75% is 0.0 95% is 0.0\n",
      "ZPM5 1 Min is 0.0 Max is 0.0 Mean is 0.00 25% is 0.0 75% is 0.0 95% is 0.0\n",
      "ZMMW 13 Min is 29.0 Max is 165.0 Mean is 75.85 25% is 50.0 75% is 97.0 95% is 140.99999999999994\n",
      "Z48 3 Min is 24.0 Max is 227.0 Mean is 43.92 25% is 24.0 75% is 33.0 95% is 120.29999999999986\n",
      "ZGND5 1 Min is 0.0 Max is 0.0 Mean is 0.00 25% is 0.0 75% is 0.0 95% is 0.0\n",
      "ZTRAC 1 Min is 0.0 Max is 0.0 Mean is 0.00 25% is 0.0 75% is 0.0 95% is 0.0\n",
      "ZCZ2 3 Min is 0.0 Max is 115.0 Mean is 93.18 25% is 110.0 75% is 115.0 95% is 115.0\n",
      "Z34C 5 Min is 7.0 Max is 14.0 Mean is 10.45 25% is 10.0 75% is 11.0 95% is 13.0\n",
      "Z4ZXX 10 Min is 0.0 Max is 350.0 Mean is 142.18 25% is 80.0 75% is 211.5 95% is 341.0\n",
      "Z34D 3 Min is 20.0 Max is 32.0 Mean is 21.36 25% is 20.0 75% is 20.0 95% is 27.5\n",
      "ZRAN 2 Min is 0.0 Max is 50.0 Mean is 36.36 25% is 25.0 75% is 50.0 95% is 50.0\n",
      "ZFD06 1 Min is 0.0 Max is 0.0 Mean is 0.00 25% is 0.0 75% is 0.0 95% is 0.0\n",
      "ZFRC 1 Min is 0.0 Max is 0.0 Mean is 0.00 25% is 0.0 75% is 0.0 95% is 0.0\n",
      "Z2N1 1 Min is 0.0 Max is 0.0 Mean is 0.00 25% is 0.0 75% is 0.0 95% is 0.0\n",
      "ZOCC6 1 Min is 0.0 Max is 0.0 Mean is 0.00 25% is 0.0 75% is 0.0 95% is 0.0\n",
      "ZOCC5 1 Min is 0.0 Max is 0.0 Mean is 0.00 25% is 0.0 75% is 0.0 95% is 0.0\n",
      "ZPP2 8 Min is 20.0 Max is 79.0 Mean is 37.20 25% is 21.25 75% is 47.5 95% is 65.94999999999997\n",
      "Z1MH 10 Min is 7.0 Max is 341.45454545454544 Mean is 189.65 25% is 140.0 75% is 244.5 95% is 306.14999999999986\n",
      "ZEDUC 1 Min is 0.0 Max is 0.0 Mean is 0.00 25% is 0.0 75% is 0.0 95% is 0.0\n",
      "ZWEB1 1 Min is 0.0 Max is 0.0 Mean is 0.00 25% is 0.0 75% is 0.0 95% is 0.0\n",
      "ZBRY5 1 Min is 0.0 Max is 0.0 Mean is 0.00 25% is 0.0 75% is 0.0 95% is 0.0\n",
      "ZMTT 1 Min is 0.0 Max is 0.0 Mean is 0.00 25% is 0.0 75% is 0.0 95% is 0.0\n",
      "ZEEC 2 Min is 0.0 Max is 5.0 Mean is 2.86 25% is 0.0 75% is 5.0 95% is 5.0\n",
      "Z2MH 5 Min is 125.0 Max is 421.0 Mean is 250.57 25% is 175.0 75% is 321.0 95% is 390.99999999999994\n",
      "Z1CO 1 Min is 0.0 Max is 0.0 Mean is 0.00 25% is 0.0 75% is 0.0 95% is 0.0\n",
      "Z2N2 1 Min is 0.0 Max is 0.0 Mean is 0.00 25% is 0.0 75% is 0.0 95% is 0.0\n",
      "Z6T2 7 Min is 533.0 Max is 1677.0 Mean is 961.43 25% is 678.0 75% is 1224.0 95% is 1558.1999999999996\n",
      "ZGND6 1 Min is 0.0 Max is 0.0 Mean is 0.00 25% is 0.0 75% is 0.0 95% is 0.0\n",
      "ZW1 1 Min is 0.0 Max is 0.0 Mean is 0.00 25% is 0.0 75% is 0.0 95% is 0.0\n",
      "ZCFRC 5 Min is 0.0 Max is 25.0 Mean is 15.67 25% is 5.5 75% is 23.75 95% is 24.75\n",
      "Z1CPP 1 Min is 30.0 Max is 30.0 Mean is 30.00 25% is 30.0 75% is 30.0 95% is 30.0\n",
      "ZSTN5 1 Min is 0.0 Max is 0.0 Mean is 0.00 25% is 0.0 75% is 0.0 95% is 0.0\n",
      "Z05S 2 Min is 0.0 Max is 30.0 Mean is 25.00 25% is 30.0 75% is 30.0 95% is 30.0\n",
      "Z20CL 3 Min is 50.0 Max is 96.0 Mean is 73.00 25% is 73.0 75% is 73.0 95% is 90.25\n",
      "ZC24 1 Min is 0.0 Max is 0.0 Mean is 0.00 25% is 0.0 75% is 0.0 95% is 0.0\n",
      "ZRCMD 1 Min is 0.0 Max is 0.0 Mean is 0.00 25% is 0.0 75% is 0.0 95% is 0.0\n",
      "ZSTBD 1 Min is 0.0 Max is 0.0 Mean is 0.00 25% is 0.0 75% is 0.0 95% is 0.0\n",
      "ZCZ4 3 Min is 0.0 Max is 130.0 Mean is 102.00 25% is 120.0 75% is 130.0 95% is 130.0\n",
      "ZPIP6 1 Min is 0.0 Max is 0.0 Mean is 0.00 25% is 0.0 75% is 0.0 95% is 0.0\n",
      "ZDSUO 1 Min is 0.0 Max is 0.0 Mean is 0.00 25% is 0.0 75% is 0.0 95% is 0.0\n",
      "ZF02 1 Min is 0.0 Max is 0.0 Mean is 0.00 25% is 0.0 75% is 0.0 95% is 0.0\n",
      "ZFD07 1 Min is 0.0 Max is 0.0 Mean is 0.00 25% is 0.0 75% is 0.0 95% is 0.0\n",
      "ZFD12 1 Min is 0.0 Max is 0.0 Mean is 0.00 25% is 0.0 75% is 0.0 95% is 0.0\n",
      "ZFD13 1 Min is 0.0 Max is 0.0 Mean is 0.00 25% is 0.0 75% is 0.0 95% is 0.0\n",
      "Z47MO 1 Min is 0.0 Max is 0.0 Mean is 0.00 25% is 0.0 75% is 0.0 95% is 0.0\n",
      "ZGNDR 1 Min is 0.0 Max is 0.0 Mean is 0.00 25% is 0.0 75% is 0.0 95% is 0.0\n",
      "ZLOY3 1 Min is 0.0 Max is 0.0 Mean is 0.00 25% is 0.0 75% is 0.0 95% is 0.0\n",
      "Z20CM 1 Min is 70.0 Max is 70.0 Mean is 70.00 25% is 70.0 75% is 70.0 95% is 70.0\n",
      "ZDDG 1 Min is 0.0 Max is 0.0 Mean is 0.00 25% is 0.0 75% is 0.0 95% is 0.0\n",
      "ZAT2 1 Min is 0.0 Max is 0.0 Mean is 0.00 25% is 0.0 75% is 0.0 95% is 0.0\n",
      "ZFD04 1 Min is 0.0 Max is 0.0 Mean is 0.00 25% is 0.0 75% is 0.0 95% is 0.0\n",
      "ZBRY6 1 Min is 0.0 Max is 0.0 Mean is 0.00 25% is 0.0 75% is 0.0 95% is 0.0\n",
      "ZSTN6 1 Min is 0.0 Max is 0.0 Mean is 0.00 25% is 0.0 75% is 0.0 95% is 0.0\n",
      "Z6T1 4 Min is 487.0 Max is 970.0 Mean is 780.50 25% is 682.75 75% is 930.25 95% is 962.05\n",
      "ZNO2V 1 Min is 0.0 Max is 0.0 Mean is 0.00 25% is 0.0 75% is 0.0 95% is 0.0\n",
      "ZFD03 1 Min is 0.0 Max is 0.0 Mean is 0.00 25% is 0.0 75% is 0.0 95% is 0.0\n",
      "ZCOMG 1 Min is 0.0 Max is 0.0 Mean is 0.00 25% is 0.0 75% is 0.0 95% is 0.0\n",
      "Z43Z 3 Min is 193.0 Max is 224.0 Mean is 204.00 25% is 194.0 75% is 209.5 95% is 221.1\n",
      "ZST0Y 1 Min is 0.0 Max is 0.0 Mean is 0.00 25% is 0.0 75% is 0.0 95% is 0.0\n",
      "ZDSAT 1 Min is 0.0 Max is 0.0 Mean is 0.00 25% is 0.0 75% is 0.0 95% is 0.0\n",
      "ZCPO 1 Min is 30.0 Max is 30.0 Mean is 30.00 25% is 30.0 75% is 30.0 95% is 30.0\n",
      "ZFD11 1 Min is 0.0 Max is 0.0 Mean is 0.00 25% is 0.0 75% is 0.0 95% is 0.0\n",
      "ZRA2 2 Min is 20.0 Max is 22.0 Mean is 21.33 25% is 21.0 75% is 22.0 95% is 22.0\n",
      "Z9CH 1 Min is 0.0 Max is 0.0 Mean is 0.00 25% is 0.0 75% is 0.0 95% is 0.0\n",
      "ZAU91 1 Min is 0.0 Max is 0.0 Mean is 0.00 25% is 0.0 75% is 0.0 95% is 0.0\n",
      "ZACW 2 Min is 35.0 Max is 53.0 Mean is 44.00 25% is 39.5 75% is 48.5 95% is 52.099999999999994\n",
      "ZFD09 1 Min is 0.0 Max is 0.0 Mean is 0.00 25% is 0.0 75% is 0.0 95% is 0.0\n",
      "ZEXP 1 Min is 20.0 Max is 20.0 Mean is 20.00 25% is 20.0 75% is 20.0 95% is 20.0\n",
      "Z2N0 1 Min is 0.0 Max is 0.0 Mean is 0.00 25% is 0.0 75% is 0.0 95% is 0.0\n",
      "ZFD17 1 Min is 0.0 Max is 0.0 Mean is 0.00 25% is 0.0 75% is 0.0 95% is 0.0\n",
      "ZVUC 1 Min is 25.0 Max is 25.0 Mean is 25.00 25% is 25.0 75% is 25.0 95% is 25.0\n",
      "ZDHYO 1 Min is 0.0 Max is 0.0 Mean is 0.00 25% is 0.0 75% is 0.0 95% is 0.0\n",
      "ZFD50 1 Min is 0.0 Max is 0.0 Mean is 0.00 25% is 0.0 75% is 0.0 95% is 0.0\n",
      "ZST2Y 1 Min is 0.0 Max is 0.0 Mean is 0.00 25% is 0.0 75% is 0.0 95% is 0.0\n",
      "ZST1Y 1 Min is 0.0 Max is 0.0 Mean is 0.00 25% is 0.0 75% is 0.0 95% is 0.0\n",
      "Z39NP 1 Min is 0.0 Max is 0.0 Mean is 0.00 25% is 0.0 75% is 0.0 95% is 0.0\n",
      "Z43X 2 Min is 220.0 Max is 221.0 Mean is 220.50 25% is 220.25 75% is 220.75 95% is 220.95\n",
      "ZGR2 1 Min is 0.0 Max is 0.0 Mean is 0.00 25% is 0.0 75% is 0.0 95% is 0.0\n",
      "Z2CO 1 Min is 0.0 Max is 0.0 Mean is 0.00 25% is 0.0 75% is 0.0 95% is 0.0\n",
      "ZAFT1 2 Min is 35.0 Max is 50.0 Mean is 42.50 25% is 38.75 75% is 46.25 95% is 49.25\n",
      "ZREBT 1 Min is 0.0 Max is 0.0 Mean is 0.00 25% is 0.0 75% is 0.0 95% is 0.0\n",
      "ZFD01 1 Min is 0.0 Max is 0.0 Mean is 0.00 25% is 0.0 75% is 0.0 95% is 0.0\n",
      "ZDSOP 1 Min is 0.0 Max is 0.0 Mean is 0.00 25% is 0.0 75% is 0.0 95% is 0.0\n",
      "ZPP1 1 Min is 43.0 Max is 43.0 Mean is 43.00 25% is 43.0 75% is 43.0 95% is 43.0\n",
      "Z34E 1 Min is 30.0 Max is 30.0 Mean is 30.00 25% is 30.0 75% is 30.0 95% is 30.0\n",
      "Z3CP 1 Min is 0.0 Max is 0.0 Mean is 0.00 25% is 0.0 75% is 0.0 95% is 0.0\n",
      "ZCP05 1 Min is 55.0 Max is 55.0 Mean is 55.00 25% is 55.0 75% is 55.0 95% is 55.0\n",
      "ZMAE 1 Min is 40.0 Max is 40.0 Mean is 40.00 25% is 40.0 75% is 40.0 95% is 40.0\n",
      "ZMODV 1 Min is 0.0 Max is 0.0 Mean is 0.00 25% is 0.0 75% is 0.0 95% is 0.0\n",
      "ZUM3 1 Min is 20.0 Max is 20.0 Mean is 20.00 25% is 20.0 75% is 20.0 95% is 20.0\n",
      "ZUM2 1 Min is 15.0 Max is 15.0 Mean is 15.00 25% is 15.0 75% is 15.0 95% is 15.0\n",
      "ZFD14 1 Min is 0.0 Max is 0.0 Mean is 0.00 25% is 0.0 75% is 0.0 95% is 0.0\n",
      "ZFD16 1 Min is 0.0 Max is 0.0 Mean is 0.00 25% is 0.0 75% is 0.0 95% is 0.0\n",
      "ZSURS 1 Min is 0.0 Max is 0.0 Mean is 0.00 25% is 0.0 75% is 0.0 95% is 0.0\n",
      "ZSURC 1 Min is 0.0 Max is 0.0 Mean is 0.00 25% is 0.0 75% is 0.0 95% is 0.0\n",
      "ZPIP5 1 Min is 0.0 Max is 0.0 Mean is 0.00 25% is 0.0 75% is 0.0 95% is 0.0\n",
      "ZFD18 1 Min is 0.0 Max is 0.0 Mean is 0.00 25% is 0.0 75% is 0.0 95% is 0.0\n",
      "ZSTB3 1 Min is 0.0 Max is 0.0 Mean is 0.00 25% is 0.0 75% is 0.0 95% is 0.0\n",
      "ZSJ22 1 Min is 0.0 Max is 0.0 Mean is 0.00 25% is 0.0 75% is 0.0 95% is 0.0\n",
      "ZCFW 1 Min is 0.0 Max is 0.0 Mean is 0.00 25% is 0.0 75% is 0.0 95% is 0.0\n",
      "ZAU92 1 Min is 0.0 Max is 0.0 Mean is 0.00 25% is 0.0 75% is 0.0 95% is 0.0\n",
      "ZAU93 1 Min is 0.0 Max is 0.0 Mean is 0.00 25% is 0.0 75% is 0.0 95% is 0.0\n",
      "ZRLDI 1 Min is 0.0 Max is 0.0 Mean is 0.00 25% is 0.0 75% is 0.0 95% is 0.0\n",
      "ZFD25 1 Min is 0.0 Max is 0.0 Mean is 0.00 25% is 0.0 75% is 0.0 95% is 0.0\n",
      "time: 18.2 s\n"
     ]
    }
   ],
   "source": [
    "coverage_code_df = zcode.groupby('COVERAGE_CODE_AUTOMOBILE')['COVERAGE_CODE_AUTOMOBILE'].count().reset_index(name = 'count').sort_values(['count'], ascending=False)\n",
    "coverage_code_list = coverage_code_df['COVERAGE_CODE_AUTOMOBILE'].unique().tolist()\n",
    "for i in coverage_code_list:\n",
    "    print(i ,zcode[zcode['COVERAGE_CODE_AUTOMOBILE']==i]['FULL_TERM_PREMIUM_COVERAGE'].nunique(),\n",
    "          'Min is '+str(zcode[zcode['COVERAGE_CODE_AUTOMOBILE']==i]['FULL_TERM_PREMIUM_COVERAGE'].min()), \n",
    "          'Max is '+str(zcode[zcode['COVERAGE_CODE_AUTOMOBILE']==i]['FULL_TERM_PREMIUM_COVERAGE'].max()),\n",
    "          'Mean is {:.2f}'.format(zcode[zcode['COVERAGE_CODE_AUTOMOBILE']==i]['FULL_TERM_PREMIUM_COVERAGE'].mean()),\n",
    "          '25% is '+str(zcode[zcode['COVERAGE_CODE_AUTOMOBILE']==i]['FULL_TERM_PREMIUM_COVERAGE'].quantile(0.25)),\n",
    "          '75% is '+str(zcode[zcode['COVERAGE_CODE_AUTOMOBILE']==i]['FULL_TERM_PREMIUM_COVERAGE'].quantile(0.75)),\n",
    "          '95% is '+str(zcode[zcode['COVERAGE_CODE_AUTOMOBILE']==i]['FULL_TERM_PREMIUM_COVERAGE'].quantile(0.95)))"
   ]
  },
  {
   "cell_type": "code",
   "execution_count": 22,
   "metadata": {},
   "outputs": [
    {
     "name": "stdout",
     "output_type": "stream",
     "text": [
      "time: 2.97 ms\n"
     ]
    }
   ],
   "source": [
    "code_list = ['AB',\n",
    " 'UA',\n",
    " 'PAK09',\n",
    " 'CMP',\n",
    " 'TPDC',\n",
    " 'TPBI',\n",
    " '44',\n",
    " 'ZAFW',\n",
    " 'COLOD',\n",
    " 'AP',\n",
    " 'MRB',\n",
    " 'COL',\n",
    " 'CPP',\n",
    " 'ZCX2',\n",
    " 'Z43O',\n",
    " '3',\n",
    " 'HSL',\n",
    " 'WIB',\n",
    " '19A',\n",
    " 'MCP',\n",
    " 'PAK06',\n",
    " 'TP',\n",
    " 'ZCX3',\n",
    " 'DRALX',\n",
    " 'ZCSD',\n",
    " 'DRBLO',\n",
    " 'ABOD',\n",
    " 'ZZAWE',\n",
    " 'ZCS3',\n",
    " '2',\n",
    " '35',\n",
    " 'TPOD',\n",
    " 'DCB',\n",
    " 'PAK08',\n",
    " 'DFB',\n",
    " 'ZDDE',\n",
    " 'ZRPP',\n",
    " 'ZCX1',\n",
    " 'UAOD',\n",
    " 'TPOBI',\n",
    " 'Z43S',\n",
    " 'TPODC',\n",
    " '18',\n",
    " 'ZC19A',\n",
    " 'ZCSB',\n",
    " 'ZCS2',\n",
    " 'ZEVO2',\n",
    " 'PAK05',\n",
    " 'APOD',\n",
    " '43E',\n",
    " 'ZOF6*',\n",
    " 'ZCS1',\n",
    " 'Z00G',\n",
    " 'ZEVA',\n",
    " 'ZCX5',\n",
    " 'ZCX6',\n",
    " 'PAK03',\n",
    " 'SP',\n",
    " 'IDB',\n",
    " 'ZCS4',\n",
    " 'Z00H',\n",
    " 'ZCX4',\n",
    " 'ZMMM',\n",
    " 'ZRPS']"
   ]
  },
  {
   "cell_type": "code",
   "execution_count": 23,
   "metadata": {},
   "outputs": [
    {
     "name": "stdout",
     "output_type": "stream",
     "text": [
      "time: 18 ms\n"
     ]
    }
   ],
   "source": [
    "code_list_df = pd.DataFrame(code_list,columns = ['COVERAGE_CODE'])"
   ]
  },
  {
   "cell_type": "code",
   "execution_count": 24,
   "metadata": {},
   "outputs": [
    {
     "name": "stdout",
     "output_type": "stream",
     "text": [
      "time: 15.6 s\n"
     ]
    }
   ],
   "source": [
    "discount_count = b1.groupby(['POSTAL_CODE','extendedVehicleCode','COMPANY_CODE','modelYear','AGE_D1','COVERAGE_CODE_AUTOMOBILE_CLASS','DRIVING_AGE','VIN_SERIAL_NUMBER_1'])['COVERAGE_CODE_AUTOMOBILE'].agg('count').reset_index(name=\"n_discounts\")"
   ]
  },
  {
   "cell_type": "code",
   "execution_count": 25,
   "metadata": {},
   "outputs": [
    {
     "name": "stdout",
     "output_type": "stream",
     "text": [
      "time: 54 s\n"
     ]
    }
   ],
   "source": [
    "b1 = pd.merge(b1,discount_count,left_on = ['POSTAL_CODE','extendedVehicleCode','COMPANY_CODE','modelYear','AGE_D1','COVERAGE_CODE_AUTOMOBILE_CLASS'],right_on=['POSTAL_CODE','extendedVehicleCode','COMPANY_CODE','modelYear','AGE_D1','COVERAGE_CODE_AUTOMOBILE_CLASS'],how = 'left')"
   ]
  },
  {
   "cell_type": "code",
   "execution_count": 26,
   "metadata": {},
   "outputs": [
    {
     "name": "stdout",
     "output_type": "stream",
     "text": [
      "time: 9.05 s\n"
     ]
    }
   ],
   "source": [
    "new_train = pd.merge(b1,code_list_df,left_on = 'COVERAGE_CODE_AUTOMOBILE',right_on='COVERAGE_CODE',how = 'left')"
   ]
  },
  {
   "cell_type": "code",
   "execution_count": 27,
   "metadata": {},
   "outputs": [
    {
     "name": "stdout",
     "output_type": "stream",
     "text": [
      "(5652797, 41)\n",
      "time: 49.5 s\n"
     ]
    }
   ],
   "source": [
    "new_train = new_train[new_train['COVERAGE_CODE'].notnull()]\n",
    "new_train = new_train.drop_duplicates()\n",
    "print(new_train.shape)\n",
    "#(5636792, 38)"
   ]
  },
  {
   "cell_type": "code",
   "execution_count": 28,
   "metadata": {},
   "outputs": [
    {
     "name": "stdout",
     "output_type": "stream",
     "text": [
      "file has been created\n",
      "time: 6min 9s\n"
     ]
    }
   ],
   "source": [
    "with adl.open('/LeadGen/Raw/Silver/AUTO/Train_data/new_train.pkl', 'wb') as f:\n",
    "    pickle.dump(new_train,f,pickle.HIGHEST_PROTOCOL)\n",
    "print('file has been created')"
   ]
  },
  {
   "cell_type": "code",
   "execution_count": 3,
   "metadata": {},
   "outputs": [
    {
     "name": "stdout",
     "output_type": "stream",
     "text": [
      "time: 57.3 s\n"
     ]
    }
   ],
   "source": [
    "with adl.open('/LeadGen/Raw/Silver/AUTO/Train_data/new_train.pkl', 'rb') as f:\n",
    "    new_train = pickle.load(f)"
   ]
  },
  {
   "cell_type": "code",
   "execution_count": 4,
   "metadata": {},
   "outputs": [
    {
     "name": "stdout",
     "output_type": "stream",
     "text": [
      "time: 6.66 s\n"
     ]
    }
   ],
   "source": [
    "new_train = new_train[new_train['FSA'].notnull()]\n",
    "new_train = new_train[new_train['extendedVehicleCode'].notnull()]\n",
    "new_train['n_discounts'] = new_train['n_discounts'].fillna(0)"
   ]
  },
  {
   "cell_type": "code",
   "execution_count": 14,
   "metadata": {},
   "outputs": [
    {
     "data": {
      "text/plain": [
       "Index(['AGE_D1', 'FSA', 'POSTAL_CODE', 'COMPANY_CODE',\n",
       "       'COVERAGE_CODE_AUTOMOBILE', 'DEDUCTIBLE_AMOUNT',\n",
       "       'DISTANCE_DRIVEN_ANNUALLY', 'LIMIT_1', 'VEHICLE_CODE1',\n",
       "       'VEHICLE_RATE_GROUP', 'DRIVING_AGE_x', 'VEHICLE_AGE',\n",
       "       'MULTICAR_DISCOUNT_INDICATOR', 'DRIVERS_NUM',\n",
       "       'FULL_TERM_PREMIUM_COVERAGE', 'DRIVER_SEX_CODE_D1', 'AUTO_CLAIMS',\n",
       "       'CONVICTION_NUM', 'DRIVER_MARITAL_STATUS_CODE_D1', 'NEW_CITY_NAME',\n",
       "       'PROVINCE_STATE_ABBREVIATION', 'COVERAGE_CODE_AUTOMOBILE_CLASS',\n",
       "       'VIN_SERIAL_NUMBER', 'VIN_SERIAL_NUMBER_1_x', 'VIN_NUMBER',\n",
       "       'extendedVehicleCode', 'modelYear', 'make', 'model', 'vehicleType',\n",
       "       'bodyStyle', 'driveTrain', 'CSIOBodyType', 'CITY', 'PROVINCE',\n",
       "       'LONGITUDE', 'LATITUDE', 'DRIVING_AGE_y', 'VIN_SERIAL_NUMBER_1_y',\n",
       "       'n_discounts', 'COVERAGE_CODE'],\n",
       "      dtype='object')"
      ]
     },
     "execution_count": 14,
     "metadata": {},
     "output_type": "execute_result"
    },
    {
     "name": "stdout",
     "output_type": "stream",
     "text": [
      "time: 1.04 s\n"
     ]
    }
   ],
   "source": [
    "new_train[(new_train['CITY']=='CALGARY')&(new_train['VEHICLE_CODE1']=='090000')&(new_train['COVERAGE_CODE']=='TP')].columns"
   ]
  },
  {
   "cell_type": "code",
   "execution_count": 15,
   "metadata": {},
   "outputs": [
    {
     "name": "stdout",
     "output_type": "stream",
     "text": [
      "time: 17.8 s\n"
     ]
    }
   ],
   "source": [
    "new_train = new_train[new_train['FULL_TERM_PREMIUM_COVERAGE']<4000]\n",
    "num_cols = ['AGE_D1',\n",
    "            #'LONGITUDE',\n",
    "            #'LATITUDE',\n",
    "            #'LIMIT_1',\n",
    "            #'DEDUCTIBLE_AMOUNT',\n",
    "            #'DRIVING_AGE',\n",
    "            'modelYear',\n",
    "            #'VEHICLE_AGE',\n",
    "            'FULL_TERM_PREMIUM_COVERAGE',\n",
    "            #'AUTO_CLAIMS',\n",
    "            #'CONVICTION_NUM'\n",
    "            'n_discounts'\n",
    "           ]\n",
    "\n",
    "target = ['FULL_TERM_PREMIUM_COVERAGE']\n",
    "\n",
    "for col in num_cols:\n",
    "    new_train[col] =pd.to_numeric(new_train[col],errors='coerce')\n",
    "    #hold_out_1[col] =pd.to_numeric(hold_out_1[col],errors='coerce')\n",
    "pd.set_option('float_format', '{:f}'.format)\n",
    "cat_vars=['COVERAGE_CODE_AUTOMOBILE',\n",
    "          'COMPANY_CODE',\n",
    "          #'DRIVER_SEX_CODE_D1',\n",
    "          'extendedVehicleCode',\n",
    "          'PROVINCE',\n",
    "          'CITY',\n",
    "          #'POSTAL_CODE',\n",
    "          'FSA',\n",
    "          #'CSIOBodyType',\n",
    "          #'make',\n",
    "          #'model'\n",
    "        ]\n",
    "for i in cat_vars:\n",
    "    new_train[i] = new_train[i].astype('category')"
   ]
  },
  {
   "cell_type": "code",
   "execution_count": 16,
   "metadata": {},
   "outputs": [
    {
     "name": "stdout",
     "output_type": "stream",
     "text": [
      "time: 995 µs\n"
     ]
    }
   ],
   "source": [
    "input_cols = ['CITY',\n",
    "              'COMPANY_CODE',\n",
    "              'COVERAGE_CODE_AUTOMOBILE',\n",
    "              #'POSTAL_CODE',\n",
    "              'FSA',\n",
    "              'PROVINCE',\n",
    "              'extendedVehicleCode',\n",
    "              #'make',\n",
    "              #'model',\n",
    "              #'CSIOBodyType',\n",
    "              'AGE_D1',\n",
    "              #'LIMIT_1',\n",
    "              #'DEDUCTIBLE_AMOUNT',\n",
    "              'modelYear',\n",
    "              #'LONGITUDE',\n",
    "              #'LATITUDE',\n",
    "              #'DRIVING_AGE'\n",
    "              #'n_discounts'\n",
    "             ]"
   ]
  },
  {
   "cell_type": "code",
   "execution_count": 17,
   "metadata": {},
   "outputs": [
    {
     "name": "stdout",
     "output_type": "stream",
     "text": [
      "time: 348 ms\n"
     ]
    }
   ],
   "source": [
    "#split train data, test data and validation data\n",
    "x_train = new_train[input_cols]\n",
    "y_train = new_train[target]"
   ]
  },
  {
   "cell_type": "code",
   "execution_count": 18,
   "metadata": {},
   "outputs": [
    {
     "name": "stdout",
     "output_type": "stream",
     "text": [
      "Error in callback <function LineWatcher.stop at 0x000002AD1A581F28> (for post_run_cell):\n"
     ]
    },
    {
     "ename": "AssertionError",
     "evalue": "",
     "output_type": "error",
     "traceback": [
      "\u001b[1;31m---------------------------------------------------------------------------\u001b[0m",
      "\u001b[1;31mAssertionError\u001b[0m                            Traceback (most recent call last)",
      "\u001b[1;32mC:\\Anaconda\\lib\\site-packages\\backcall\\backcall.py\u001b[0m in \u001b[0;36madapted\u001b[1;34m(*args, **kwargs)\u001b[0m\n\u001b[0;32m    102\u001b[0m                 \u001b[0mkwargs\u001b[0m\u001b[1;33m.\u001b[0m\u001b[0mpop\u001b[0m\u001b[1;33m(\u001b[0m\u001b[0mname\u001b[0m\u001b[1;33m)\u001b[0m\u001b[1;33m\u001b[0m\u001b[1;33m\u001b[0m\u001b[0m\n\u001b[0;32m    103\u001b[0m \u001b[1;31m#            print(args, kwargs, unmatched_pos, cut_positional, unmatched_kw)\u001b[0m\u001b[1;33m\u001b[0m\u001b[1;33m\u001b[0m\u001b[1;33m\u001b[0m\u001b[0m\n\u001b[1;32m--> 104\u001b[1;33m             \u001b[1;32mreturn\u001b[0m \u001b[0mcallback\u001b[0m\u001b[1;33m(\u001b[0m\u001b[1;33m*\u001b[0m\u001b[0margs\u001b[0m\u001b[1;33m,\u001b[0m \u001b[1;33m**\u001b[0m\u001b[0mkwargs\u001b[0m\u001b[1;33m)\u001b[0m\u001b[1;33m\u001b[0m\u001b[1;33m\u001b[0m\u001b[0m\n\u001b[0m\u001b[0;32m    105\u001b[0m \u001b[1;33m\u001b[0m\u001b[0m\n\u001b[0;32m    106\u001b[0m         \u001b[1;32mreturn\u001b[0m \u001b[0madapted\u001b[0m\u001b[1;33m\u001b[0m\u001b[1;33m\u001b[0m\u001b[0m\n",
      "\u001b[1;32mC:\\Anaconda\\lib\\site-packages\\autotime.py\u001b[0m in \u001b[0;36mstop\u001b[1;34m(self)\u001b[0m\n\u001b[0;32m     23\u001b[0m         \u001b[1;32mif\u001b[0m \u001b[0mself\u001b[0m\u001b[1;33m.\u001b[0m\u001b[0mstart_time\u001b[0m\u001b[1;33m:\u001b[0m\u001b[1;33m\u001b[0m\u001b[1;33m\u001b[0m\u001b[0m\n\u001b[0;32m     24\u001b[0m             \u001b[0mdiff\u001b[0m \u001b[1;33m=\u001b[0m \u001b[0mtime\u001b[0m\u001b[1;33m.\u001b[0m\u001b[0mtime\u001b[0m\u001b[1;33m(\u001b[0m\u001b[1;33m)\u001b[0m \u001b[1;33m-\u001b[0m \u001b[0mself\u001b[0m\u001b[1;33m.\u001b[0m\u001b[0mstart_time\u001b[0m\u001b[1;33m\u001b[0m\u001b[1;33m\u001b[0m\u001b[0m\n\u001b[1;32m---> 25\u001b[1;33m             \u001b[1;32massert\u001b[0m \u001b[0mdiff\u001b[0m \u001b[1;33m>\u001b[0m \u001b[1;36m0\u001b[0m\u001b[1;33m\u001b[0m\u001b[1;33m\u001b[0m\u001b[0m\n\u001b[0m\u001b[0;32m     26\u001b[0m             \u001b[0mprint\u001b[0m\u001b[1;33m(\u001b[0m\u001b[1;34m'time: %s'\u001b[0m \u001b[1;33m%\u001b[0m \u001b[0mformat_delta\u001b[0m\u001b[1;33m(\u001b[0m\u001b[0mdiff\u001b[0m\u001b[1;33m)\u001b[0m\u001b[1;33m)\u001b[0m\u001b[1;33m\u001b[0m\u001b[1;33m\u001b[0m\u001b[0m\n\u001b[0;32m     27\u001b[0m \u001b[1;33m\u001b[0m\u001b[0m\n",
      "\u001b[1;31mAssertionError\u001b[0m: "
     ]
    }
   ],
   "source": [
    "#x_train, x_z_val, y_train, y_z_val = train_test_split(x_train, y_train, test_size=0.10, random_state=99)"
   ]
  },
  {
   "cell_type": "code",
   "execution_count": 19,
   "metadata": {},
   "outputs": [
    {
     "name": "stdout",
     "output_type": "stream",
     "text": [
      "CITY 433\n",
      "COMPANY_CODE 53\n",
      "COVERAGE_CODE_AUTOMOBILE 64\n",
      "FSA 1065\n",
      "PROVINCE 13\n",
      "extendedVehicleCode 5603\n",
      "AGE_D1 94\n",
      "modelYear 40\n",
      "time: 507 ms\n"
     ]
    }
   ],
   "source": [
    "for i in x_train.columns:\n",
    "    print(i,x_train[i].nunique())"
   ]
  },
  {
   "cell_type": "code",
   "execution_count": 20,
   "metadata": {},
   "outputs": [
    {
     "name": "stdout",
     "output_type": "stream",
     "text": [
      "CITY 1.0\n",
      "COMPANY_CODE 1.0\n",
      "COVERAGE_CODE_AUTOMOBILE 1.0\n",
      "FSA 1.0\n",
      "PROVINCE 1.0\n",
      "extendedVehicleCode 1.0\n",
      "AGE_D1 1.0\n",
      "modelYear 1.0\n",
      "time: 3.12 s\n"
     ]
    }
   ],
   "source": [
    "for c in x_train.columns:\n",
    "    print(c, len(x_train[x_train[c].notnull()])/len(x_train))"
   ]
  },
  {
   "cell_type": "code",
   "execution_count": 21,
   "metadata": {},
   "outputs": [
    {
     "name": "stdout",
     "output_type": "stream",
     "text": [
      "time: 2 ms\n"
     ]
    }
   ],
   "source": [
    "def Light_GBM(x_train,y_train,x_test,y_test,cat_vars,early_stopping_rounds,num_boost_round,verbose_eval):\n",
    "    print()\n",
    "    print(format('start train light gbm model with basic setup','*^82'))\n",
    "    # create dataset for lightgbm\n",
    "    lgb_train = lgb.Dataset(x_train, y_train)\n",
    "    lgb_eval = lgb.Dataset(x_test, y_test, reference=lgb_train)\n",
    "\n",
    "    params = {\n",
    "    'boosting_type': 'gbdt',\n",
    "    'objective': 'regression',\n",
    "    'metric': {'l1'},\n",
    "    'max_depth' : -1,\n",
    "    'num_leaves': 8000,\n",
    "    'learning_rate': 0.1,\n",
    "    'feature_fraction': 0.9,\n",
    "    'bagging_fraction': 0.8,\n",
    "    'bagging_freq': 5,\n",
    "    'verbose': 0\n",
    "}\n",
    "    \n",
    "    evals_result = {}  # to record eval results for plotting\n",
    "    \n",
    "    gbm = lgb.train(params,\n",
    "                lgb_train,\n",
    "                num_boost_round=num_boost_round,\n",
    "                valid_sets=lgb_eval,\n",
    "                early_stopping_rounds=early_stopping_rounds,\n",
    "                categorical_feature=cat_vars,\n",
    "                evals_result=evals_result,\n",
    "                verbose_eval=verbose_eval)\n",
    "    \n",
    "    print(format('basic model training is done','*^82')) \n",
    "    return gbm"
   ]
  },
  {
   "cell_type": "code",
   "execution_count": null,
   "metadata": {},
   "outputs": [
    {
     "name": "stdout",
     "output_type": "stream",
     "text": [
      "\n",
      "*******************start train light gbm model with basic setup*******************\n"
     ]
    },
    {
     "name": "stderr",
     "output_type": "stream",
     "text": [
      "C:\\Anaconda\\lib\\site-packages\\lightgbm\\basic.py:1190: UserWarning: categorical_feature in Dataset is overridden.\n",
      "New categorical_feature is ['CITY', 'COMPANY_CODE', 'COVERAGE_CODE_AUTOMOBILE', 'FSA', 'PROVINCE', 'extendedVehicleCode']\n",
      "  'New categorical_feature is {}'.format(sorted(list(categorical_feature))))\n",
      "C:\\Anaconda\\lib\\site-packages\\lightgbm\\basic.py:752: UserWarning: categorical_feature in param dict is overridden.\n",
      "  warnings.warn('categorical_feature in param dict is overridden.')\n"
     ]
    },
    {
     "name": "stdout",
     "output_type": "stream",
     "text": [
      "Training until validation scores don't improve for 50 rounds.\n",
      "[50]\tvalid_0's l1: 40.1729\n",
      "[100]\tvalid_0's l1: 34.6665\n",
      "[150]\tvalid_0's l1: 31.5916\n",
      "[200]\tvalid_0's l1: 29.48\n",
      "[250]\tvalid_0's l1: 27.7807\n",
      "[300]\tvalid_0's l1: 26.2968\n",
      "[350]\tvalid_0's l1: 25.0915\n",
      "[400]\tvalid_0's l1: 23.9988\n",
      "[450]\tvalid_0's l1: 23.065\n"
     ]
    }
   ],
   "source": [
    "#overfitting model\n",
    "gbm = Light_GBM(x_train,y_train,x_train,y_train,cat_vars,50,1500,50)"
   ]
  },
  {
   "cell_type": "code",
   "execution_count": 26,
   "metadata": {},
   "outputs": [
    {
     "name": "stdout",
     "output_type": "stream",
     "text": [
      "\n",
      "*******************start train light gbm model with basic setup*******************\n",
      "Training until validation scores don't improve for 50 rounds.\n",
      "[50]\tvalid_0's l1: 41.7669\n",
      "[100]\tvalid_0's l1: 36.6079\n",
      "[150]\tvalid_0's l1: 33.7639\n",
      "[200]\tvalid_0's l1: 31.8327\n",
      "[250]\tvalid_0's l1: 30.2475\n",
      "[300]\tvalid_0's l1: 28.8386\n",
      "[350]\tvalid_0's l1: 27.7438\n",
      "[400]\tvalid_0's l1: 26.7109\n",
      "[450]\tvalid_0's l1: 25.8032\n",
      "[500]\tvalid_0's l1: 25.0147\n",
      "[550]\tvalid_0's l1: 24.2041\n",
      "[600]\tvalid_0's l1: 23.4933\n",
      "[650]\tvalid_0's l1: 22.8604\n",
      "[700]\tvalid_0's l1: 22.2384\n",
      "[750]\tvalid_0's l1: 21.6215\n",
      "[800]\tvalid_0's l1: 21.067\n",
      "[850]\tvalid_0's l1: 20.571\n",
      "[900]\tvalid_0's l1: 20.0868\n",
      "[950]\tvalid_0's l1: 19.6546\n",
      "[1000]\tvalid_0's l1: 19.2263\n",
      "[1050]\tvalid_0's l1: 18.8351\n",
      "[1100]\tvalid_0's l1: 18.4683\n",
      "[1150]\tvalid_0's l1: 18.0965\n",
      "[1200]\tvalid_0's l1: 17.77\n",
      "[1250]\tvalid_0's l1: 17.4177\n",
      "[1300]\tvalid_0's l1: 17.1239\n",
      "[1350]\tvalid_0's l1: 16.8426\n",
      "[1400]\tvalid_0's l1: 16.5602\n"
     ]
    },
    {
     "ename": "KeyboardInterrupt",
     "evalue": "",
     "output_type": "error",
     "traceback": [
      "\u001b[1;31m---------------------------------------------------------------------------\u001b[0m",
      "\u001b[1;31mKeyboardInterrupt\u001b[0m                         Traceback (most recent call last)",
      "\u001b[1;32m<ipython-input-26-9db0e0e58719>\u001b[0m in \u001b[0;36m<module>\u001b[1;34m\u001b[0m\n\u001b[0;32m      1\u001b[0m \u001b[1;31m#lr = 0.1\u001b[0m\u001b[1;33m\u001b[0m\u001b[1;33m\u001b[0m\u001b[1;33m\u001b[0m\u001b[0m\n\u001b[1;32m----> 2\u001b[1;33m \u001b[0mgbm\u001b[0m \u001b[1;33m=\u001b[0m \u001b[0mLight_GBM\u001b[0m\u001b[1;33m(\u001b[0m\u001b[0mx_train\u001b[0m\u001b[1;33m,\u001b[0m\u001b[0my_train\u001b[0m\u001b[1;33m,\u001b[0m\u001b[0mx_train\u001b[0m\u001b[1;33m,\u001b[0m\u001b[0my_train\u001b[0m\u001b[1;33m,\u001b[0m\u001b[0mcat_vars\u001b[0m\u001b[1;33m,\u001b[0m\u001b[1;36m50\u001b[0m\u001b[1;33m,\u001b[0m\u001b[1;36m2000\u001b[0m\u001b[1;33m,\u001b[0m\u001b[1;36m50\u001b[0m\u001b[1;33m)\u001b[0m\u001b[1;33m\u001b[0m\u001b[1;33m\u001b[0m\u001b[0m\n\u001b[0m",
      "\u001b[1;32m<ipython-input-23-5c4d067195e4>\u001b[0m in \u001b[0;36mLight_GBM\u001b[1;34m(x_train, y_train, x_test, y_test, cat_vars, early_stopping_rounds, num_boost_round, verbose_eval)\u001b[0m\n\u001b[0;32m     28\u001b[0m                 \u001b[0mcategorical_feature\u001b[0m\u001b[1;33m=\u001b[0m\u001b[0mcat_vars\u001b[0m\u001b[1;33m,\u001b[0m\u001b[1;33m\u001b[0m\u001b[1;33m\u001b[0m\u001b[0m\n\u001b[0;32m     29\u001b[0m                 \u001b[0mevals_result\u001b[0m\u001b[1;33m=\u001b[0m\u001b[0mevals_result\u001b[0m\u001b[1;33m,\u001b[0m\u001b[1;33m\u001b[0m\u001b[1;33m\u001b[0m\u001b[0m\n\u001b[1;32m---> 30\u001b[1;33m                 verbose_eval=verbose_eval)\n\u001b[0m\u001b[0;32m     31\u001b[0m \u001b[1;33m\u001b[0m\u001b[0m\n\u001b[0;32m     32\u001b[0m     \u001b[0mprint\u001b[0m\u001b[1;33m(\u001b[0m\u001b[0mformat\u001b[0m\u001b[1;33m(\u001b[0m\u001b[1;34m'basic model training is done'\u001b[0m\u001b[1;33m,\u001b[0m\u001b[1;34m'*^82'\u001b[0m\u001b[1;33m)\u001b[0m\u001b[1;33m)\u001b[0m\u001b[1;33m\u001b[0m\u001b[1;33m\u001b[0m\u001b[0m\n",
      "\u001b[1;32mC:\\Anaconda\\lib\\site-packages\\lightgbm\\engine.py\u001b[0m in \u001b[0;36mtrain\u001b[1;34m(params, train_set, num_boost_round, valid_sets, valid_names, fobj, feval, init_model, feature_name, categorical_feature, early_stopping_rounds, evals_result, verbose_eval, learning_rates, keep_training_booster, callbacks)\u001b[0m\n\u001b[0;32m    214\u001b[0m                                     evaluation_result_list=None))\n\u001b[0;32m    215\u001b[0m \u001b[1;33m\u001b[0m\u001b[0m\n\u001b[1;32m--> 216\u001b[1;33m         \u001b[0mbooster\u001b[0m\u001b[1;33m.\u001b[0m\u001b[0mupdate\u001b[0m\u001b[1;33m(\u001b[0m\u001b[0mfobj\u001b[0m\u001b[1;33m=\u001b[0m\u001b[0mfobj\u001b[0m\u001b[1;33m)\u001b[0m\u001b[1;33m\u001b[0m\u001b[1;33m\u001b[0m\u001b[0m\n\u001b[0m\u001b[0;32m    217\u001b[0m \u001b[1;33m\u001b[0m\u001b[0m\n\u001b[0;32m    218\u001b[0m         \u001b[0mevaluation_result_list\u001b[0m \u001b[1;33m=\u001b[0m \u001b[1;33m[\u001b[0m\u001b[1;33m]\u001b[0m\u001b[1;33m\u001b[0m\u001b[1;33m\u001b[0m\u001b[0m\n",
      "\u001b[1;32mC:\\Anaconda\\lib\\site-packages\\lightgbm\\basic.py\u001b[0m in \u001b[0;36mupdate\u001b[1;34m(self, train_set, fobj)\u001b[0m\n\u001b[0;32m   1758\u001b[0m             _safe_call(_LIB.LGBM_BoosterUpdateOneIter(\n\u001b[0;32m   1759\u001b[0m                 \u001b[0mself\u001b[0m\u001b[1;33m.\u001b[0m\u001b[0mhandle\u001b[0m\u001b[1;33m,\u001b[0m\u001b[1;33m\u001b[0m\u001b[1;33m\u001b[0m\u001b[0m\n\u001b[1;32m-> 1760\u001b[1;33m                 ctypes.byref(is_finished)))\n\u001b[0m\u001b[0;32m   1761\u001b[0m             \u001b[0mself\u001b[0m\u001b[1;33m.\u001b[0m\u001b[0m__is_predicted_cur_iter\u001b[0m \u001b[1;33m=\u001b[0m \u001b[1;33m[\u001b[0m\u001b[1;32mFalse\u001b[0m \u001b[1;32mfor\u001b[0m \u001b[0m_\u001b[0m \u001b[1;32min\u001b[0m \u001b[0mrange_\u001b[0m\u001b[1;33m(\u001b[0m\u001b[0mself\u001b[0m\u001b[1;33m.\u001b[0m\u001b[0m__num_dataset\u001b[0m\u001b[1;33m)\u001b[0m\u001b[1;33m]\u001b[0m\u001b[1;33m\u001b[0m\u001b[1;33m\u001b[0m\u001b[0m\n\u001b[0;32m   1762\u001b[0m             \u001b[1;32mreturn\u001b[0m \u001b[0mis_finished\u001b[0m\u001b[1;33m.\u001b[0m\u001b[0mvalue\u001b[0m \u001b[1;33m==\u001b[0m \u001b[1;36m1\u001b[0m\u001b[1;33m\u001b[0m\u001b[1;33m\u001b[0m\u001b[0m\n",
      "\u001b[1;31mKeyboardInterrupt\u001b[0m: "
     ]
    },
    {
     "name": "stdout",
     "output_type": "stream",
     "text": [
      "time: 1h 22min 31s\n"
     ]
    }
   ],
   "source": [
    "#lr = 0.1\n",
    "gbm = Light_GBM(x_train,y_train,x_train,y_train,cat_vars,50,2000,50)"
   ]
  },
  {
   "cell_type": "code",
   "execution_count": 108,
   "metadata": {},
   "outputs": [
    {
     "name": "stdout",
     "output_type": "stream",
     "text": [
      "CITY 434\n",
      "COMPANY_CODE 53\n",
      "COVERAGE_CODE_AUTOMOBILE 64\n",
      "POSTAL_CODE 182440\n",
      "FSA 1065\n",
      "PROVINCE 13\n",
      "extendedVehicleCode 5603\n",
      "make 110\n",
      "model 5580\n",
      "CSIOBodyType 12\n",
      "AGE_D1 94\n",
      "modelYear 40\n",
      "n_discounts 24\n",
      "FULL_TERM_PREMIUM_COVERAGE 7883\n",
      "time: 10.7 s\n"
     ]
    }
   ],
   "source": [
    "for i in new_train[['CITY',\n",
    "              'COMPANY_CODE',\n",
    "              'COVERAGE_CODE_AUTOMOBILE',\n",
    "              'POSTAL_CODE',\n",
    "              'FSA',\n",
    "              'PROVINCE',\n",
    "              'extendedVehicleCode',\n",
    "              'make',\n",
    "              'model',\n",
    "              'CSIOBodyType',\n",
    "              'AGE_D1',\n",
    "              #'LIMIT_1',\n",
    "              #'DEDUCTIBLE_AMOUNT',\n",
    "              'modelYear',\n",
    "              #'LONGITUDE',\n",
    "              #'LATITUDE',\n",
    "              #'DRIVING_AGE'\n",
    "              'n_discounts',\n",
    "              'FULL_TERM_PREMIUM_COVERAGE'\n",
    "             ]].columns:\n",
    "    print(i,new_train[['CITY',\n",
    "              'COMPANY_CODE',\n",
    "              'COVERAGE_CODE_AUTOMOBILE',\n",
    "              'POSTAL_CODE',\n",
    "              'FSA',\n",
    "              'PROVINCE',\n",
    "              'extendedVehicleCode',\n",
    "              'make',\n",
    "              'model',\n",
    "              'CSIOBodyType',\n",
    "              'AGE_D1',\n",
    "              #'LIMIT_1',\n",
    "              #'DEDUCTIBLE_AMOUNT',\n",
    "              'modelYear',\n",
    "              #'LONGITUDE',\n",
    "              #'LATITUDE',\n",
    "              #'DRIVING_AGE'\n",
    "              'n_discounts',\n",
    "              'FULL_TERM_PREMIUM_COVERAGE'\n",
    "             ]][i].nunique())"
   ]
  },
  {
   "cell_type": "code",
   "execution_count": 103,
   "metadata": {},
   "outputs": [
    {
     "data": {
      "text/html": [
       "<div>\n",
       "<style scoped>\n",
       "    .dataframe tbody tr th:only-of-type {\n",
       "        vertical-align: middle;\n",
       "    }\n",
       "\n",
       "    .dataframe tbody tr th {\n",
       "        vertical-align: top;\n",
       "    }\n",
       "\n",
       "    .dataframe thead th {\n",
       "        text-align: right;\n",
       "    }\n",
       "</style>\n",
       "<table border=\"1\" class=\"dataframe\">\n",
       "  <thead>\n",
       "    <tr style=\"text-align: right;\">\n",
       "      <th></th>\n",
       "      <th>CITY</th>\n",
       "      <th>COMPANY_CODE</th>\n",
       "      <th>COVERAGE_CODE_AUTOMOBILE</th>\n",
       "      <th>POSTAL_CODE</th>\n",
       "      <th>FSA</th>\n",
       "      <th>PROVINCE</th>\n",
       "      <th>extendedVehicleCode</th>\n",
       "      <th>make</th>\n",
       "      <th>model</th>\n",
       "      <th>AGE_D1</th>\n",
       "      <th>modelYear</th>\n",
       "      <th>n_discounts</th>\n",
       "      <th>FULL_TERM_PREMIUM_COVERAGE</th>\n",
       "    </tr>\n",
       "  </thead>\n",
       "  <tbody>\n",
       "    <tr>\n",
       "      <th>3393021</th>\n",
       "      <td>OPPORTUNITY_NO_17</td>\n",
       "      <td>WU</td>\n",
       "      <td>TP</td>\n",
       "      <td>T0G1L0</td>\n",
       "      <td>T0G</td>\n",
       "      <td>AB</td>\n",
       "      <td>109200</td>\n",
       "      <td>TOYOTA</td>\n",
       "      <td>PRIUS 5DR</td>\n",
       "      <td>18.000000</td>\n",
       "      <td>2008.000000</td>\n",
       "      <td>1.000000</td>\n",
       "      <td>1883.000000</td>\n",
       "    </tr>\n",
       "    <tr>\n",
       "      <th>3251384</th>\n",
       "      <td>OPPORTUNITY_NO_17</td>\n",
       "      <td>ECON</td>\n",
       "      <td>TP</td>\n",
       "      <td>T0G1L0</td>\n",
       "      <td>T0G</td>\n",
       "      <td>AB</td>\n",
       "      <td>143900</td>\n",
       "      <td>ACURA</td>\n",
       "      <td>TL TYPE S 4DR</td>\n",
       "      <td>18.000000</td>\n",
       "      <td>2008.000000</td>\n",
       "      <td>2.000000</td>\n",
       "      <td>1912.000000</td>\n",
       "    </tr>\n",
       "    <tr>\n",
       "      <th>3336022</th>\n",
       "      <td>OPPORTUNITY_NO_17</td>\n",
       "      <td>WU</td>\n",
       "      <td>TP</td>\n",
       "      <td>T0G1L0</td>\n",
       "      <td>T0G</td>\n",
       "      <td>AB</td>\n",
       "      <td>227500</td>\n",
       "      <td>DODGE</td>\n",
       "      <td>CHARGER 4DR</td>\n",
       "      <td>18.000000</td>\n",
       "      <td>2006.000000</td>\n",
       "      <td>2.000000</td>\n",
       "      <td>1972.000000</td>\n",
       "    </tr>\n",
       "    <tr>\n",
       "      <th>3263089</th>\n",
       "      <td>OPPORTUNITY_NO_17</td>\n",
       "      <td>WU</td>\n",
       "      <td>TP</td>\n",
       "      <td>T0G1W0</td>\n",
       "      <td>T0G</td>\n",
       "      <td>AB</td>\n",
       "      <td>677603</td>\n",
       "      <td>GMC TRUCK/VAN</td>\n",
       "      <td>SIERRA 1500 SLE CREW CAB 4WD</td>\n",
       "      <td>18.000000</td>\n",
       "      <td>2006.000000</td>\n",
       "      <td>2.000000</td>\n",
       "      <td>2116.000000</td>\n",
       "    </tr>\n",
       "    <tr>\n",
       "      <th>3342843</th>\n",
       "      <td>OPPORTUNITY_NO_17</td>\n",
       "      <td>WU</td>\n",
       "      <td>TP</td>\n",
       "      <td>T0G1W0</td>\n",
       "      <td>T0G</td>\n",
       "      <td>AB</td>\n",
       "      <td>677603</td>\n",
       "      <td>GMC TRUCK/VAN</td>\n",
       "      <td>SIERRA 1500 SLE CREW CAB 4WD</td>\n",
       "      <td>18.000000</td>\n",
       "      <td>2006.000000</td>\n",
       "      <td>2.000000</td>\n",
       "      <td>2120.000000</td>\n",
       "    </tr>\n",
       "    <tr>\n",
       "      <th>3344140</th>\n",
       "      <td>OPPORTUNITY_NO_17</td>\n",
       "      <td>PEMB</td>\n",
       "      <td>TP</td>\n",
       "      <td>T0G0S0</td>\n",
       "      <td>T0G</td>\n",
       "      <td>AB</td>\n",
       "      <td>674000</td>\n",
       "      <td>GMC TRUCK/VAN</td>\n",
       "      <td>SIERRA 1500 EXT CAB 4WD</td>\n",
       "      <td>18.000000</td>\n",
       "      <td>2002.000000</td>\n",
       "      <td>1.000000</td>\n",
       "      <td>2159.000000</td>\n",
       "    </tr>\n",
       "    <tr>\n",
       "      <th>3275039</th>\n",
       "      <td>OPPORTUNITY_NO_17</td>\n",
       "      <td>WU</td>\n",
       "      <td>TP</td>\n",
       "      <td>T0G1L0</td>\n",
       "      <td>T0G</td>\n",
       "      <td>AB</td>\n",
       "      <td>227500</td>\n",
       "      <td>DODGE</td>\n",
       "      <td>CHARGER 4DR</td>\n",
       "      <td>18.000000</td>\n",
       "      <td>2006.000000</td>\n",
       "      <td>2.000000</td>\n",
       "      <td>2486.000000</td>\n",
       "    </tr>\n",
       "    <tr>\n",
       "      <th>110331</th>\n",
       "      <td>OPPORTUNITY_NO_17</td>\n",
       "      <td>WU</td>\n",
       "      <td>TP</td>\n",
       "      <td>T0G0Z0</td>\n",
       "      <td>T0G</td>\n",
       "      <td>AB</td>\n",
       "      <td>053201</td>\n",
       "      <td>HYUNDAI</td>\n",
       "      <td>ACCENT GL 4DR</td>\n",
       "      <td>18.000000</td>\n",
       "      <td>2010.000000</td>\n",
       "      <td>1.000000</td>\n",
       "      <td>2500.000000</td>\n",
       "    </tr>\n",
       "  </tbody>\n",
       "</table>\n",
       "</div>"
      ],
      "text/plain": [
       "                      CITY COMPANY_CODE COVERAGE_CODE_AUTOMOBILE POSTAL_CODE  \\\n",
       "3393021  OPPORTUNITY_NO_17           WU                       TP      T0G1L0   \n",
       "3251384  OPPORTUNITY_NO_17         ECON                       TP      T0G1L0   \n",
       "3336022  OPPORTUNITY_NO_17           WU                       TP      T0G1L0   \n",
       "3263089  OPPORTUNITY_NO_17           WU                       TP      T0G1W0   \n",
       "3342843  OPPORTUNITY_NO_17           WU                       TP      T0G1W0   \n",
       "3344140  OPPORTUNITY_NO_17         PEMB                       TP      T0G0S0   \n",
       "3275039  OPPORTUNITY_NO_17           WU                       TP      T0G1L0   \n",
       "110331   OPPORTUNITY_NO_17           WU                       TP      T0G0Z0   \n",
       "\n",
       "         FSA PROVINCE extendedVehicleCode           make  \\\n",
       "3393021  T0G       AB              109200         TOYOTA   \n",
       "3251384  T0G       AB              143900          ACURA   \n",
       "3336022  T0G       AB              227500          DODGE   \n",
       "3263089  T0G       AB              677603  GMC TRUCK/VAN   \n",
       "3342843  T0G       AB              677603  GMC TRUCK/VAN   \n",
       "3344140  T0G       AB              674000  GMC TRUCK/VAN   \n",
       "3275039  T0G       AB              227500          DODGE   \n",
       "110331   T0G       AB              053201        HYUNDAI   \n",
       "\n",
       "                                model    AGE_D1   modelYear  n_discounts  \\\n",
       "3393021                     PRIUS 5DR 18.000000 2008.000000     1.000000   \n",
       "3251384                 TL TYPE S 4DR 18.000000 2008.000000     2.000000   \n",
       "3336022                   CHARGER 4DR 18.000000 2006.000000     2.000000   \n",
       "3263089  SIERRA 1500 SLE CREW CAB 4WD 18.000000 2006.000000     2.000000   \n",
       "3342843  SIERRA 1500 SLE CREW CAB 4WD 18.000000 2006.000000     2.000000   \n",
       "3344140       SIERRA 1500 EXT CAB 4WD 18.000000 2002.000000     1.000000   \n",
       "3275039                   CHARGER 4DR 18.000000 2006.000000     2.000000   \n",
       "110331                  ACCENT GL 4DR 18.000000 2010.000000     1.000000   \n",
       "\n",
       "         FULL_TERM_PREMIUM_COVERAGE  \n",
       "3393021                 1883.000000  \n",
       "3251384                 1912.000000  \n",
       "3336022                 1972.000000  \n",
       "3263089                 2116.000000  \n",
       "3342843                 2120.000000  \n",
       "3344140                 2159.000000  \n",
       "3275039                 2486.000000  \n",
       "110331                  2500.000000  "
      ]
     },
     "execution_count": 103,
     "metadata": {},
     "output_type": "execute_result"
    },
    {
     "name": "stdout",
     "output_type": "stream",
     "text": [
      "time: 145 ms\n"
     ]
    }
   ],
   "source": [
    "new_train[(new_train['FSA']=='T0G')&(new_train['COVERAGE_CODE_AUTOMOBILE']=='TP')&(new_train['AGE_D1']==18)][['CITY',\n",
    "              'COMPANY_CODE',\n",
    "              'COVERAGE_CODE_AUTOMOBILE',\n",
    "              'POSTAL_CODE',\n",
    "              'FSA',\n",
    "              'PROVINCE',\n",
    "              'extendedVehicleCode',\n",
    "              'make',\n",
    "              'model',\n",
    "              #'CSIOBodyType',\n",
    "              'AGE_D1',\n",
    "              #'LIMIT_1',\n",
    "              #'DEDUCTIBLE_AMOUNT',\n",
    "              'modelYear',\n",
    "              #'LONGITUDE',\n",
    "              #'LATITUDE',\n",
    "              #'DRIVING_AGE'\n",
    "              'n_discounts',\n",
    "              'FULL_TERM_PREMIUM_COVERAGE'\n",
    "             ]].sort_values(by='FULL_TERM_PREMIUM_COVERAGE')"
   ]
  },
  {
   "cell_type": "code",
   "execution_count": 96,
   "metadata": {},
   "outputs": [
    {
     "data": {
      "text/html": [
       "<div>\n",
       "<style scoped>\n",
       "    .dataframe tbody tr th:only-of-type {\n",
       "        vertical-align: middle;\n",
       "    }\n",
       "\n",
       "    .dataframe tbody tr th {\n",
       "        vertical-align: top;\n",
       "    }\n",
       "\n",
       "    .dataframe thead th {\n",
       "        text-align: right;\n",
       "    }\n",
       "</style>\n",
       "<table border=\"1\" class=\"dataframe\">\n",
       "  <thead>\n",
       "    <tr style=\"text-align: right;\">\n",
       "      <th></th>\n",
       "      <th>CITY</th>\n",
       "      <th>COMPANY_CODE</th>\n",
       "      <th>COVERAGE_CODE_AUTOMOBILE</th>\n",
       "      <th>POSTAL_CODE</th>\n",
       "      <th>FSA</th>\n",
       "      <th>PROVINCE</th>\n",
       "      <th>extendedVehicleCode</th>\n",
       "      <th>make</th>\n",
       "      <th>model</th>\n",
       "      <th>AGE_D1</th>\n",
       "      <th>modelYear</th>\n",
       "      <th>n_discounts</th>\n",
       "      <th>FULL_TERM_PREMIUM_COVERAGE</th>\n",
       "    </tr>\n",
       "  </thead>\n",
       "  <tbody>\n",
       "    <tr>\n",
       "      <th>123523</th>\n",
       "      <td>EDMONTON</td>\n",
       "      <td>WU</td>\n",
       "      <td>TP</td>\n",
       "      <td>T5R1P2</td>\n",
       "      <td>T5R</td>\n",
       "      <td>AB</td>\n",
       "      <td>359001</td>\n",
       "      <td>FORD TRUCK/VAN</td>\n",
       "      <td>EXPEDITION MAX LIMITED 4DR 4WD</td>\n",
       "      <td>50.000000</td>\n",
       "      <td>2010.000000</td>\n",
       "      <td>2.000000</td>\n",
       "      <td>868.000000</td>\n",
       "    </tr>\n",
       "    <tr>\n",
       "      <th>153394</th>\n",
       "      <td>EDMONTON</td>\n",
       "      <td>WU</td>\n",
       "      <td>TP</td>\n",
       "      <td>T5R1P2</td>\n",
       "      <td>T5R</td>\n",
       "      <td>AB</td>\n",
       "      <td>359001</td>\n",
       "      <td>FORD TRUCK/VAN</td>\n",
       "      <td>EXPEDITION MAX LIMITED 4DR 4WD</td>\n",
       "      <td>50.000000</td>\n",
       "      <td>2010.000000</td>\n",
       "      <td>2.000000</td>\n",
       "      <td>781.000000</td>\n",
       "    </tr>\n",
       "    <tr>\n",
       "      <th>6442780</th>\n",
       "      <td>RED_DEER</td>\n",
       "      <td>CGUI</td>\n",
       "      <td>TP</td>\n",
       "      <td>T4P4A3</td>\n",
       "      <td>T4P</td>\n",
       "      <td>AB</td>\n",
       "      <td>359001</td>\n",
       "      <td>FORD TRUCK/VAN</td>\n",
       "      <td>EXPEDITION MAX LIMITED 4DR 4WD</td>\n",
       "      <td>38.000000</td>\n",
       "      <td>2010.000000</td>\n",
       "      <td>1.000000</td>\n",
       "      <td>467.000000</td>\n",
       "    </tr>\n",
       "    <tr>\n",
       "      <th>8091281</th>\n",
       "      <td>CLEARWATER_COUNTY</td>\n",
       "      <td>GRP</td>\n",
       "      <td>TP</td>\n",
       "      <td>T0M0N0</td>\n",
       "      <td>T0M</td>\n",
       "      <td>AB</td>\n",
       "      <td>359001</td>\n",
       "      <td>FORD TRUCK/VAN</td>\n",
       "      <td>EXPEDITION MAX LIMITED 4DR 4WD</td>\n",
       "      <td>38.000000</td>\n",
       "      <td>2010.000000</td>\n",
       "      <td>2.000000</td>\n",
       "      <td>331.000000</td>\n",
       "    </tr>\n",
       "    <tr>\n",
       "      <th>8135343</th>\n",
       "      <td>CLEARWATER_COUNTY</td>\n",
       "      <td>GRP</td>\n",
       "      <td>TP</td>\n",
       "      <td>T0M0N0</td>\n",
       "      <td>T0M</td>\n",
       "      <td>AB</td>\n",
       "      <td>359001</td>\n",
       "      <td>FORD TRUCK/VAN</td>\n",
       "      <td>EXPEDITION MAX LIMITED 4DR 4WD</td>\n",
       "      <td>38.000000</td>\n",
       "      <td>2010.000000</td>\n",
       "      <td>2.000000</td>\n",
       "      <td>298.000000</td>\n",
       "    </tr>\n",
       "  </tbody>\n",
       "</table>\n",
       "</div>"
      ],
      "text/plain": [
       "                      CITY COMPANY_CODE COVERAGE_CODE_AUTOMOBILE POSTAL_CODE  \\\n",
       "123523            EDMONTON           WU                       TP      T5R1P2   \n",
       "153394            EDMONTON           WU                       TP      T5R1P2   \n",
       "6442780           RED_DEER         CGUI                       TP      T4P4A3   \n",
       "8091281  CLEARWATER_COUNTY          GRP                       TP      T0M0N0   \n",
       "8135343  CLEARWATER_COUNTY          GRP                       TP      T0M0N0   \n",
       "\n",
       "         FSA PROVINCE extendedVehicleCode            make  \\\n",
       "123523   T5R       AB              359001  FORD TRUCK/VAN   \n",
       "153394   T5R       AB              359001  FORD TRUCK/VAN   \n",
       "6442780  T4P       AB              359001  FORD TRUCK/VAN   \n",
       "8091281  T0M       AB              359001  FORD TRUCK/VAN   \n",
       "8135343  T0M       AB              359001  FORD TRUCK/VAN   \n",
       "\n",
       "                                  model    AGE_D1   modelYear  n_discounts  \\\n",
       "123523   EXPEDITION MAX LIMITED 4DR 4WD 50.000000 2010.000000     2.000000   \n",
       "153394   EXPEDITION MAX LIMITED 4DR 4WD 50.000000 2010.000000     2.000000   \n",
       "6442780  EXPEDITION MAX LIMITED 4DR 4WD 38.000000 2010.000000     1.000000   \n",
       "8091281  EXPEDITION MAX LIMITED 4DR 4WD 38.000000 2010.000000     2.000000   \n",
       "8135343  EXPEDITION MAX LIMITED 4DR 4WD 38.000000 2010.000000     2.000000   \n",
       "\n",
       "         FULL_TERM_PREMIUM_COVERAGE  \n",
       "123523                   868.000000  \n",
       "153394                   781.000000  \n",
       "6442780                  467.000000  \n",
       "8091281                  331.000000  \n",
       "8135343                  298.000000  "
      ]
     },
     "execution_count": 96,
     "metadata": {},
     "output_type": "execute_result"
    },
    {
     "name": "stdout",
     "output_type": "stream",
     "text": [
      "time: 180 ms\n"
     ]
    }
   ],
   "source": [
    "new_train[(new_train['extendedVehicleCode']=='359001')&(new_train['COVERAGE_CODE_AUTOMOBILE']=='TP')&(new_train['PROVINCE']=='AB')&(new_train['modelYear']==2010)][['CITY',\n",
    "              'COMPANY_CODE',\n",
    "              'COVERAGE_CODE_AUTOMOBILE',\n",
    "              'POSTAL_CODE',\n",
    "              'FSA',\n",
    "              'PROVINCE',\n",
    "              'extendedVehicleCode',\n",
    "              'make',\n",
    "              'model',\n",
    "              #'CSIOBodyType',\n",
    "              'AGE_D1',\n",
    "              #'LIMIT_1',\n",
    "              #'DEDUCTIBLE_AMOUNT',\n",
    "              'modelYear',\n",
    "              #'LONGITUDE',\n",
    "              #'LATITUDE',\n",
    "              #'DRIVING_AGE'\n",
    "              'n_discounts',\n",
    "              'FULL_TERM_PREMIUM_COVERAGE'\n",
    "             ]].sort_values(by='FULL_TERM_PREMIUM_COVERAGE')"
   ]
  },
  {
   "cell_type": "code",
   "execution_count": 95,
   "metadata": {},
   "outputs": [
    {
     "name": "stdout",
     "output_type": "stream",
     "text": [
      "time: 146 ms\n"
     ]
    }
   ],
   "source": [
    "all = pd.concat([x_train,y_train],axis = 1)"
   ]
  },
  {
   "cell_type": "code",
   "execution_count": 65,
   "metadata": {},
   "outputs": [
    {
     "data": {
      "text/html": [
       "<div>\n",
       "<style scoped>\n",
       "    .dataframe tbody tr th:only-of-type {\n",
       "        vertical-align: middle;\n",
       "    }\n",
       "\n",
       "    .dataframe tbody tr th {\n",
       "        vertical-align: top;\n",
       "    }\n",
       "\n",
       "    .dataframe thead th {\n",
       "        text-align: right;\n",
       "    }\n",
       "</style>\n",
       "<table border=\"1\" class=\"dataframe\">\n",
       "  <thead>\n",
       "    <tr style=\"text-align: right;\">\n",
       "      <th></th>\n",
       "      <th>FULL_TERM_PREMIUM_COVERAGE</th>\n",
       "    </tr>\n",
       "  </thead>\n",
       "  <tbody>\n",
       "    <tr>\n",
       "      <th>8180454</th>\n",
       "      <td>36.000000</td>\n",
       "    </tr>\n",
       "    <tr>\n",
       "      <th>1446635</th>\n",
       "      <td>75.000000</td>\n",
       "    </tr>\n",
       "    <tr>\n",
       "      <th>8650416</th>\n",
       "      <td>269.000000</td>\n",
       "    </tr>\n",
       "    <tr>\n",
       "      <th>3425732</th>\n",
       "      <td>211.000000</td>\n",
       "    </tr>\n",
       "    <tr>\n",
       "      <th>6060941</th>\n",
       "      <td>28.000000</td>\n",
       "    </tr>\n",
       "    <tr>\n",
       "      <th>...</th>\n",
       "      <td>...</td>\n",
       "    </tr>\n",
       "    <tr>\n",
       "      <th>6382793</th>\n",
       "      <td>170.000000</td>\n",
       "    </tr>\n",
       "    <tr>\n",
       "      <th>9577066</th>\n",
       "      <td>218.000000</td>\n",
       "    </tr>\n",
       "    <tr>\n",
       "      <th>1728799</th>\n",
       "      <td>73.000000</td>\n",
       "    </tr>\n",
       "    <tr>\n",
       "      <th>10491962</th>\n",
       "      <td>143.000000</td>\n",
       "    </tr>\n",
       "    <tr>\n",
       "      <th>3438216</th>\n",
       "      <td>784.000000</td>\n",
       "    </tr>\n",
       "  </tbody>\n",
       "</table>\n",
       "<p>5006529 rows × 1 columns</p>\n",
       "</div>"
      ],
      "text/plain": [
       "          FULL_TERM_PREMIUM_COVERAGE\n",
       "8180454                    36.000000\n",
       "1446635                    75.000000\n",
       "8650416                   269.000000\n",
       "3425732                   211.000000\n",
       "6060941                    28.000000\n",
       "...                              ...\n",
       "6382793                   170.000000\n",
       "9577066                   218.000000\n",
       "1728799                    73.000000\n",
       "10491962                  143.000000\n",
       "3438216                   784.000000\n",
       "\n",
       "[5006529 rows x 1 columns]"
      ]
     },
     "execution_count": 65,
     "metadata": {},
     "output_type": "execute_result"
    },
    {
     "name": "stdout",
     "output_type": "stream",
     "text": [
      "time: 9 ms\n"
     ]
    }
   ],
   "source": [
    "y_train"
   ]
  },
  {
   "cell_type": "code",
   "execution_count": 67,
   "metadata": {},
   "outputs": [
    {
     "data": {
      "text/plain": [
       "FULL_TERM_PREMIUM_COVERAGE   4.000000\n",
       "Name: 1093196, dtype: float64"
      ]
     },
     "execution_count": 67,
     "metadata": {},
     "output_type": "execute_result"
    },
    {
     "name": "stdout",
     "output_type": "stream",
     "text": [
      "time: 7.96 ms\n"
     ]
    }
   ],
   "source": [
    "y_train.iloc[3964280]"
   ]
  },
  {
   "cell_type": "code",
   "execution_count": 27,
   "metadata": {},
   "outputs": [
    {
     "name": "stdout",
     "output_type": "stream",
     "text": [
      "\n",
      "**************start feature refined selection based on feature ranks**************\n",
      "running accumulative features with corresponding metrix:\n",
      "---PROVINCE, Thresh=39075869691, n=9, R2: 0.72, mae: 60.45, accuruacy_adj: 0.679---\n",
      "---n_discounts, Thresh=46983900455, n=8, R2: 0.72, mae: 61.10, accuruacy_adj: 0.675---\n",
      "---COMPANY_CODE, Thresh=106001227036, n=7, R2: 0.72, mae: 61.49, accuruacy_adj: 0.673---\n",
      "---FSA, Thresh=106107137930, n=6, R2: 0.66, mae: 67.32, accuruacy_adj: 0.642---\n",
      "---modelYear, Thresh=118727356559, n=5, R2: 0.66, mae: 67.82, accuruacy_adj: 0.639---\n",
      "---extendedVehicleCode, Thresh=145665251296, n=4, R2: 0.64, mae: 71.92, accuruacy_adj: 0.618---\n",
      "---CITY, Thresh=160910368293, n=3, R2: 0.62, mae: 73.48, accuruacy_adj: 0.609---\n",
      "---AGE_D1, Thresh=271597599960, n=2, R2: 0.46, mae: 96.32, accuruacy_adj: 0.488---\n",
      "---COVERAGE_CODE_AUTOMOBILE, Thresh=661194331597, n=1, R2: 0.36, mae: 104.39, accuruacy_adj: 0.445---\n",
      "please select your refined features based on this analysis\n",
      "time: 4min 14s\n"
     ]
    }
   ],
   "source": [
    "LightGBM_features_refined(gbm,x_train,y_train,x_train,y_train,'FULL_TERM_PREMIUM_COVERAGE')"
   ]
  },
  {
   "cell_type": "code",
   "execution_count": null,
   "metadata": {},
   "outputs": [],
   "source": [
    "joblib.dump(gbm, r'C:\\Users\\john.lan\\Desktop\\philip_result_input_1.pkl')"
   ]
  },
  {
   "cell_type": "code",
   "execution_count": 25,
   "metadata": {},
   "outputs": [
    {
     "data": {
      "text/plain": [
       "['C:\\\\Users\\\\john.lan\\\\Desktop\\\\philip_result_input.pkl']"
      ]
     },
     "execution_count": 25,
     "metadata": {},
     "output_type": "execute_result"
    },
    {
     "name": "stdout",
     "output_type": "stream",
     "text": [
      "time: 1min 46s\n"
     ]
    }
   ],
   "source": [
    "#joblib.dump(gbm, r'C:\\Users\\john.lan\\Desktop\\philip_result_input.pkl')"
   ]
  },
  {
   "cell_type": "code",
   "execution_count": 87,
   "metadata": {},
   "outputs": [
    {
     "name": "stdout",
     "output_type": "stream",
     "text": [
      "\n",
      "*******************start train light gbm model with basic setup*******************\n",
      "Training until validation scores don't improve for 50 rounds.\n",
      "[5]\tvalid_0's l1: 104.387\n",
      "[10]\tvalid_0's l1: 75.3086\n",
      "[15]\tvalid_0's l1: 62.3465\n",
      "[20]\tvalid_0's l1: 56.0902\n",
      "[25]\tvalid_0's l1: 50.7968\n",
      "[30]\tvalid_0's l1: 48.0178\n",
      "[35]\tvalid_0's l1: 46.7168\n",
      "[40]\tvalid_0's l1: 45.8454\n",
      "[45]\tvalid_0's l1: 45.4228\n",
      "[50]\tvalid_0's l1: 45.1007\n",
      "[55]\tvalid_0's l1: 44.8599\n",
      "[60]\tvalid_0's l1: 44.6866\n",
      "[65]\tvalid_0's l1: 44.454\n",
      "[70]\tvalid_0's l1: 44.3436\n",
      "[75]\tvalid_0's l1: 44.1266\n",
      "[80]\tvalid_0's l1: 43.9715\n",
      "[85]\tvalid_0's l1: 43.9387\n",
      "[90]\tvalid_0's l1: 43.9893\n",
      "[95]\tvalid_0's l1: 43.7974\n",
      "[100]\tvalid_0's l1: 43.7141\n",
      "[105]\tvalid_0's l1: 43.658\n",
      "[110]\tvalid_0's l1: 43.5663\n",
      "[115]\tvalid_0's l1: 43.4789\n",
      "[120]\tvalid_0's l1: 43.3994\n",
      "[125]\tvalid_0's l1: 43.365\n",
      "[130]\tvalid_0's l1: 43.2702\n",
      "[135]\tvalid_0's l1: 43.1891\n",
      "[140]\tvalid_0's l1: 43.1113\n",
      "[145]\tvalid_0's l1: 43.062\n",
      "[150]\tvalid_0's l1: 43.0034\n",
      "[155]\tvalid_0's l1: 42.9406\n",
      "[160]\tvalid_0's l1: 42.9151\n",
      "[165]\tvalid_0's l1: 42.8761\n",
      "[170]\tvalid_0's l1: 42.839\n",
      "[175]\tvalid_0's l1: 42.782\n",
      "[180]\tvalid_0's l1: 42.7318\n",
      "[185]\tvalid_0's l1: 42.7023\n",
      "[190]\tvalid_0's l1: 42.6444\n",
      "[195]\tvalid_0's l1: 42.5985\n",
      "[200]\tvalid_0's l1: 42.5551\n",
      "[205]\tvalid_0's l1: 42.5273\n",
      "[210]\tvalid_0's l1: 42.4942\n",
      "[215]\tvalid_0's l1: 42.4603\n",
      "[220]\tvalid_0's l1: 42.4423\n",
      "[225]\tvalid_0's l1: 42.3952\n",
      "[230]\tvalid_0's l1: 42.3573\n",
      "[235]\tvalid_0's l1: 42.3202\n",
      "[240]\tvalid_0's l1: 42.2858\n",
      "[245]\tvalid_0's l1: 42.2561\n",
      "[250]\tvalid_0's l1: 42.2282\n",
      "[255]\tvalid_0's l1: 42.1944\n",
      "[260]\tvalid_0's l1: 42.1611\n",
      "[265]\tvalid_0's l1: 42.1106\n",
      "[270]\tvalid_0's l1: 42.0837\n",
      "[275]\tvalid_0's l1: 42.0652\n",
      "[280]\tvalid_0's l1: 42.0367\n",
      "[285]\tvalid_0's l1: 42.0261\n",
      "[290]\tvalid_0's l1: 42.0065\n",
      "[295]\tvalid_0's l1: 41.9858\n",
      "[300]\tvalid_0's l1: 41.9741\n",
      "[305]\tvalid_0's l1: 41.9742\n",
      "[310]\tvalid_0's l1: 41.9519\n",
      "[315]\tvalid_0's l1: 41.938\n",
      "[320]\tvalid_0's l1: 41.9169\n",
      "[325]\tvalid_0's l1: 41.9019\n",
      "[330]\tvalid_0's l1: 41.8838\n",
      "[335]\tvalid_0's l1: 41.8491\n",
      "[340]\tvalid_0's l1: 41.8288\n",
      "[345]\tvalid_0's l1: 41.8132\n",
      "[350]\tvalid_0's l1: 41.7905\n",
      "[355]\tvalid_0's l1: 41.7681\n",
      "[360]\tvalid_0's l1: 41.7389\n",
      "[365]\tvalid_0's l1: 41.7249\n",
      "[370]\tvalid_0's l1: 41.7138\n",
      "[375]\tvalid_0's l1: 41.6988\n",
      "[380]\tvalid_0's l1: 41.6796\n",
      "[385]\tvalid_0's l1: 41.6634\n",
      "[390]\tvalid_0's l1: 41.6508\n",
      "[395]\tvalid_0's l1: 41.6372\n",
      "[400]\tvalid_0's l1: 41.6242\n",
      "[405]\tvalid_0's l1: 41.609\n",
      "[410]\tvalid_0's l1: 41.5975\n",
      "[415]\tvalid_0's l1: 41.5859\n",
      "[420]\tvalid_0's l1: 41.5629\n",
      "[425]\tvalid_0's l1: 41.5569\n",
      "[430]\tvalid_0's l1: 41.542\n",
      "[435]\tvalid_0's l1: 41.5349\n",
      "[440]\tvalid_0's l1: 41.5215\n",
      "[445]\tvalid_0's l1: 41.5127\n",
      "[450]\tvalid_0's l1: 41.5052\n",
      "[455]\tvalid_0's l1: 41.4985\n",
      "[460]\tvalid_0's l1: 41.4941\n",
      "[465]\tvalid_0's l1: 41.4776\n",
      "[470]\tvalid_0's l1: 41.4683\n",
      "[475]\tvalid_0's l1: 41.4628\n",
      "[480]\tvalid_0's l1: 41.4499\n",
      "[485]\tvalid_0's l1: 41.4415\n",
      "[490]\tvalid_0's l1: 41.4271\n",
      "[495]\tvalid_0's l1: 41.4147\n",
      "[500]\tvalid_0's l1: 41.4021\n",
      "[505]\tvalid_0's l1: 41.401\n",
      "[510]\tvalid_0's l1: 41.3938\n",
      "[515]\tvalid_0's l1: 41.3867\n",
      "[520]\tvalid_0's l1: 41.3784\n",
      "[525]\tvalid_0's l1: 41.362\n",
      "[530]\tvalid_0's l1: 41.3536\n",
      "[535]\tvalid_0's l1: 41.3484\n",
      "[540]\tvalid_0's l1: 41.3482\n",
      "[545]\tvalid_0's l1: 41.3409\n",
      "[550]\tvalid_0's l1: 41.3214\n",
      "[555]\tvalid_0's l1: 41.3117\n",
      "[560]\tvalid_0's l1: 41.3061\n",
      "[565]\tvalid_0's l1: 41.3005\n",
      "[570]\tvalid_0's l1: 41.292\n",
      "[575]\tvalid_0's l1: 41.2859\n",
      "[580]\tvalid_0's l1: 41.2801\n",
      "[585]\tvalid_0's l1: 41.2725\n",
      "[590]\tvalid_0's l1: 41.2707\n",
      "[595]\tvalid_0's l1: 41.2609\n",
      "[600]\tvalid_0's l1: 41.2527\n",
      "[605]\tvalid_0's l1: 41.2429\n",
      "[610]\tvalid_0's l1: 41.2316\n",
      "[615]\tvalid_0's l1: 41.2143\n",
      "[620]\tvalid_0's l1: 41.2043\n",
      "[625]\tvalid_0's l1: 41.1945\n",
      "[630]\tvalid_0's l1: 41.1904\n",
      "[635]\tvalid_0's l1: 41.1851\n",
      "[640]\tvalid_0's l1: 41.1805\n",
      "[645]\tvalid_0's l1: 41.1736\n",
      "[650]\tvalid_0's l1: 41.1636\n",
      "[655]\tvalid_0's l1: 41.1559\n",
      "[660]\tvalid_0's l1: 41.1477\n",
      "[665]\tvalid_0's l1: 41.1407\n",
      "[670]\tvalid_0's l1: 41.132\n",
      "[675]\tvalid_0's l1: 41.127\n",
      "[680]\tvalid_0's l1: 41.1204\n",
      "[685]\tvalid_0's l1: 41.1189\n",
      "[690]\tvalid_0's l1: 41.1161\n",
      "[695]\tvalid_0's l1: 41.1078\n",
      "[700]\tvalid_0's l1: 41.1008\n",
      "[705]\tvalid_0's l1: 41.0978\n",
      "[710]\tvalid_0's l1: 41.0956\n",
      "[715]\tvalid_0's l1: 41.0797\n",
      "[720]\tvalid_0's l1: 41.071\n",
      "[725]\tvalid_0's l1: 41.0658\n",
      "[730]\tvalid_0's l1: 41.0621\n",
      "[735]\tvalid_0's l1: 41.0595\n",
      "[740]\tvalid_0's l1: 41.0524\n",
      "[745]\tvalid_0's l1: 41.0518\n",
      "[750]\tvalid_0's l1: 41.0476\n",
      "[755]\tvalid_0's l1: 41.0394\n",
      "[760]\tvalid_0's l1: 41.0322\n",
      "[765]\tvalid_0's l1: 41.0308\n",
      "[770]\tvalid_0's l1: 41.0295\n",
      "[775]\tvalid_0's l1: 41.0319\n",
      "[780]\tvalid_0's l1: 41.0313\n",
      "[785]\tvalid_0's l1: 41.0283\n",
      "[790]\tvalid_0's l1: 41.0267\n",
      "[795]\tvalid_0's l1: 41.0207\n",
      "[800]\tvalid_0's l1: 41.0163\n",
      "[805]\tvalid_0's l1: 41.0122\n",
      "[810]\tvalid_0's l1: 41.0075\n",
      "[815]\tvalid_0's l1: 41.0003\n",
      "[820]\tvalid_0's l1: 40.9961\n",
      "[825]\tvalid_0's l1: 40.9966\n",
      "[830]\tvalid_0's l1: 40.9927\n",
      "[835]\tvalid_0's l1: 40.9896\n",
      "[840]\tvalid_0's l1: 40.9862\n",
      "[845]\tvalid_0's l1: 40.981\n",
      "[850]\tvalid_0's l1: 40.977\n",
      "[855]\tvalid_0's l1: 40.9755\n",
      "[860]\tvalid_0's l1: 40.9713\n",
      "[865]\tvalid_0's l1: 40.9675\n",
      "[870]\tvalid_0's l1: 40.963\n",
      "[875]\tvalid_0's l1: 40.9602\n",
      "[880]\tvalid_0's l1: 40.9594\n",
      "[885]\tvalid_0's l1: 40.9571\n",
      "[890]\tvalid_0's l1: 40.9496\n",
      "[895]\tvalid_0's l1: 40.9473\n",
      "[900]\tvalid_0's l1: 40.9423\n",
      "[905]\tvalid_0's l1: 40.9404\n",
      "[910]\tvalid_0's l1: 40.9369\n",
      "[915]\tvalid_0's l1: 40.9314\n",
      "[920]\tvalid_0's l1: 40.9255\n",
      "[925]\tvalid_0's l1: 40.9259\n",
      "[930]\tvalid_0's l1: 40.9261\n",
      "[935]\tvalid_0's l1: 40.9219\n",
      "[940]\tvalid_0's l1: 40.9183\n",
      "[945]\tvalid_0's l1: 40.9134\n",
      "[950]\tvalid_0's l1: 40.9108\n",
      "[955]\tvalid_0's l1: 40.9058\n",
      "[960]\tvalid_0's l1: 40.9024\n",
      "[965]\tvalid_0's l1: 40.9009\n",
      "[970]\tvalid_0's l1: 40.8988\n",
      "[975]\tvalid_0's l1: 40.9\n",
      "[980]\tvalid_0's l1: 40.8974\n",
      "[985]\tvalid_0's l1: 40.8935\n",
      "[990]\tvalid_0's l1: 40.8921\n",
      "[995]\tvalid_0's l1: 40.8894\n",
      "[1000]\tvalid_0's l1: 40.886\n",
      "[1005]\tvalid_0's l1: 40.8847\n",
      "[1010]\tvalid_0's l1: 40.8848\n",
      "[1015]\tvalid_0's l1: 40.8801\n",
      "[1020]\tvalid_0's l1: 40.8796\n",
      "[1025]\tvalid_0's l1: 40.8771\n",
      "[1030]\tvalid_0's l1: 40.8768\n",
      "[1035]\tvalid_0's l1: 40.8714\n",
      "[1040]\tvalid_0's l1: 40.8699\n",
      "[1045]\tvalid_0's l1: 40.8692\n",
      "[1050]\tvalid_0's l1: 40.8677\n",
      "[1055]\tvalid_0's l1: 40.8638\n",
      "[1060]\tvalid_0's l1: 40.8646\n",
      "[1065]\tvalid_0's l1: 40.8636\n",
      "[1070]\tvalid_0's l1: 40.8605\n",
      "[1075]\tvalid_0's l1: 40.8592\n",
      "[1080]\tvalid_0's l1: 40.8573\n",
      "[1085]\tvalid_0's l1: 40.8546\n",
      "[1090]\tvalid_0's l1: 40.8504\n",
      "[1095]\tvalid_0's l1: 40.8474\n",
      "[1100]\tvalid_0's l1: 40.8473\n",
      "[1105]\tvalid_0's l1: 40.8469\n",
      "[1110]\tvalid_0's l1: 40.846\n",
      "[1115]\tvalid_0's l1: 40.8425\n",
      "[1120]\tvalid_0's l1: 40.8433\n",
      "[1125]\tvalid_0's l1: 40.8426\n",
      "[1130]\tvalid_0's l1: 40.8405\n",
      "[1135]\tvalid_0's l1: 40.8401\n",
      "[1140]\tvalid_0's l1: 40.8393\n",
      "[1145]\tvalid_0's l1: 40.8394\n",
      "[1150]\tvalid_0's l1: 40.838\n",
      "[1155]\tvalid_0's l1: 40.8375\n",
      "[1160]\tvalid_0's l1: 40.8341\n",
      "[1165]\tvalid_0's l1: 40.8341\n",
      "[1170]\tvalid_0's l1: 40.8336\n",
      "[1175]\tvalid_0's l1: 40.8332\n",
      "[1180]\tvalid_0's l1: 40.8327\n",
      "[1185]\tvalid_0's l1: 40.8289\n",
      "[1190]\tvalid_0's l1: 40.8276\n",
      "[1195]\tvalid_0's l1: 40.8267\n",
      "[1200]\tvalid_0's l1: 40.8294\n",
      "[1205]\tvalid_0's l1: 40.8278\n",
      "[1210]\tvalid_0's l1: 40.8285\n",
      "[1215]\tvalid_0's l1: 40.8247\n",
      "[1220]\tvalid_0's l1: 40.8217\n",
      "[1225]\tvalid_0's l1: 40.8184\n",
      "[1230]\tvalid_0's l1: 40.8166\n",
      "[1235]\tvalid_0's l1: 40.8165\n",
      "[1240]\tvalid_0's l1: 40.8169\n",
      "[1245]\tvalid_0's l1: 40.8168\n",
      "[1250]\tvalid_0's l1: 40.8142\n",
      "[1255]\tvalid_0's l1: 40.8127\n",
      "[1260]\tvalid_0's l1: 40.8112\n",
      "[1265]\tvalid_0's l1: 40.8086\n",
      "[1270]\tvalid_0's l1: 40.8058\n",
      "[1275]\tvalid_0's l1: 40.8048\n",
      "[1280]\tvalid_0's l1: 40.8022\n",
      "[1285]\tvalid_0's l1: 40.8053\n",
      "[1290]\tvalid_0's l1: 40.8055\n",
      "[1295]\tvalid_0's l1: 40.8007\n",
      "[1300]\tvalid_0's l1: 40.7989\n",
      "[1305]\tvalid_0's l1: 40.7977\n",
      "[1310]\tvalid_0's l1: 40.7993\n",
      "[1315]\tvalid_0's l1: 40.7972\n",
      "[1320]\tvalid_0's l1: 40.7976\n",
      "[1325]\tvalid_0's l1: 40.7979\n",
      "[1330]\tvalid_0's l1: 40.7967\n",
      "[1335]\tvalid_0's l1: 40.7957\n",
      "[1340]\tvalid_0's l1: 40.7961\n",
      "[1345]\tvalid_0's l1: 40.7962\n",
      "[1350]\tvalid_0's l1: 40.791\n",
      "[1355]\tvalid_0's l1: 40.7899\n",
      "[1360]\tvalid_0's l1: 40.7889\n",
      "[1365]\tvalid_0's l1: 40.7885\n",
      "[1370]\tvalid_0's l1: 40.7878\n",
      "[1375]\tvalid_0's l1: 40.7871\n",
      "[1380]\tvalid_0's l1: 40.7855\n",
      "[1385]\tvalid_0's l1: 40.7836\n",
      "[1390]\tvalid_0's l1: 40.7821\n",
      "[1395]\tvalid_0's l1: 40.7818\n",
      "[1400]\tvalid_0's l1: 40.7813\n",
      "[1405]\tvalid_0's l1: 40.7807\n",
      "[1410]\tvalid_0's l1: 40.7813\n",
      "[1415]\tvalid_0's l1: 40.7807\n",
      "[1420]\tvalid_0's l1: 40.7774\n",
      "[1425]\tvalid_0's l1: 40.7798\n",
      "[1430]\tvalid_0's l1: 40.7795\n",
      "[1435]\tvalid_0's l1: 40.7785\n",
      "[1440]\tvalid_0's l1: 40.7794\n",
      "[1445]\tvalid_0's l1: 40.7816\n",
      "[1450]\tvalid_0's l1: 40.7835\n",
      "[1455]\tvalid_0's l1: 40.7817\n",
      "[1460]\tvalid_0's l1: 40.7804\n",
      "[1465]\tvalid_0's l1: 40.7801\n",
      "[1470]\tvalid_0's l1: 40.7811\n",
      "Early stopping, best iteration is:\n",
      "[1420]\tvalid_0's l1: 40.7774\n",
      "***************************basic model training is done***************************\n",
      "time: 52min 5s\n"
     ]
    }
   ],
   "source": [
    "#lr = 0.1\n",
    "gbm = Light_GBM(x_train,y_train,x_z_val,y_z_val,cat_vars,50,4000,5)"
   ]
  },
  {
   "cell_type": "code",
   "execution_count": 417,
   "metadata": {},
   "outputs": [
    {
     "name": "stdout",
     "output_type": "stream",
     "text": [
      "\n",
      "*******************start train light gbm model with basic setup*******************\n",
      "Training until validation scores don't improve for 100 rounds.\n",
      "[5]\tvalid_0's l2: 49037.4\tvalid_0's l1: 131.118\n",
      "[10]\tvalid_0's l2: 38993.9\tvalid_0's l1: 112.702\n",
      "[15]\tvalid_0's l2: 31920.5\tvalid_0's l1: 97.929\n",
      "[20]\tvalid_0's l2: 25999.8\tvalid_0's l1: 84.3612\n",
      "[25]\tvalid_0's l2: 22517\tvalid_0's l1: 75.2626\n",
      "[30]\tvalid_0's l2: 20374.2\tvalid_0's l1: 69.1747\n",
      "[35]\tvalid_0's l2: 19356.1\tvalid_0's l1: 66.1798\n",
      "[40]\tvalid_0's l2: 18808.5\tvalid_0's l1: 64.5564\n",
      "[45]\tvalid_0's l2: 18240.3\tvalid_0's l1: 62.766\n",
      "[50]\tvalid_0's l2: 19645.3\tvalid_0's l1: 58.6212\n",
      "[55]\tvalid_0's l2: 18413.2\tvalid_0's l1: 56.225\n",
      "[60]\tvalid_0's l2: 19911.8\tvalid_0's l1: 55.1116\n",
      "[65]\tvalid_0's l2: 21153\tvalid_0's l1: 58.8654\n",
      "[70]\tvalid_0's l2: 20022.2\tvalid_0's l1: 55.3196\n",
      "[75]\tvalid_0's l2: 19135.5\tvalid_0's l1: 53.4549\n",
      "[80]\tvalid_0's l2: 18714.5\tvalid_0's l1: 52.7432\n",
      "[85]\tvalid_0's l2: 19259.1\tvalid_0's l1: 54.2813\n",
      "[90]\tvalid_0's l2: 19352\tvalid_0's l1: 55.3178\n",
      "[95]\tvalid_0's l2: 20071.2\tvalid_0's l1: 55.6494\n",
      "[100]\tvalid_0's l2: 19064.3\tvalid_0's l1: 53.419\n",
      "[105]\tvalid_0's l2: 20744.8\tvalid_0's l1: 59.2495\n",
      "[110]\tvalid_0's l2: 21173.4\tvalid_0's l1: 58.8601\n",
      "[115]\tvalid_0's l2: 18435.4\tvalid_0's l1: 52.2342\n",
      "[120]\tvalid_0's l2: 18354.8\tvalid_0's l1: 51.8785\n",
      "[125]\tvalid_0's l2: 18221.9\tvalid_0's l1: 51.522\n",
      "[130]\tvalid_0's l2: 17476.7\tvalid_0's l1: 49.9764\n",
      "[135]\tvalid_0's l2: 17234.1\tvalid_0's l1: 49.4492\n",
      "[140]\tvalid_0's l2: 17686.3\tvalid_0's l1: 51.6234\n",
      "[145]\tvalid_0's l2: 17452.7\tvalid_0's l1: 50.4715\n",
      "[150]\tvalid_0's l2: 17396.1\tvalid_0's l1: 49.9018\n",
      "[155]\tvalid_0's l2: 17733.1\tvalid_0's l1: 52.1239\n",
      "[160]\tvalid_0's l2: 18688.9\tvalid_0's l1: 53.994\n",
      "[165]\tvalid_0's l2: 17397.3\tvalid_0's l1: 50.3321\n",
      "[170]\tvalid_0's l2: 16615.6\tvalid_0's l1: 49.2179\n",
      "[175]\tvalid_0's l2: 15968.6\tvalid_0's l1: 48.2439\n",
      "[180]\tvalid_0's l2: 16282.7\tvalid_0's l1: 48.4216\n",
      "[185]\tvalid_0's l2: 15607.1\tvalid_0's l1: 46.7547\n",
      "[190]\tvalid_0's l2: 15369.3\tvalid_0's l1: 45.9664\n",
      "[195]\tvalid_0's l2: 15164.1\tvalid_0's l1: 45.4616\n",
      "[200]\tvalid_0's l2: 15192.7\tvalid_0's l1: 45.4141\n",
      "[205]\tvalid_0's l2: 15602.5\tvalid_0's l1: 46.6894\n",
      "[210]\tvalid_0's l2: 15602.4\tvalid_0's l1: 46.4117\n",
      "[215]\tvalid_0's l2: 15126.5\tvalid_0's l1: 45.466\n",
      "[220]\tvalid_0's l2: 15054\tvalid_0's l1: 45.5779\n",
      "[225]\tvalid_0's l2: 15141.8\tvalid_0's l1: 45.6634\n",
      "[230]\tvalid_0's l2: 15161.9\tvalid_0's l1: 45.6854\n",
      "[235]\tvalid_0's l2: 14973.9\tvalid_0's l1: 45.3698\n",
      "[240]\tvalid_0's l2: 14382.1\tvalid_0's l1: 44.3688\n",
      "[245]\tvalid_0's l2: 14536.4\tvalid_0's l1: 44.6752\n",
      "[250]\tvalid_0's l2: 14414.2\tvalid_0's l1: 44.4666\n",
      "[255]\tvalid_0's l2: 14301.8\tvalid_0's l1: 44.3551\n",
      "[260]\tvalid_0's l2: 14196.2\tvalid_0's l1: 44.1349\n",
      "[265]\tvalid_0's l2: 13964.9\tvalid_0's l1: 43.8921\n",
      "[270]\tvalid_0's l2: 13896.6\tvalid_0's l1: 43.7627\n",
      "[275]\tvalid_0's l2: 13822.9\tvalid_0's l1: 43.652\n",
      "[280]\tvalid_0's l2: 13873.1\tvalid_0's l1: 43.6294\n",
      "[285]\tvalid_0's l2: 13827.4\tvalid_0's l1: 43.5189\n",
      "[290]\tvalid_0's l2: 13660.8\tvalid_0's l1: 43.3263\n",
      "[295]\tvalid_0's l2: 13710.8\tvalid_0's l1: 43.3218\n",
      "[300]\tvalid_0's l2: 13762.3\tvalid_0's l1: 43.3581\n"
     ]
    },
    {
     "ename": "KeyboardInterrupt",
     "evalue": "",
     "output_type": "error",
     "traceback": [
      "\u001b[1;31m---------------------------------------------------------------------------\u001b[0m",
      "\u001b[1;31mKeyboardInterrupt\u001b[0m                         Traceback (most recent call last)",
      "\u001b[1;32m<ipython-input-417-df76298f6e86>\u001b[0m in \u001b[0;36m<module>\u001b[1;34m\u001b[0m\n\u001b[1;32m----> 1\u001b[1;33m \u001b[0mgbm\u001b[0m \u001b[1;33m=\u001b[0m \u001b[0mLight_GBM\u001b[0m\u001b[1;33m(\u001b[0m\u001b[0mx_train\u001b[0m\u001b[1;33m,\u001b[0m\u001b[0my_train\u001b[0m\u001b[1;33m,\u001b[0m\u001b[0mx_z_val\u001b[0m\u001b[1;33m,\u001b[0m\u001b[0my_z_val\u001b[0m\u001b[1;33m,\u001b[0m\u001b[0mcat_vars\u001b[0m\u001b[1;33m,\u001b[0m\u001b[1;36m100\u001b[0m\u001b[1;33m,\u001b[0m\u001b[1;36m425\u001b[0m\u001b[1;33m,\u001b[0m\u001b[1;36m5\u001b[0m\u001b[1;33m)\u001b[0m\u001b[1;33m\u001b[0m\u001b[1;33m\u001b[0m\u001b[0m\n\u001b[0m",
      "\u001b[1;32m<ipython-input-416-facca8ca5113>\u001b[0m in \u001b[0;36mLight_GBM\u001b[1;34m(x_train, y_train, x_test, y_test, cat_vars, early_stopping_rounds, num_boost_round, verbose_eval)\u001b[0m\n\u001b[0;32m     27\u001b[0m                 \u001b[0mcategorical_feature\u001b[0m\u001b[1;33m=\u001b[0m\u001b[0mcat_vars\u001b[0m\u001b[1;33m,\u001b[0m\u001b[1;33m\u001b[0m\u001b[1;33m\u001b[0m\u001b[0m\n\u001b[0;32m     28\u001b[0m                 \u001b[0mevals_result\u001b[0m\u001b[1;33m=\u001b[0m\u001b[0mevals_result\u001b[0m\u001b[1;33m,\u001b[0m\u001b[1;33m\u001b[0m\u001b[1;33m\u001b[0m\u001b[0m\n\u001b[1;32m---> 29\u001b[1;33m                 verbose_eval=verbose_eval)\n\u001b[0m\u001b[0;32m     30\u001b[0m \u001b[1;33m\u001b[0m\u001b[0m\n\u001b[0;32m     31\u001b[0m     \u001b[0mprint\u001b[0m\u001b[1;33m(\u001b[0m\u001b[0mformat\u001b[0m\u001b[1;33m(\u001b[0m\u001b[1;34m'basic model training is done'\u001b[0m\u001b[1;33m,\u001b[0m\u001b[1;34m'*^82'\u001b[0m\u001b[1;33m)\u001b[0m\u001b[1;33m)\u001b[0m\u001b[1;33m\u001b[0m\u001b[1;33m\u001b[0m\u001b[0m\n",
      "\u001b[1;32mC:\\Anaconda\\lib\\site-packages\\lightgbm\\engine.py\u001b[0m in \u001b[0;36mtrain\u001b[1;34m(params, train_set, num_boost_round, valid_sets, valid_names, fobj, feval, init_model, feature_name, categorical_feature, early_stopping_rounds, evals_result, verbose_eval, learning_rates, keep_training_booster, callbacks)\u001b[0m\n\u001b[0;32m    214\u001b[0m                                     evaluation_result_list=None))\n\u001b[0;32m    215\u001b[0m \u001b[1;33m\u001b[0m\u001b[0m\n\u001b[1;32m--> 216\u001b[1;33m         \u001b[0mbooster\u001b[0m\u001b[1;33m.\u001b[0m\u001b[0mupdate\u001b[0m\u001b[1;33m(\u001b[0m\u001b[0mfobj\u001b[0m\u001b[1;33m=\u001b[0m\u001b[0mfobj\u001b[0m\u001b[1;33m)\u001b[0m\u001b[1;33m\u001b[0m\u001b[1;33m\u001b[0m\u001b[0m\n\u001b[0m\u001b[0;32m    217\u001b[0m \u001b[1;33m\u001b[0m\u001b[0m\n\u001b[0;32m    218\u001b[0m         \u001b[0mevaluation_result_list\u001b[0m \u001b[1;33m=\u001b[0m \u001b[1;33m[\u001b[0m\u001b[1;33m]\u001b[0m\u001b[1;33m\u001b[0m\u001b[1;33m\u001b[0m\u001b[0m\n",
      "\u001b[1;32mC:\\Anaconda\\lib\\site-packages\\lightgbm\\basic.py\u001b[0m in \u001b[0;36mupdate\u001b[1;34m(self, train_set, fobj)\u001b[0m\n\u001b[0;32m   1758\u001b[0m             _safe_call(_LIB.LGBM_BoosterUpdateOneIter(\n\u001b[0;32m   1759\u001b[0m                 \u001b[0mself\u001b[0m\u001b[1;33m.\u001b[0m\u001b[0mhandle\u001b[0m\u001b[1;33m,\u001b[0m\u001b[1;33m\u001b[0m\u001b[1;33m\u001b[0m\u001b[0m\n\u001b[1;32m-> 1760\u001b[1;33m                 ctypes.byref(is_finished)))\n\u001b[0m\u001b[0;32m   1761\u001b[0m             \u001b[0mself\u001b[0m\u001b[1;33m.\u001b[0m\u001b[0m__is_predicted_cur_iter\u001b[0m \u001b[1;33m=\u001b[0m \u001b[1;33m[\u001b[0m\u001b[1;32mFalse\u001b[0m \u001b[1;32mfor\u001b[0m \u001b[0m_\u001b[0m \u001b[1;32min\u001b[0m \u001b[0mrange_\u001b[0m\u001b[1;33m(\u001b[0m\u001b[0mself\u001b[0m\u001b[1;33m.\u001b[0m\u001b[0m__num_dataset\u001b[0m\u001b[1;33m)\u001b[0m\u001b[1;33m]\u001b[0m\u001b[1;33m\u001b[0m\u001b[1;33m\u001b[0m\u001b[0m\n\u001b[0;32m   1762\u001b[0m             \u001b[1;32mreturn\u001b[0m \u001b[0mis_finished\u001b[0m\u001b[1;33m.\u001b[0m\u001b[0mvalue\u001b[0m \u001b[1;33m==\u001b[0m \u001b[1;36m1\u001b[0m\u001b[1;33m\u001b[0m\u001b[1;33m\u001b[0m\u001b[0m\n",
      "\u001b[1;31mKeyboardInterrupt\u001b[0m: "
     ]
    },
    {
     "name": "stdout",
     "output_type": "stream",
     "text": [
      "time: 56min 42s\n"
     ]
    }
   ],
   "source": [
    "gbm = Light_GBM(x_train,y_train,x_z_val,y_z_val,cat_vars,100,425,5)"
   ]
  },
  {
   "cell_type": "code",
   "execution_count": null,
   "metadata": {},
   "outputs": [],
   "source": [
    "model = lgb.LGBMRegressor()\n",
    "parameters = {    'max_depth' : [-1],\n",
    "                  'learning_rate' : [0.05],\n",
    "                  'num_leaves': [25000],\n",
    "                  'n_estimators': [425],\n",
    "                  'min_child_weight' : [1],\n",
    "                  'min_child_sample' : [10],\n",
    "                  'subsample': [1.0],\n",
    "                  'colsample_bytree': [1.0],\n",
    "                  'scale_pos_weight': [1.0],\n",
    "                  'reg_lambda':[0.0],\n",
    "                  'boosting_type': ['dart'],     \n",
    "                  'lambda_l1':[0.0]\n",
    "             }\n",
    "\n",
    "grid = ParameterOptimizer(model = model,\n",
    "                          parameters= parameters,\n",
    "                          x_train = x_train,\n",
    "                          y_train = y_train,\n",
    "                          cat_vars = cat_vars,\n",
    "                          early_stopping_rounds = 100,\n",
    "                          eval_set = [(x_z_val,y_z_val)])"
   ]
  },
  {
   "cell_type": "code",
   "execution_count": 88,
   "metadata": {},
   "outputs": [
    {
     "name": "stdout",
     "output_type": "stream",
     "text": [
      "Train data MAE score is 14.003503716339873\n",
      "time: 1h 34min 5s\n"
     ]
    }
   ],
   "source": [
    "print('Train data MAE score is {}'.format(mean_absolute_error(y_train, gbm.predict(x_train))))"
   ]
  },
  {
   "cell_type": "code",
   "execution_count": 57,
   "metadata": {},
   "outputs": [
    {
     "name": "stdout",
     "output_type": "stream",
     "text": [
      "Val data MAE score is 42.766341377322284\n"
     ]
    },
    {
     "ename": "KeyboardInterrupt",
     "evalue": "",
     "output_type": "error",
     "traceback": [
      "\u001b[1;31m---------------------------------------------------------------------------\u001b[0m",
      "\u001b[1;31mKeyboardInterrupt\u001b[0m                         Traceback (most recent call last)",
      "\u001b[1;32m<ipython-input-57-6b82175b87a8>\u001b[0m in \u001b[0;36m<module>\u001b[1;34m\u001b[0m\n\u001b[0;32m      1\u001b[0m \u001b[0mprint\u001b[0m\u001b[1;33m(\u001b[0m\u001b[1;34m'Val data MAE score is {}'\u001b[0m\u001b[1;33m.\u001b[0m\u001b[0mformat\u001b[0m\u001b[1;33m(\u001b[0m\u001b[0mmean_absolute_error\u001b[0m\u001b[1;33m(\u001b[0m\u001b[0my_z_val\u001b[0m\u001b[1;33m,\u001b[0m \u001b[0mgbm\u001b[0m\u001b[1;33m.\u001b[0m\u001b[0mpredict\u001b[0m\u001b[1;33m(\u001b[0m\u001b[0mx_z_val\u001b[0m\u001b[1;33m)\u001b[0m\u001b[1;33m)\u001b[0m\u001b[1;33m)\u001b[0m\u001b[1;33m)\u001b[0m\u001b[1;33m\u001b[0m\u001b[1;33m\u001b[0m\u001b[0m\n\u001b[1;32m----> 2\u001b[1;33m \u001b[0mprint\u001b[0m\u001b[1;33m(\u001b[0m\u001b[1;34m'Train data MAE score is {}'\u001b[0m\u001b[1;33m.\u001b[0m\u001b[0mformat\u001b[0m\u001b[1;33m(\u001b[0m\u001b[0mmean_absolute_error\u001b[0m\u001b[1;33m(\u001b[0m\u001b[0my_train\u001b[0m\u001b[1;33m,\u001b[0m \u001b[0mgbm\u001b[0m\u001b[1;33m.\u001b[0m\u001b[0mpredict\u001b[0m\u001b[1;33m(\u001b[0m\u001b[0mx_train\u001b[0m\u001b[1;33m)\u001b[0m\u001b[1;33m)\u001b[0m\u001b[1;33m)\u001b[0m\u001b[1;33m)\u001b[0m\u001b[1;33m\u001b[0m\u001b[1;33m\u001b[0m\u001b[0m\n\u001b[0m\u001b[0;32m      3\u001b[0m \u001b[1;33m\u001b[0m\u001b[0m\n\u001b[0;32m      4\u001b[0m \u001b[0mprint\u001b[0m\u001b[1;33m(\u001b[0m\u001b[1;34m'Val data R2 score is {:.2%}'\u001b[0m\u001b[1;33m.\u001b[0m\u001b[0mformat\u001b[0m\u001b[1;33m(\u001b[0m\u001b[0mr2_score\u001b[0m\u001b[1;33m(\u001b[0m\u001b[0my_z_val\u001b[0m\u001b[1;33m,\u001b[0m \u001b[0mgbm\u001b[0m\u001b[1;33m.\u001b[0m\u001b[0mpredict\u001b[0m\u001b[1;33m(\u001b[0m\u001b[0mx_z_val\u001b[0m\u001b[1;33m)\u001b[0m\u001b[1;33m)\u001b[0m\u001b[1;33m)\u001b[0m\u001b[1;33m)\u001b[0m\u001b[1;33m\u001b[0m\u001b[1;33m\u001b[0m\u001b[0m\n\u001b[0;32m      5\u001b[0m \u001b[0mprint\u001b[0m\u001b[1;33m(\u001b[0m\u001b[1;34m'Train data R2 score is {:.2%}'\u001b[0m\u001b[1;33m.\u001b[0m\u001b[0mformat\u001b[0m\u001b[1;33m(\u001b[0m\u001b[0mr2_score\u001b[0m\u001b[1;33m(\u001b[0m\u001b[0my_train\u001b[0m\u001b[1;33m,\u001b[0m \u001b[0mgbm\u001b[0m\u001b[1;33m.\u001b[0m\u001b[0mpredict\u001b[0m\u001b[1;33m(\u001b[0m\u001b[0mx_train\u001b[0m\u001b[1;33m)\u001b[0m\u001b[1;33m)\u001b[0m\u001b[1;33m)\u001b[0m\u001b[1;33m)\u001b[0m\u001b[1;33m\u001b[0m\u001b[1;33m\u001b[0m\u001b[0m\n",
      "\u001b[1;32mC:\\Anaconda\\lib\\site-packages\\lightgbm\\basic.py\u001b[0m in \u001b[0;36mpredict\u001b[1;34m(self, data, num_iteration, raw_score, pred_leaf, pred_contrib, data_has_header, is_reshape, **kwargs)\u001b[0m\n\u001b[0;32m   2159\u001b[0m         return predictor.predict(data, num_iteration,\n\u001b[0;32m   2160\u001b[0m                                  \u001b[0mraw_score\u001b[0m\u001b[1;33m,\u001b[0m \u001b[0mpred_leaf\u001b[0m\u001b[1;33m,\u001b[0m \u001b[0mpred_contrib\u001b[0m\u001b[1;33m,\u001b[0m\u001b[1;33m\u001b[0m\u001b[1;33m\u001b[0m\u001b[0m\n\u001b[1;32m-> 2161\u001b[1;33m                                  data_has_header, is_reshape)\n\u001b[0m\u001b[0;32m   2162\u001b[0m \u001b[1;33m\u001b[0m\u001b[0m\n\u001b[0;32m   2163\u001b[0m     \u001b[1;32mdef\u001b[0m \u001b[0mrefit\u001b[0m\u001b[1;33m(\u001b[0m\u001b[0mself\u001b[0m\u001b[1;33m,\u001b[0m \u001b[0mdata\u001b[0m\u001b[1;33m,\u001b[0m \u001b[0mlabel\u001b[0m\u001b[1;33m,\u001b[0m \u001b[0mdecay_rate\u001b[0m\u001b[1;33m=\u001b[0m\u001b[1;36m0.9\u001b[0m\u001b[1;33m,\u001b[0m \u001b[1;33m**\u001b[0m\u001b[0mkwargs\u001b[0m\u001b[1;33m)\u001b[0m\u001b[1;33m:\u001b[0m\u001b[1;33m\u001b[0m\u001b[1;33m\u001b[0m\u001b[0m\n",
      "\u001b[1;32mC:\\Anaconda\\lib\\site-packages\\lightgbm\\basic.py\u001b[0m in \u001b[0;36mpredict\u001b[1;34m(self, data, num_iteration, raw_score, pred_leaf, pred_contrib, data_has_header, is_reshape)\u001b[0m\n\u001b[0;32m    458\u001b[0m             \u001b[0mpreds\u001b[0m\u001b[1;33m,\u001b[0m \u001b[0mnrow\u001b[0m \u001b[1;33m=\u001b[0m \u001b[0mself\u001b[0m\u001b[1;33m.\u001b[0m\u001b[0m__pred_for_csc\u001b[0m\u001b[1;33m(\u001b[0m\u001b[0mdata\u001b[0m\u001b[1;33m,\u001b[0m \u001b[0mnum_iteration\u001b[0m\u001b[1;33m,\u001b[0m \u001b[0mpredict_type\u001b[0m\u001b[1;33m)\u001b[0m\u001b[1;33m\u001b[0m\u001b[1;33m\u001b[0m\u001b[0m\n\u001b[0;32m    459\u001b[0m         \u001b[1;32melif\u001b[0m \u001b[0misinstance\u001b[0m\u001b[1;33m(\u001b[0m\u001b[0mdata\u001b[0m\u001b[1;33m,\u001b[0m \u001b[0mnp\u001b[0m\u001b[1;33m.\u001b[0m\u001b[0mndarray\u001b[0m\u001b[1;33m)\u001b[0m\u001b[1;33m:\u001b[0m\u001b[1;33m\u001b[0m\u001b[1;33m\u001b[0m\u001b[0m\n\u001b[1;32m--> 460\u001b[1;33m             \u001b[0mpreds\u001b[0m\u001b[1;33m,\u001b[0m \u001b[0mnrow\u001b[0m \u001b[1;33m=\u001b[0m \u001b[0mself\u001b[0m\u001b[1;33m.\u001b[0m\u001b[0m__pred_for_np2d\u001b[0m\u001b[1;33m(\u001b[0m\u001b[0mdata\u001b[0m\u001b[1;33m,\u001b[0m \u001b[0mnum_iteration\u001b[0m\u001b[1;33m,\u001b[0m \u001b[0mpredict_type\u001b[0m\u001b[1;33m)\u001b[0m\u001b[1;33m\u001b[0m\u001b[1;33m\u001b[0m\u001b[0m\n\u001b[0m\u001b[0;32m    461\u001b[0m         \u001b[1;32melif\u001b[0m \u001b[0misinstance\u001b[0m\u001b[1;33m(\u001b[0m\u001b[0mdata\u001b[0m\u001b[1;33m,\u001b[0m \u001b[0mlist\u001b[0m\u001b[1;33m)\u001b[0m\u001b[1;33m:\u001b[0m\u001b[1;33m\u001b[0m\u001b[1;33m\u001b[0m\u001b[0m\n\u001b[0;32m    462\u001b[0m             \u001b[1;32mtry\u001b[0m\u001b[1;33m:\u001b[0m\u001b[1;33m\u001b[0m\u001b[1;33m\u001b[0m\u001b[0m\n",
      "\u001b[1;32mC:\\Anaconda\\lib\\site-packages\\lightgbm\\basic.py\u001b[0m in \u001b[0;36m__pred_for_np2d\u001b[1;34m(self, mat, num_iteration, predict_type)\u001b[0m\n\u001b[0;32m    545\u001b[0m             \u001b[1;32mreturn\u001b[0m \u001b[0mpreds\u001b[0m\u001b[1;33m,\u001b[0m \u001b[0mnrow\u001b[0m\u001b[1;33m\u001b[0m\u001b[1;33m\u001b[0m\u001b[0m\n\u001b[0;32m    546\u001b[0m         \u001b[1;32melse\u001b[0m\u001b[1;33m:\u001b[0m\u001b[1;33m\u001b[0m\u001b[1;33m\u001b[0m\u001b[0m\n\u001b[1;32m--> 547\u001b[1;33m             \u001b[1;32mreturn\u001b[0m \u001b[0minner_predict\u001b[0m\u001b[1;33m(\u001b[0m\u001b[0mmat\u001b[0m\u001b[1;33m,\u001b[0m \u001b[0mnum_iteration\u001b[0m\u001b[1;33m,\u001b[0m \u001b[0mpredict_type\u001b[0m\u001b[1;33m)\u001b[0m\u001b[1;33m\u001b[0m\u001b[1;33m\u001b[0m\u001b[0m\n\u001b[0m\u001b[0;32m    548\u001b[0m \u001b[1;33m\u001b[0m\u001b[0m\n\u001b[0;32m    549\u001b[0m     \u001b[1;32mdef\u001b[0m \u001b[0m__pred_for_csr\u001b[0m\u001b[1;33m(\u001b[0m\u001b[0mself\u001b[0m\u001b[1;33m,\u001b[0m \u001b[0mcsr\u001b[0m\u001b[1;33m,\u001b[0m \u001b[0mnum_iteration\u001b[0m\u001b[1;33m,\u001b[0m \u001b[0mpredict_type\u001b[0m\u001b[1;33m)\u001b[0m\u001b[1;33m:\u001b[0m\u001b[1;33m\u001b[0m\u001b[1;33m\u001b[0m\u001b[0m\n",
      "\u001b[1;32mC:\\Anaconda\\lib\\site-packages\\lightgbm\\basic.py\u001b[0m in \u001b[0;36minner_predict\u001b[1;34m(mat, num_iteration, predict_type, preds)\u001b[0m\n\u001b[0;32m    527\u001b[0m                 \u001b[0mc_str\u001b[0m\u001b[1;33m(\u001b[0m\u001b[0mself\u001b[0m\u001b[1;33m.\u001b[0m\u001b[0mpred_parameter\u001b[0m\u001b[1;33m)\u001b[0m\u001b[1;33m,\u001b[0m\u001b[1;33m\u001b[0m\u001b[1;33m\u001b[0m\u001b[0m\n\u001b[0;32m    528\u001b[0m                 \u001b[0mctypes\u001b[0m\u001b[1;33m.\u001b[0m\u001b[0mbyref\u001b[0m\u001b[1;33m(\u001b[0m\u001b[0mout_num_preds\u001b[0m\u001b[1;33m)\u001b[0m\u001b[1;33m,\u001b[0m\u001b[1;33m\u001b[0m\u001b[1;33m\u001b[0m\u001b[0m\n\u001b[1;32m--> 529\u001b[1;33m                 preds.ctypes.data_as(ctypes.POINTER(ctypes.c_double))))\n\u001b[0m\u001b[0;32m    530\u001b[0m             \u001b[1;32mif\u001b[0m \u001b[0mn_preds\u001b[0m \u001b[1;33m!=\u001b[0m \u001b[0mout_num_preds\u001b[0m\u001b[1;33m.\u001b[0m\u001b[0mvalue\u001b[0m\u001b[1;33m:\u001b[0m\u001b[1;33m\u001b[0m\u001b[1;33m\u001b[0m\u001b[0m\n\u001b[0;32m    531\u001b[0m                 \u001b[1;32mraise\u001b[0m \u001b[0mValueError\u001b[0m\u001b[1;33m(\u001b[0m\u001b[1;34m\"Wrong length for predict results\"\u001b[0m\u001b[1;33m)\u001b[0m\u001b[1;33m\u001b[0m\u001b[1;33m\u001b[0m\u001b[0m\n",
      "\u001b[1;31mKeyboardInterrupt\u001b[0m: "
     ]
    },
    {
     "name": "stdout",
     "output_type": "stream",
     "text": [
      "time: 4min 14s\n"
     ]
    }
   ],
   "source": [
    "print('Val data MAE score is {}'.format(mean_absolute_error(y_z_val, gbm.predict(x_z_val))))\n",
    "print('Train data MAE score is {}'.format(mean_absolute_error(y_train, gbm.predict(x_train))))\n",
    "\n",
    "print('Val data R2 score is {:.2%}'.format(r2_score(y_z_val, gbm.predict(x_z_val))))\n",
    "print('Train data R2 score is {:.2%}'.format(r2_score(y_train, gbm.predict(x_train))))"
   ]
  },
  {
   "cell_type": "code",
   "execution_count": 37,
   "metadata": {},
   "outputs": [
    {
     "data": {
      "text/plain": [
       "['C:\\\\Users\\\\john.lan\\\\Desktop\\\\philip_result_input.pkl']"
      ]
     },
     "execution_count": 37,
     "metadata": {},
     "output_type": "execute_result"
    },
    {
     "name": "stdout",
     "output_type": "stream",
     "text": [
      "time: 23.2 s\n"
     ]
    }
   ],
   "source": [
    "joblib.dump(gbm, r'C:\\Users\\john.lan\\Desktop\\philip_result_input.pkl')"
   ]
  },
  {
   "cell_type": "code",
   "execution_count": 169,
   "metadata": {},
   "outputs": [
    {
     "name": "stdout",
     "output_type": "stream",
     "text": [
      "time: 1.32 s\n"
     ]
    }
   ],
   "source": [
    "r = pd.DataFrame(grid.predict(x_z_val),columns = ['preds'])"
   ]
  },
  {
   "cell_type": "code",
   "execution_count": 172,
   "metadata": {},
   "outputs": [
    {
     "data": {
      "text/html": [
       "<div>\n",
       "<style scoped>\n",
       "    .dataframe tbody tr th:only-of-type {\n",
       "        vertical-align: middle;\n",
       "    }\n",
       "\n",
       "    .dataframe tbody tr th {\n",
       "        vertical-align: top;\n",
       "    }\n",
       "\n",
       "    .dataframe thead th {\n",
       "        text-align: right;\n",
       "    }\n",
       "</style>\n",
       "<table border=\"1\" class=\"dataframe\">\n",
       "  <thead>\n",
       "    <tr style=\"text-align: right;\">\n",
       "      <th></th>\n",
       "      <th>index</th>\n",
       "      <th>LONGITUDE</th>\n",
       "      <th>LATITUDE</th>\n",
       "      <th>AGE_D1</th>\n",
       "      <th>COMPANY_CODE</th>\n",
       "      <th>COVERAGE_CODE_AUTOMOBILE</th>\n",
       "      <th>DISTANCE_DRIVEN_ANNUALLY</th>\n",
       "      <th>VEHICLE_CODE1</th>\n",
       "      <th>DRIVING_AGE</th>\n",
       "      <th>VEHICLE_AGE</th>\n",
       "      <th>MULTICAR_DISCOUNT_INDICATOR</th>\n",
       "      <th>DRIVERS_NUM</th>\n",
       "      <th>AUTO_CLAIMS</th>\n",
       "      <th>CONVICTION_NUM</th>\n",
       "      <th>DRIVER_SEX_CODE_D1</th>\n",
       "      <th>PROVINCE</th>\n",
       "      <th>CITY</th>\n",
       "      <th>FSA</th>\n",
       "      <th>index</th>\n",
       "      <th>FULL_TERM_PREMIUM_COVERAGE</th>\n",
       "      <th>preds</th>\n",
       "    </tr>\n",
       "  </thead>\n",
       "  <tbody>\n",
       "    <tr>\n",
       "      <th>0</th>\n",
       "      <td>267159</td>\n",
       "      <td>-113.665998</td>\n",
       "      <td>53.481912</td>\n",
       "      <td>23.000000</td>\n",
       "      <td>WU</td>\n",
       "      <td>Z49Y</td>\n",
       "      <td>7000</td>\n",
       "      <td>539700</td>\n",
       "      <td>1.000000</td>\n",
       "      <td>7.000000</td>\n",
       "      <td>0</td>\n",
       "      <td>1</td>\n",
       "      <td>0</td>\n",
       "      <td>0.000000</td>\n",
       "      <td>M</td>\n",
       "      <td>AB</td>\n",
       "      <td>EDMONTON</td>\n",
       "      <td>T6M</td>\n",
       "      <td>267159</td>\n",
       "      <td>15.000000</td>\n",
       "      <td>19.811622</td>\n",
       "    </tr>\n",
       "    <tr>\n",
       "      <th>1</th>\n",
       "      <td>124210</td>\n",
       "      <td>-75.994068</td>\n",
       "      <td>45.440727</td>\n",
       "      <td>61.000000</td>\n",
       "      <td>GNA</td>\n",
       "      <td>ZOF6*</td>\n",
       "      <td>20000</td>\n",
       "      <td>025100</td>\n",
       "      <td>44.000000</td>\n",
       "      <td>4.000000</td>\n",
       "      <td>0</td>\n",
       "      <td>2</td>\n",
       "      <td>1</td>\n",
       "      <td>0.000000</td>\n",
       "      <td>M</td>\n",
       "      <td>ON</td>\n",
       "      <td>OTTAWA</td>\n",
       "      <td>K0A</td>\n",
       "      <td>124210</td>\n",
       "      <td>27.000000</td>\n",
       "      <td>30.204845</td>\n",
       "    </tr>\n",
       "    <tr>\n",
       "      <th>2</th>\n",
       "      <td>128726</td>\n",
       "      <td>-81.369638</td>\n",
       "      <td>44.495934</td>\n",
       "      <td>74.000000</td>\n",
       "      <td>TRG</td>\n",
       "      <td>ZCS1</td>\n",
       "      <td>25000</td>\n",
       "      <td>946303</td>\n",
       "      <td>54.000000</td>\n",
       "      <td>2.000000</td>\n",
       "      <td>0</td>\n",
       "      <td>2</td>\n",
       "      <td>0</td>\n",
       "      <td>0.000000</td>\n",
       "      <td>F</td>\n",
       "      <td>ON</td>\n",
       "      <td>GEORGIAN_BLUFFS</td>\n",
       "      <td>N0H</td>\n",
       "      <td>128726</td>\n",
       "      <td>0.000000</td>\n",
       "      <td>123.651656</td>\n",
       "    </tr>\n",
       "    <tr>\n",
       "      <th>3</th>\n",
       "      <td>48912</td>\n",
       "      <td>-82.234745</td>\n",
       "      <td>42.905148</td>\n",
       "      <td>41.000000</td>\n",
       "      <td>TRG</td>\n",
       "      <td>ZDDE</td>\n",
       "      <td>12000</td>\n",
       "      <td>099600</td>\n",
       "      <td>24.000000</td>\n",
       "      <td>13.000000</td>\n",
       "      <td>1</td>\n",
       "      <td>2</td>\n",
       "      <td>0</td>\n",
       "      <td>0.000000</td>\n",
       "      <td>M</td>\n",
       "      <td>ON</td>\n",
       "      <td>ENNISKILLEN</td>\n",
       "      <td>N0N</td>\n",
       "      <td>48912</td>\n",
       "      <td>50.000000</td>\n",
       "      <td>49.802534</td>\n",
       "    </tr>\n",
       "    <tr>\n",
       "      <th>4</th>\n",
       "      <td>159975</td>\n",
       "      <td>-79.125515</td>\n",
       "      <td>43.806858</td>\n",
       "      <td>65.000000</td>\n",
       "      <td>CGUI</td>\n",
       "      <td>ZCSD</td>\n",
       "      <td>5000</td>\n",
       "      <td>127400</td>\n",
       "      <td>49.000000</td>\n",
       "      <td>14.000000</td>\n",
       "      <td>1</td>\n",
       "      <td>2</td>\n",
       "      <td>2</td>\n",
       "      <td>0.000000</td>\n",
       "      <td>M</td>\n",
       "      <td>ON</td>\n",
       "      <td>PICKERING</td>\n",
       "      <td>L1W</td>\n",
       "      <td>159975</td>\n",
       "      <td>160.000000</td>\n",
       "      <td>162.752191</td>\n",
       "    </tr>\n",
       "    <tr>\n",
       "      <th>5</th>\n",
       "      <td>87984</td>\n",
       "      <td>-65.616636</td>\n",
       "      <td>47.625117</td>\n",
       "      <td>55.000000</td>\n",
       "      <td>WAWA</td>\n",
       "      <td>ZZAWE</td>\n",
       "      <td>15000</td>\n",
       "      <td>582300</td>\n",
       "      <td>35.000000</td>\n",
       "      <td>14.000000</td>\n",
       "      <td>1</td>\n",
       "      <td>3</td>\n",
       "      <td>0</td>\n",
       "      <td>0.000000</td>\n",
       "      <td>M</td>\n",
       "      <td>NB</td>\n",
       "      <td>BATHURST_PARISH</td>\n",
       "      <td>E2A</td>\n",
       "      <td>87984</td>\n",
       "      <td>40.000000</td>\n",
       "      <td>20.062775</td>\n",
       "    </tr>\n",
       "    <tr>\n",
       "      <th>6</th>\n",
       "      <td>142994</td>\n",
       "      <td>-75.485879</td>\n",
       "      <td>45.261015</td>\n",
       "      <td>39.000000</td>\n",
       "      <td>TRG</td>\n",
       "      <td>ZCSD</td>\n",
       "      <td>10000</td>\n",
       "      <td>776500</td>\n",
       "      <td>21.000000</td>\n",
       "      <td>3.000000</td>\n",
       "      <td>0</td>\n",
       "      <td>2</td>\n",
       "      <td>0</td>\n",
       "      <td>0.000000</td>\n",
       "      <td>M</td>\n",
       "      <td>ON</td>\n",
       "      <td>OTTAWA</td>\n",
       "      <td>K0A</td>\n",
       "      <td>142994</td>\n",
       "      <td>160.000000</td>\n",
       "      <td>162.198110</td>\n",
       "    </tr>\n",
       "    <tr>\n",
       "      <th>7</th>\n",
       "      <td>222746</td>\n",
       "      <td>-79.636220</td>\n",
       "      <td>43.611990</td>\n",
       "      <td>35.000000</td>\n",
       "      <td>TRG</td>\n",
       "      <td>ZCX1</td>\n",
       "      <td>10000</td>\n",
       "      <td>758600</td>\n",
       "      <td>17.000000</td>\n",
       "      <td>7.000000</td>\n",
       "      <td>0</td>\n",
       "      <td>1</td>\n",
       "      <td>0</td>\n",
       "      <td>0.000000</td>\n",
       "      <td>F</td>\n",
       "      <td>ON</td>\n",
       "      <td>MISSISSAUGA</td>\n",
       "      <td>L4Z</td>\n",
       "      <td>222746</td>\n",
       "      <td>50.000000</td>\n",
       "      <td>47.736243</td>\n",
       "    </tr>\n",
       "    <tr>\n",
       "      <th>8</th>\n",
       "      <td>197851</td>\n",
       "      <td>-75.042435</td>\n",
       "      <td>45.411639</td>\n",
       "      <td>48.000000</td>\n",
       "      <td>TRG</td>\n",
       "      <td>ZCPE</td>\n",
       "      <td>20000</td>\n",
       "      <td>898300</td>\n",
       "      <td>32.000000</td>\n",
       "      <td>5.000000</td>\n",
       "      <td>1</td>\n",
       "      <td>3</td>\n",
       "      <td>2</td>\n",
       "      <td>0.000000</td>\n",
       "      <td>M</td>\n",
       "      <td>ON</td>\n",
       "      <td>OTTAWA</td>\n",
       "      <td>K0A</td>\n",
       "      <td>197851</td>\n",
       "      <td>30.000000</td>\n",
       "      <td>26.488513</td>\n",
       "    </tr>\n",
       "    <tr>\n",
       "      <th>9</th>\n",
       "      <td>35767</td>\n",
       "      <td>-75.683334</td>\n",
       "      <td>44.599785</td>\n",
       "      <td>25.000000</td>\n",
       "      <td>CGUI</td>\n",
       "      <td>ZDDE</td>\n",
       "      <td>15000</td>\n",
       "      <td>283300</td>\n",
       "      <td>7.000000</td>\n",
       "      <td>8.000000</td>\n",
       "      <td>0</td>\n",
       "      <td>2</td>\n",
       "      <td>0</td>\n",
       "      <td>1.000000</td>\n",
       "      <td>F</td>\n",
       "      <td>ON</td>\n",
       "      <td>ELIZABETHTOWN-KITLEY</td>\n",
       "      <td>K6V</td>\n",
       "      <td>35767</td>\n",
       "      <td>50.000000</td>\n",
       "      <td>49.768279</td>\n",
       "    </tr>\n",
       "    <tr>\n",
       "      <th>10</th>\n",
       "      <td>17785</td>\n",
       "      <td>-79.282241</td>\n",
       "      <td>43.790730</td>\n",
       "      <td>74.000000</td>\n",
       "      <td>TRG</td>\n",
       "      <td>Z43O</td>\n",
       "      <td>5000</td>\n",
       "      <td>140000</td>\n",
       "      <td>56.000000</td>\n",
       "      <td>1.000000</td>\n",
       "      <td>1</td>\n",
       "      <td>2</td>\n",
       "      <td>0</td>\n",
       "      <td>0.000000</td>\n",
       "      <td>F</td>\n",
       "      <td>ON</td>\n",
       "      <td>TORONTO</td>\n",
       "      <td>M1S</td>\n",
       "      <td>17785</td>\n",
       "      <td>105.000000</td>\n",
       "      <td>82.872554</td>\n",
       "    </tr>\n",
       "    <tr>\n",
       "      <th>11</th>\n",
       "      <td>251290</td>\n",
       "      <td>-75.730332</td>\n",
       "      <td>45.247542</td>\n",
       "      <td>41.000000</td>\n",
       "      <td>TRG</td>\n",
       "      <td>ZCX6</td>\n",
       "      <td>10000</td>\n",
       "      <td>975100</td>\n",
       "      <td>25.000000</td>\n",
       "      <td>4.000000</td>\n",
       "      <td>1</td>\n",
       "      <td>2</td>\n",
       "      <td>1</td>\n",
       "      <td>0.000000</td>\n",
       "      <td>M</td>\n",
       "      <td>ON</td>\n",
       "      <td>OTTAWA</td>\n",
       "      <td>K2J</td>\n",
       "      <td>251290</td>\n",
       "      <td>0.000000</td>\n",
       "      <td>75.921882</td>\n",
       "    </tr>\n",
       "    <tr>\n",
       "      <th>12</th>\n",
       "      <td>45100</td>\n",
       "      <td>-82.767063</td>\n",
       "      <td>42.276732</td>\n",
       "      <td>40.000000</td>\n",
       "      <td>TRG</td>\n",
       "      <td>ZDDE</td>\n",
       "      <td>8000</td>\n",
       "      <td>587601</td>\n",
       "      <td>23.000000</td>\n",
       "      <td>1.000000</td>\n",
       "      <td>1</td>\n",
       "      <td>2</td>\n",
       "      <td>5</td>\n",
       "      <td>0.000000</td>\n",
       "      <td>F</td>\n",
       "      <td>ON</td>\n",
       "      <td>KINGSVILLE</td>\n",
       "      <td>N0R</td>\n",
       "      <td>45100</td>\n",
       "      <td>50.000000</td>\n",
       "      <td>48.770438</td>\n",
       "    </tr>\n",
       "    <tr>\n",
       "      <th>13</th>\n",
       "      <td>50684</td>\n",
       "      <td>-80.528102</td>\n",
       "      <td>43.438686</td>\n",
       "      <td>42.000000</td>\n",
       "      <td>TRG</td>\n",
       "      <td>ZDDE</td>\n",
       "      <td>15000</td>\n",
       "      <td>784001</td>\n",
       "      <td>24.000000</td>\n",
       "      <td>5.000000</td>\n",
       "      <td>0</td>\n",
       "      <td>1</td>\n",
       "      <td>0</td>\n",
       "      <td>0.000000</td>\n",
       "      <td>F</td>\n",
       "      <td>ON</td>\n",
       "      <td>KITCHENER</td>\n",
       "      <td>N2M</td>\n",
       "      <td>50684</td>\n",
       "      <td>50.000000</td>\n",
       "      <td>49.084504</td>\n",
       "    </tr>\n",
       "    <tr>\n",
       "      <th>14</th>\n",
       "      <td>94510</td>\n",
       "      <td>-63.754689</td>\n",
       "      <td>46.421106</td>\n",
       "      <td>56.000000</td>\n",
       "      <td>WAWA</td>\n",
       "      <td>ZZAWE</td>\n",
       "      <td>10000</td>\n",
       "      <td>355801</td>\n",
       "      <td>39.000000</td>\n",
       "      <td>11.000000</td>\n",
       "      <td>1</td>\n",
       "      <td>2</td>\n",
       "      <td>0</td>\n",
       "      <td>0.000000</td>\n",
       "      <td>M</td>\n",
       "      <td>PE</td>\n",
       "      <td>PRINCE</td>\n",
       "      <td>C1N</td>\n",
       "      <td>94510</td>\n",
       "      <td>40.000000</td>\n",
       "      <td>19.876576</td>\n",
       "    </tr>\n",
       "    <tr>\n",
       "      <th>15</th>\n",
       "      <td>226509</td>\n",
       "      <td>-79.355744</td>\n",
       "      <td>43.681317</td>\n",
       "      <td>61.000000</td>\n",
       "      <td>LIC</td>\n",
       "      <td>Z00H</td>\n",
       "      <td>8000</td>\n",
       "      <td>903200</td>\n",
       "      <td>40.000000</td>\n",
       "      <td>12.000000</td>\n",
       "      <td>0</td>\n",
       "      <td>3</td>\n",
       "      <td>1</td>\n",
       "      <td>0.000000</td>\n",
       "      <td>F</td>\n",
       "      <td>ON</td>\n",
       "      <td>TORONTO</td>\n",
       "      <td>M4K</td>\n",
       "      <td>226509</td>\n",
       "      <td>30.000000</td>\n",
       "      <td>47.357860</td>\n",
       "    </tr>\n",
       "    <tr>\n",
       "      <th>16</th>\n",
       "      <td>118061</td>\n",
       "      <td>-66.603144</td>\n",
       "      <td>46.183101</td>\n",
       "      <td>27.000000</td>\n",
       "      <td>WAWA</td>\n",
       "      <td>ZZAWE</td>\n",
       "      <td>15000</td>\n",
       "      <td>021006</td>\n",
       "      <td>10.000000</td>\n",
       "      <td>4.000000</td>\n",
       "      <td>0</td>\n",
       "      <td>1</td>\n",
       "      <td>0</td>\n",
       "      <td>0.000000</td>\n",
       "      <td>M</td>\n",
       "      <td>NB</td>\n",
       "      <td>ST_MARYS</td>\n",
       "      <td>E6C</td>\n",
       "      <td>118061</td>\n",
       "      <td>40.000000</td>\n",
       "      <td>36.572854</td>\n",
       "    </tr>\n",
       "    <tr>\n",
       "      <th>17</th>\n",
       "      <td>157797</td>\n",
       "      <td>-79.634370</td>\n",
       "      <td>43.573470</td>\n",
       "      <td>38.000000</td>\n",
       "      <td>CGUI</td>\n",
       "      <td>ZCSD</td>\n",
       "      <td>25000</td>\n",
       "      <td>793105</td>\n",
       "      <td>18.000000</td>\n",
       "      <td>4.000000</td>\n",
       "      <td>0</td>\n",
       "      <td>1</td>\n",
       "      <td>1</td>\n",
       "      <td>2.000000</td>\n",
       "      <td>M</td>\n",
       "      <td>ON</td>\n",
       "      <td>MISSISSAUGA</td>\n",
       "      <td>L5B</td>\n",
       "      <td>157797</td>\n",
       "      <td>150.000000</td>\n",
       "      <td>162.733928</td>\n",
       "    </tr>\n",
       "    <tr>\n",
       "      <th>18</th>\n",
       "      <td>131246</td>\n",
       "      <td>-80.316035</td>\n",
       "      <td>43.905075</td>\n",
       "      <td>41.000000</td>\n",
       "      <td>TRG</td>\n",
       "      <td>ZCS1</td>\n",
       "      <td>25000</td>\n",
       "      <td>068702</td>\n",
       "      <td>24.000000</td>\n",
       "      <td>1.000000</td>\n",
       "      <td>1</td>\n",
       "      <td>2</td>\n",
       "      <td>1</td>\n",
       "      <td>0.000000</td>\n",
       "      <td>M</td>\n",
       "      <td>ON</td>\n",
       "      <td>GRAND_VALLEY</td>\n",
       "      <td>L9W</td>\n",
       "      <td>131246</td>\n",
       "      <td>150.000000</td>\n",
       "      <td>117.268055</td>\n",
       "    </tr>\n",
       "    <tr>\n",
       "      <th>19</th>\n",
       "      <td>70343</td>\n",
       "      <td>-77.127654</td>\n",
       "      <td>45.813282</td>\n",
       "      <td>68.000000</td>\n",
       "      <td>CGUI</td>\n",
       "      <td>ZDDE</td>\n",
       "      <td>10000</td>\n",
       "      <td>765000</td>\n",
       "      <td>31.000000</td>\n",
       "      <td>14.000000</td>\n",
       "      <td>0</td>\n",
       "      <td>1</td>\n",
       "      <td>0</td>\n",
       "      <td>0.000000</td>\n",
       "      <td>M</td>\n",
       "      <td>ON</td>\n",
       "      <td>LAURENTIAN_VALLEY</td>\n",
       "      <td>K8A</td>\n",
       "      <td>70343</td>\n",
       "      <td>50.000000</td>\n",
       "      <td>49.340199</td>\n",
       "    </tr>\n",
       "  </tbody>\n",
       "</table>\n",
       "</div>"
      ],
      "text/plain": [
       "     index   LONGITUDE  LATITUDE    AGE_D1 COMPANY_CODE  \\\n",
       "0   267159 -113.665998 53.481912 23.000000           WU   \n",
       "1   124210  -75.994068 45.440727 61.000000          GNA   \n",
       "2   128726  -81.369638 44.495934 74.000000          TRG   \n",
       "3    48912  -82.234745 42.905148 41.000000          TRG   \n",
       "4   159975  -79.125515 43.806858 65.000000         CGUI   \n",
       "5    87984  -65.616636 47.625117 55.000000         WAWA   \n",
       "6   142994  -75.485879 45.261015 39.000000          TRG   \n",
       "7   222746  -79.636220 43.611990 35.000000          TRG   \n",
       "8   197851  -75.042435 45.411639 48.000000          TRG   \n",
       "9    35767  -75.683334 44.599785 25.000000         CGUI   \n",
       "10   17785  -79.282241 43.790730 74.000000          TRG   \n",
       "11  251290  -75.730332 45.247542 41.000000          TRG   \n",
       "12   45100  -82.767063 42.276732 40.000000          TRG   \n",
       "13   50684  -80.528102 43.438686 42.000000          TRG   \n",
       "14   94510  -63.754689 46.421106 56.000000         WAWA   \n",
       "15  226509  -79.355744 43.681317 61.000000          LIC   \n",
       "16  118061  -66.603144 46.183101 27.000000         WAWA   \n",
       "17  157797  -79.634370 43.573470 38.000000         CGUI   \n",
       "18  131246  -80.316035 43.905075 41.000000          TRG   \n",
       "19   70343  -77.127654 45.813282 68.000000         CGUI   \n",
       "\n",
       "   COVERAGE_CODE_AUTOMOBILE  DISTANCE_DRIVEN_ANNUALLY VEHICLE_CODE1  \\\n",
       "0                      Z49Y                      7000        539700   \n",
       "1                     ZOF6*                     20000        025100   \n",
       "2                      ZCS1                     25000        946303   \n",
       "3                      ZDDE                     12000        099600   \n",
       "4                      ZCSD                      5000        127400   \n",
       "5                     ZZAWE                     15000        582300   \n",
       "6                      ZCSD                     10000        776500   \n",
       "7                      ZCX1                     10000        758600   \n",
       "8                      ZCPE                     20000        898300   \n",
       "9                      ZDDE                     15000        283300   \n",
       "10                     Z43O                      5000        140000   \n",
       "11                     ZCX6                     10000        975100   \n",
       "12                     ZDDE                      8000        587601   \n",
       "13                     ZDDE                     15000        784001   \n",
       "14                    ZZAWE                     10000        355801   \n",
       "15                     Z00H                      8000        903200   \n",
       "16                    ZZAWE                     15000        021006   \n",
       "17                     ZCSD                     25000        793105   \n",
       "18                     ZCS1                     25000        068702   \n",
       "19                     ZDDE                     10000        765000   \n",
       "\n",
       "    DRIVING_AGE  VEHICLE_AGE MULTICAR_DISCOUNT_INDICATOR  DRIVERS_NUM  \\\n",
       "0      1.000000     7.000000                           0            1   \n",
       "1     44.000000     4.000000                           0            2   \n",
       "2     54.000000     2.000000                           0            2   \n",
       "3     24.000000    13.000000                           1            2   \n",
       "4     49.000000    14.000000                           1            2   \n",
       "5     35.000000    14.000000                           1            3   \n",
       "6     21.000000     3.000000                           0            2   \n",
       "7     17.000000     7.000000                           0            1   \n",
       "8     32.000000     5.000000                           1            3   \n",
       "9      7.000000     8.000000                           0            2   \n",
       "10    56.000000     1.000000                           1            2   \n",
       "11    25.000000     4.000000                           1            2   \n",
       "12    23.000000     1.000000                           1            2   \n",
       "13    24.000000     5.000000                           0            1   \n",
       "14    39.000000    11.000000                           1            2   \n",
       "15    40.000000    12.000000                           0            3   \n",
       "16    10.000000     4.000000                           0            1   \n",
       "17    18.000000     4.000000                           0            1   \n",
       "18    24.000000     1.000000                           1            2   \n",
       "19    31.000000    14.000000                           0            1   \n",
       "\n",
       "    AUTO_CLAIMS  CONVICTION_NUM DRIVER_SEX_CODE_D1 PROVINCE  \\\n",
       "0             0        0.000000                  M       AB   \n",
       "1             1        0.000000                  M       ON   \n",
       "2             0        0.000000                  F       ON   \n",
       "3             0        0.000000                  M       ON   \n",
       "4             2        0.000000                  M       ON   \n",
       "5             0        0.000000                  M       NB   \n",
       "6             0        0.000000                  M       ON   \n",
       "7             0        0.000000                  F       ON   \n",
       "8             2        0.000000                  M       ON   \n",
       "9             0        1.000000                  F       ON   \n",
       "10            0        0.000000                  F       ON   \n",
       "11            1        0.000000                  M       ON   \n",
       "12            5        0.000000                  F       ON   \n",
       "13            0        0.000000                  F       ON   \n",
       "14            0        0.000000                  M       PE   \n",
       "15            1        0.000000                  F       ON   \n",
       "16            0        0.000000                  M       NB   \n",
       "17            1        2.000000                  M       ON   \n",
       "18            1        0.000000                  M       ON   \n",
       "19            0        0.000000                  M       ON   \n",
       "\n",
       "                    CITY  FSA   index  FULL_TERM_PREMIUM_COVERAGE      preds  \n",
       "0               EDMONTON  T6M  267159                   15.000000  19.811622  \n",
       "1                 OTTAWA  K0A  124210                   27.000000  30.204845  \n",
       "2        GEORGIAN_BLUFFS  N0H  128726                    0.000000 123.651656  \n",
       "3            ENNISKILLEN  N0N   48912                   50.000000  49.802534  \n",
       "4              PICKERING  L1W  159975                  160.000000 162.752191  \n",
       "5        BATHURST_PARISH  E2A   87984                   40.000000  20.062775  \n",
       "6                 OTTAWA  K0A  142994                  160.000000 162.198110  \n",
       "7            MISSISSAUGA  L4Z  222746                   50.000000  47.736243  \n",
       "8                 OTTAWA  K0A  197851                   30.000000  26.488513  \n",
       "9   ELIZABETHTOWN-KITLEY  K6V   35767                   50.000000  49.768279  \n",
       "10               TORONTO  M1S   17785                  105.000000  82.872554  \n",
       "11                OTTAWA  K2J  251290                    0.000000  75.921882  \n",
       "12            KINGSVILLE  N0R   45100                   50.000000  48.770438  \n",
       "13             KITCHENER  N2M   50684                   50.000000  49.084504  \n",
       "14                PRINCE  C1N   94510                   40.000000  19.876576  \n",
       "15               TORONTO  M4K  226509                   30.000000  47.357860  \n",
       "16              ST_MARYS  E6C  118061                   40.000000  36.572854  \n",
       "17           MISSISSAUGA  L5B  157797                  150.000000 162.733928  \n",
       "18          GRAND_VALLEY  L9W  131246                  150.000000 117.268055  \n",
       "19     LAURENTIAN_VALLEY  K8A   70343                   50.000000  49.340199  "
      ]
     },
     "execution_count": 172,
     "metadata": {},
     "output_type": "execute_result"
    },
    {
     "name": "stdout",
     "output_type": "stream",
     "text": [
      "time: 44 ms\n"
     ]
    }
   ],
   "source": [
    "pd.concat([x_z_val.reset_index(),y_z_val.reset_index(),r],axis=1).head(20)"
   ]
  },
  {
   "cell_type": "code",
   "execution_count": 103,
   "metadata": {},
   "outputs": [
    {
     "data": {
      "text/plain": [
       "['C:\\\\Users\\\\john.lan\\\\Desktop\\\\zcode.pkl']"
      ]
     },
     "execution_count": 103,
     "metadata": {},
     "output_type": "execute_result"
    },
    {
     "name": "stdout",
     "output_type": "stream",
     "text": [
      "time: 117 ms\n"
     ]
    }
   ],
   "source": [
    "#from sklearn.externals import joblib\n",
    "# save model\n",
    "#0.81\n",
    "joblib.dump(grid, r'C:\\Users\\john.lan\\Desktop\\zcode.pkl')"
   ]
  },
  {
   "cell_type": "code",
   "execution_count": 11,
   "metadata": {},
   "outputs": [
    {
     "name": "stdout",
     "output_type": "stream",
     "text": [
      "AGE_D1 0.9991808277229397\n",
      "FSA 0.9999192855028682\n",
      "POSTAL_CODE 1.0\n",
      "COMPANY_CODE 1.0\n",
      "COVERAGE_CODE_AUTOMOBILE 0.9997231840412687\n",
      "DEDUCTIBLE_AMOUNT 1.0\n",
      "DISTANCE_DRIVEN_ANNUALLY 0.9979259475026897\n",
      "LIMIT_1 1.0\n",
      "VEHICLE_CODE1 0.9923963936875437\n",
      "VEHICLE_RATE_GROUP 0.9033512020258493\n",
      "DRIVING_AGE 0.9159566641139963\n",
      "VEHICLE_AGE 0.9999515149237252\n",
      "MULTICAR_DISCOUNT_INDICATOR 0.6636986784058182\n",
      "DRIVERS_NUM 1.0\n",
      "FULL_TERM_PREMIUM_COVERAGE 0.7600331690541182\n",
      "DRIVER_SEX_CODE_D1 0.9985572870908485\n",
      "AUTO_CLAIMS 1.0\n",
      "CONVICTION_NUM 0.9999991543300649\n",
      "DRIVER_MARITAL_STATUS_CODE_D1 0.9984672702244314\n",
      "NEW_CITY_NAME 0.9999192855028682\n",
      "PROVINCE_STATE_ABBREVIATION 0.9999388298747\n",
      "COVERAGE_CODE_AUTOMOBILE_CLASS 0.9927064726637194\n",
      "VIN_SERIAL_NUMBER 0.9999503873638119\n",
      "time: 1min 20s\n"
     ]
    }
   ],
   "source": [
    "for c in full_mongo.columns:\n",
    "    print(c, len(full_mongo[full_mongo[c].notnull()])/len(full_mongo))"
   ]
  },
  {
   "cell_type": "code",
   "execution_count": 12,
   "metadata": {},
   "outputs": [
    {
     "name": "stdout",
     "output_type": "stream",
     "text": [
      "time: 3.82 s\n"
     ]
    }
   ],
   "source": [
    "full_mongo['FSA'] = full_mongo['POSTAL_CODE'].str[:3]"
   ]
  },
  {
   "cell_type": "code",
   "execution_count": 14,
   "metadata": {},
   "outputs": [
    {
     "data": {
      "text/plain": [
       "1100"
      ]
     },
     "execution_count": 14,
     "metadata": {},
     "output_type": "execute_result"
    },
    {
     "name": "stdout",
     "output_type": "stream",
     "text": [
      "time: 506 ms\n"
     ]
    }
   ],
   "source": [
    "full_mongo['FSA'].nunique()"
   ]
  },
  {
   "cell_type": "code",
   "execution_count": 17,
   "metadata": {},
   "outputs": [
    {
     "name": "stdout",
     "output_type": "stream",
     "text": [
      "time: 528 ms\n"
     ]
    }
   ],
   "source": [
    "fsa = full_mongo['FSA'].unique().tolist()"
   ]
  },
  {
   "cell_type": "code",
   "execution_count": 22,
   "metadata": {},
   "outputs": [
    {
     "data": {
      "text/plain": [
       "1066"
      ]
     },
     "execution_count": 22,
     "metadata": {},
     "output_type": "execute_result"
    },
    {
     "name": "stdout",
     "output_type": "stream",
     "text": [
      "time: 515 ms\n"
     ]
    }
   ],
   "source": [
    "b1['FSA'].nunique()"
   ]
  },
  {
   "cell_type": "code",
   "execution_count": null,
   "metadata": {},
   "outputs": [],
   "source": []
  },
  {
   "cell_type": "code",
   "execution_count": 21,
   "metadata": {},
   "outputs": [
    {
     "name": "stdout",
     "output_type": "stream",
     "text": [
      "time: 18.2 s\n"
     ]
    }
   ],
   "source": [
    "num_cols = ['AGE_D1',\n",
    "            'LONGITUDE',\n",
    "            'LATITUDE',\n",
    "           'DISTANCE_DRIVEN_ANNUALLY',\n",
    "           'DRIVING_AGE',\n",
    "           'VEHICLE_AGE',\n",
    "           'DRIVERS_NUM',\n",
    "           'FULL_TERM_PREMIUM_COVERAGE',\n",
    "           'AUTO_CLAIMS',\n",
    "           'CONVICTION_NUM'\n",
    "           ]\n",
    "\n",
    "target = ['FULL_TERM_PREMIUM_COVERAGE']\n",
    "\n",
    "for col in num_cols:\n",
    "    b1[col] =pd.to_numeric(b1[col],errors='coerce')\n",
    "    #hold_out_1[col] =pd.to_numeric(hold_out_1[col],errors='coerce')\n",
    "pd.set_option('float_format', '{:f}'.format)\n",
    "cat_vars=['COVERAGE_CODE_AUTOMOBILE',\n",
    "          'COMPANY_CODE',\n",
    "          'MULTICAR_DISCOUNT_INDICATOR',\n",
    "          'VEHICLE_CODE1',\n",
    "          'DRIVER_SEX_CODE_D1',\n",
    "          'PROVINCE',\n",
    "          'CITY',\n",
    "          'FSA'\n",
    "        ]\n",
    "for i in cat_vars:\n",
    "    b1[i] = b1[i].astype('category')"
   ]
  },
  {
   "cell_type": "code",
   "execution_count": 22,
   "metadata": {},
   "outputs": [
    {
     "name": "stdout",
     "output_type": "stream",
     "text": [
      "time: 1.98 ms\n"
     ]
    }
   ],
   "source": [
    "input_cols = ['LONGITUDE',\n",
    "              'LATITUDE',\n",
    "              'AGE_D1',\n",
    "              'COMPANY_CODE',\n",
    "              'COVERAGE_CODE_AUTOMOBILE',\n",
    "              'DISTANCE_DRIVEN_ANNUALLY',\n",
    "              'VEHICLE_CODE1',\n",
    "              'DRIVING_AGE',\n",
    "              'VEHICLE_AGE',\n",
    "              'MULTICAR_DISCOUNT_INDICATOR',\n",
    "              'DRIVERS_NUM',\n",
    "              'AUTO_CLAIMS',\n",
    "              'CONVICTION_NUM',\n",
    "              'DRIVER_SEX_CODE_D1',\n",
    "              'PROVINCE',\n",
    "              'CITY',\n",
    "              'FSA'\n",
    "             ]"
   ]
  },
  {
   "cell_type": "code",
   "execution_count": 23,
   "metadata": {},
   "outputs": [
    {
     "name": "stdout",
     "output_type": "stream",
     "text": [
      "time: 1.51 s\n"
     ]
    }
   ],
   "source": [
    "#split train data, test data and validation data\n",
    "x_train = b1[input_cols]\n",
    "y_train = b1[target]"
   ]
  },
  {
   "cell_type": "code",
   "execution_count": 24,
   "metadata": {},
   "outputs": [
    {
     "name": "stdout",
     "output_type": "stream",
     "text": [
      "time: 4.73 s\n"
     ]
    }
   ],
   "source": [
    "x_train, x_val, y_train, y_val = train_test_split(x_train, y_train, test_size=0.10, random_state=99)"
   ]
  },
  {
   "cell_type": "code",
   "execution_count": 216,
   "metadata": {},
   "outputs": [
    {
     "name": "stdout",
     "output_type": "stream",
     "text": [
      "file has been created\n",
      "file has been created\n",
      "time: 1min 58s\n"
     ]
    }
   ],
   "source": [
    "with adl.open('/LeadGen/Raw/Silver/AUTO/Train_data/x_train_1216.pkl', 'wb') as f:\n",
    "    pickle.dump(x_train,f,pickle.HIGHEST_PROTOCOL)\n",
    "print('file has been created')\n",
    "with adl.open('/LeadGen/Raw/Silver/AUTO/Train_data/y_train_1216.pkl', 'wb') as f:\n",
    "    pickle.dump(y_train,f,pickle.HIGHEST_PROTOCOL)\n",
    "print('file has been created')"
   ]
  },
  {
   "cell_type": "code",
   "execution_count": 217,
   "metadata": {},
   "outputs": [
    {
     "name": "stdout",
     "output_type": "stream",
     "text": [
      "file has been created\n",
      "file has been created\n",
      "time: 7.42 s\n"
     ]
    }
   ],
   "source": [
    "with adl.open('/LeadGen/Raw/Silver/AUTO/Test_data/x_holdout_1216.pkl', 'wb') as f:\n",
    "    pickle.dump(x_val,f,pickle.HIGHEST_PROTOCOL)\n",
    "print('file has been created')\n",
    "with adl.open('/LeadGen/Raw/Silver/AUTO/Test_data/y_holdout_1216.pkl', 'wb') as f:\n",
    "    pickle.dump(y_val,f,pickle.HIGHEST_PROTOCOL)\n",
    "print('file has been created')"
   ]
  },
  {
   "cell_type": "code",
   "execution_count": null,
   "metadata": {},
   "outputs": [],
   "source": [
    "with adl.open('/LeadGen/Raw/Silver/AUTO/Test_data/zcode_1216.pkl', 'wb') as f:\n",
    "    pickle.dump(zcode,f,pickle.HIGHEST_PROTOCOL)"
   ]
  },
  {
   "cell_type": "code",
   "execution_count": 232,
   "metadata": {},
   "outputs": [
    {
     "name": "stdout",
     "output_type": "stream",
     "text": [
      "\n",
      "****To find optimal parameters for lightGBM using GridSearchCV for Regression*****\n",
      "\n",
      "========================================================\n",
      " Results from Grid Search \n",
      "========================================================\n",
      "\n",
      " The best estimator across ALL searched params:\n",
      " LGBMRegressor(boosting_type='gbdt', class_weight=None, colsample_bytree=1.0,\n",
      "              importance_type='split', lambda_l1=0.0, learning_rate=0.05,\n",
      "              max_depth=14, min_child_sample=10, min_child_samples=20,\n",
      "              min_child_weight=1, min_split_gain=0.0, n_estimators=100,\n",
      "              n_jobs=-1, num_leaves=5000, objective=None, random_state=None,\n",
      "              reg_alpha=0.0, reg_lambda=0.0, scale_pos_weight=1.0, silent=True,\n",
      "              subsample=1.0, subsample_for_bin=200000, subsample_freq=0)\n",
      "\n",
      " The best score across ALL searched params:\n",
      " 0.8192565592209327\n",
      "\n",
      " The best parameters across ALL searched params:\n",
      " {'boosting_type': 'gbdt', 'colsample_bytree': 1.0, 'lambda_l1': 0.0, 'learning_rate': 0.05, 'max_depth': 14, 'min_child_sample': 10, 'min_child_weight': 1, 'n_estimators': 100, 'num_leaves': 5000, 'reg_lambda': 0.0, 'scale_pos_weight': 1.0, 'subsample': 1.0}\n",
      "\n",
      " ========================================================\n",
      "time: 15min 12s\n"
     ]
    }
   ],
   "source": [
    "model = lgb.LGBMRegressor()\n",
    "parameters = {    'max_depth' : [14],\n",
    "                  'learning_rate' : [0.05],\n",
    "                  'num_leaves': [5000],\n",
    "                  'n_estimators': [100],\n",
    "                  'min_child_weight' : [1],\n",
    "                  'min_child_sample' : [10],\n",
    "                  'subsample': [1.0],\n",
    "                  'colsample_bytree': [1.0],\n",
    "                  'scale_pos_weight': [1.0],\n",
    "                  'reg_lambda':[0.0],\n",
    "                  'boosting_type': ['gbdt'],     \n",
    "                  'lambda_l1':[0.0]\n",
    "             }\n",
    "\n",
    "grid = ParameterOptimizer(model = model,\n",
    "                          parameters= parameters,\n",
    "                          x_train = x_train,\n",
    "                          y_train = y_train,\n",
    "                          cat_vars = cat_vars,\n",
    "                          early_stopping_rounds = 50,\n",
    "                          eval_set = [(x_val,y_val)])"
   ]
  },
  {
   "cell_type": "code",
   "execution_count": 234,
   "metadata": {},
   "outputs": [
    {
     "name": "stdout",
     "output_type": "stream",
     "text": [
      "time: 12.1 s\n"
     ]
    }
   ],
   "source": [
    "with open(r'C:\\Users\\john.lan\\Desktop\\lightGBM_AUTO_PP.pkl', 'rb') as f:\n",
    "    auto_model = joblib.load(f)"
   ]
  },
  {
   "cell_type": "code",
   "execution_count": 233,
   "metadata": {},
   "outputs": [
    {
     "name": "stdout",
     "output_type": "stream",
     "text": [
      "Val data MAE score is 24.222011688716904\n",
      "Train data MAE score is 22.15332218694391\n",
      "Val data R2 score is 84.44%\n",
      "Train data R2 score is 88.19%\n",
      "time: 6min 3s\n"
     ]
    }
   ],
   "source": [
    "#remove\n",
    "print('Val data MAE score is {}'.format(mean_absolute_error(y_val, grid.predict(x_val))))\n",
    "print('Train data MAE score is {}'.format(mean_absolute_error(y_train, grid.predict(x_train))))\n",
    "\n",
    "print('Val data R2 score is {:.2%}'.format(r2_score(y_val, grid.predict(x_val))))\n",
    "print('Train data R2 score is {:.2%}'.format(r2_score(y_train, grid.predict(x_train))))"
   ]
  },
  {
   "cell_type": "code",
   "execution_count": 235,
   "metadata": {},
   "outputs": [
    {
     "name": "stdout",
     "output_type": "stream",
     "text": [
      "Val data MAE score is 20.8503802823622\n",
      "Train data MAE score is 9.857989564986084\n",
      "Val data R2 score is 86.41%\n",
      "Train data R2 score is 97.22%\n",
      "time: 41min 28s\n"
     ]
    }
   ],
   "source": [
    "#learning rate 0.3\n",
    "#n_estimators 250\n",
    "print('Val data MAE score is {}'.format(mean_absolute_error(y_val, auto_model.predict(x_val))))\n",
    "print('Train data MAE score is {}'.format(mean_absolute_error(y_train, auto_model.predict(x_train))))\n",
    "\n",
    "print('Val data R2 score is {:.2%}'.format(r2_score(y_val, auto_model.predict(x_val))))\n",
    "print('Train data R2 score is {:.2%}'.format(r2_score(y_train, auto_model.predict(x_train))))"
   ]
  },
  {
   "cell_type": "code",
   "execution_count": 238,
   "metadata": {},
   "outputs": [
    {
     "name": "stdout",
     "output_type": "stream",
     "text": [
      "time: 2min 2s\n"
     ]
    }
   ],
   "source": [
    "prediction = pd.DataFrame(auto_model.predict(x_val),columns=['preds'])"
   ]
  },
  {
   "cell_type": "code",
   "execution_count": 239,
   "metadata": {},
   "outputs": [
    {
     "name": "stdout",
     "output_type": "stream",
     "text": [
      "time: 191 ms\n"
     ]
    }
   ],
   "source": [
    "result = pd.concat([x_val.reset_index(),y_val.reset_index(),prediction],axis = 1)"
   ]
  },
  {
   "cell_type": "code",
   "execution_count": 240,
   "metadata": {},
   "outputs": [
    {
     "name": "stdout",
     "output_type": "stream",
     "text": [
      "time: 189 ms\n"
     ]
    }
   ],
   "source": [
    "result_ab = result[result['COVERAGE_CODE_AUTOMOBILE']=='AB']"
   ]
  },
  {
   "cell_type": "code",
   "execution_count": 244,
   "metadata": {},
   "outputs": [
    {
     "name": "stdout",
     "output_type": "stream",
     "text": [
      "time: 105 ms\n"
     ]
    }
   ],
   "source": [
    "result_without_0 = result[result['FULL_TERM_PREMIUM_COVERAGE'] !=0]"
   ]
  },
  {
   "cell_type": "code",
   "execution_count": 245,
   "metadata": {},
   "outputs": [
    {
     "data": {
      "text/plain": [
       "31.165849047551458"
      ]
     },
     "execution_count": 245,
     "metadata": {},
     "output_type": "execute_result"
    },
    {
     "name": "stdout",
     "output_type": "stream",
     "text": [
      "time: 21 ms\n"
     ]
    }
   ],
   "source": [
    "mean_absolute_error(result_without_0['FULL_TERM_PREMIUM_COVERAGE'],result_without_0['preds'])"
   ]
  },
  {
   "cell_type": "code",
   "execution_count": 105,
   "metadata": {},
   "outputs": [
    {
     "data": {
      "text/html": [
       "<div>\n",
       "<style scoped>\n",
       "    .dataframe tbody tr th:only-of-type {\n",
       "        vertical-align: middle;\n",
       "    }\n",
       "\n",
       "    .dataframe tbody tr th {\n",
       "        vertical-align: top;\n",
       "    }\n",
       "\n",
       "    .dataframe thead th {\n",
       "        text-align: right;\n",
       "    }\n",
       "</style>\n",
       "<table border=\"1\" class=\"dataframe\">\n",
       "  <thead>\n",
       "    <tr style=\"text-align: right;\">\n",
       "      <th></th>\n",
       "      <th>AGE_D1</th>\n",
       "      <th>POSTAL_CODE</th>\n",
       "      <th>COMPANY_CODE</th>\n",
       "      <th>COVERAGE_CODE_AUTOMOBILE</th>\n",
       "      <th>DEDUCTIBLE_AMOUNT</th>\n",
       "      <th>DISTANCE_DRIVEN_ANNUALLY</th>\n",
       "      <th>DRIVERS_NUM</th>\n",
       "      <th>FSA</th>\n",
       "      <th>VEHICLE_RATE_GROUP</th>\n",
       "      <th>FULL_TERM_PREMIUM_COVERAGE</th>\n",
       "      <th>LIMIT_1</th>\n",
       "      <th>MULTICAR_DISCOUNT_INDICATOR</th>\n",
       "      <th>NEW_CITY_NAME</th>\n",
       "      <th>PROVINCE_STATE_ABBREVIATION</th>\n",
       "      <th>VEHICLE_CODE1</th>\n",
       "      <th>COVERAGE_CODE_AUTOMOBILE_CLASS</th>\n",
       "      <th>VEHICLE_USE_CODE</th>\n",
       "      <th>DRIVER_SEX_CODE_D1</th>\n",
       "      <th>YEAR_LICENSED</th>\n",
       "      <th>DRIVING_AGE</th>\n",
       "      <th>AUTO_CLAIMS</th>\n",
       "      <th>CONVICTION_NUM</th>\n",
       "      <th>VEHICLE_AGE</th>\n",
       "      <th>VIN_SERIAL_NUMBER</th>\n",
       "      <th>CITY</th>\n",
       "      <th>PROVINCE</th>\n",
       "      <th>LONGITUDE</th>\n",
       "      <th>LATITUDE</th>\n",
       "    </tr>\n",
       "  </thead>\n",
       "  <tbody>\n",
       "    <tr>\n",
       "      <th>83617</th>\n",
       "      <td>45.000000</td>\n",
       "      <td>T3R0X3</td>\n",
       "      <td>PEMB</td>\n",
       "      <td>ZNOC</td>\n",
       "      <td>0.000000</td>\n",
       "      <td>12000.000000</td>\n",
       "      <td>2</td>\n",
       "      <td>T3R</td>\n",
       "      <td>30</td>\n",
       "      <td>-295.000000</td>\n",
       "      <td>0.000000</td>\n",
       "      <td>1</td>\n",
       "      <td>CALGARY</td>\n",
       "      <td>AB</td>\n",
       "      <td>684200</td>\n",
       "      <td>ZCODE</td>\n",
       "      <td>W</td>\n",
       "      <td>M</td>\n",
       "      <td>1990-07</td>\n",
       "      <td>29.000000</td>\n",
       "      <td>0</td>\n",
       "      <td>0.000000</td>\n",
       "      <td>10.000000</td>\n",
       "      <td>1GKEV23DX9J</td>\n",
       "      <td>ROCKY_VIEW_COUNTY</td>\n",
       "      <td>AB</td>\n",
       "      <td>-114.187962</td>\n",
       "      <td>51.147105</td>\n",
       "    </tr>\n",
       "    <tr>\n",
       "      <th>83628</th>\n",
       "      <td>45.000000</td>\n",
       "      <td>T3R0X3</td>\n",
       "      <td>PEMB</td>\n",
       "      <td>ZNOC</td>\n",
       "      <td>0.000000</td>\n",
       "      <td>12000.000000</td>\n",
       "      <td>2</td>\n",
       "      <td>T3R</td>\n",
       "      <td>35</td>\n",
       "      <td>-374.000000</td>\n",
       "      <td>0.000000</td>\n",
       "      <td>1</td>\n",
       "      <td>CALGARY</td>\n",
       "      <td>AB</td>\n",
       "      <td>376300</td>\n",
       "      <td>ZCODE</td>\n",
       "      <td>B</td>\n",
       "      <td>M</td>\n",
       "      <td>1990-07</td>\n",
       "      <td>29.000000</td>\n",
       "      <td>0</td>\n",
       "      <td>0.000000</td>\n",
       "      <td>8.000000</td>\n",
       "      <td>1FT8W3BT5BE</td>\n",
       "      <td>ROCKY_VIEW_COUNTY</td>\n",
       "      <td>AB</td>\n",
       "      <td>-114.187962</td>\n",
       "      <td>51.147105</td>\n",
       "    </tr>\n",
       "    <tr>\n",
       "      <th>84520</th>\n",
       "      <td>58.000000</td>\n",
       "      <td>T1P1J6</td>\n",
       "      <td>PEMB</td>\n",
       "      <td>13D</td>\n",
       "      <td>0.000000</td>\n",
       "      <td>20000.000000</td>\n",
       "      <td>1</td>\n",
       "      <td>T1P</td>\n",
       "      <td>35</td>\n",
       "      <td>-439.000000</td>\n",
       "      <td>0.000000</td>\n",
       "      <td>0</td>\n",
       "      <td>STRATHMORE</td>\n",
       "      <td>AB</td>\n",
       "      <td>679900</td>\n",
       "      <td>ENDORSEMENT_CODES</td>\n",
       "      <td>B</td>\n",
       "      <td>M</td>\n",
       "      <td>1979-05</td>\n",
       "      <td>40.000000</td>\n",
       "      <td>1</td>\n",
       "      <td>0.000000</td>\n",
       "      <td>2.000000</td>\n",
       "      <td>3GTU2PEJ0HG</td>\n",
       "      <td>STRATHMORE</td>\n",
       "      <td>AB</td>\n",
       "      <td>-113.400291</td>\n",
       "      <td>51.041247</td>\n",
       "    </tr>\n",
       "    <tr>\n",
       "      <th>84524</th>\n",
       "      <td>58.000000</td>\n",
       "      <td>T1P1J6</td>\n",
       "      <td>PEMB</td>\n",
       "      <td>ZNOC</td>\n",
       "      <td>0.000000</td>\n",
       "      <td>20000.000000</td>\n",
       "      <td>1</td>\n",
       "      <td>T1P</td>\n",
       "      <td>35</td>\n",
       "      <td>-485.000000</td>\n",
       "      <td>0.000000</td>\n",
       "      <td>0</td>\n",
       "      <td>STRATHMORE</td>\n",
       "      <td>AB</td>\n",
       "      <td>679900</td>\n",
       "      <td>ZCODE</td>\n",
       "      <td>B</td>\n",
       "      <td>M</td>\n",
       "      <td>1979-05</td>\n",
       "      <td>40.000000</td>\n",
       "      <td>1</td>\n",
       "      <td>0.000000</td>\n",
       "      <td>2.000000</td>\n",
       "      <td>3GTU2PEJ0HG</td>\n",
       "      <td>STRATHMORE</td>\n",
       "      <td>AB</td>\n",
       "      <td>-113.400291</td>\n",
       "      <td>51.041247</td>\n",
       "    </tr>\n",
       "    <tr>\n",
       "      <th>183383</th>\n",
       "      <td>24.000000</td>\n",
       "      <td>T5E5E6</td>\n",
       "      <td>PEMB</td>\n",
       "      <td>13D</td>\n",
       "      <td>0.000000</td>\n",
       "      <td>25000.000000</td>\n",
       "      <td>1</td>\n",
       "      <td>T5E</td>\n",
       "      <td>36</td>\n",
       "      <td>-315.000000</td>\n",
       "      <td>0.000000</td>\n",
       "      <td>0</td>\n",
       "      <td>EDMONTON</td>\n",
       "      <td>AB</td>\n",
       "      <td>364500</td>\n",
       "      <td>ENDORSEMENT_CODES</td>\n",
       "      <td>W</td>\n",
       "      <td>M</td>\n",
       "      <td>2011-11</td>\n",
       "      <td>7.000000</td>\n",
       "      <td>0</td>\n",
       "      <td>0.000000</td>\n",
       "      <td>4.000000</td>\n",
       "      <td>1FTEX1EP8FF</td>\n",
       "      <td>EDMONTON</td>\n",
       "      <td>AB</td>\n",
       "      <td>-113.518313</td>\n",
       "      <td>53.596932</td>\n",
       "    </tr>\n",
       "    <tr>\n",
       "      <th>...</th>\n",
       "      <td>...</td>\n",
       "      <td>...</td>\n",
       "      <td>...</td>\n",
       "      <td>...</td>\n",
       "      <td>...</td>\n",
       "      <td>...</td>\n",
       "      <td>...</td>\n",
       "      <td>...</td>\n",
       "      <td>...</td>\n",
       "      <td>...</td>\n",
       "      <td>...</td>\n",
       "      <td>...</td>\n",
       "      <td>...</td>\n",
       "      <td>...</td>\n",
       "      <td>...</td>\n",
       "      <td>...</td>\n",
       "      <td>...</td>\n",
       "      <td>...</td>\n",
       "      <td>...</td>\n",
       "      <td>...</td>\n",
       "      <td>...</td>\n",
       "      <td>...</td>\n",
       "      <td>...</td>\n",
       "      <td>...</td>\n",
       "      <td>...</td>\n",
       "      <td>...</td>\n",
       "      <td>...</td>\n",
       "      <td>...</td>\n",
       "    </tr>\n",
       "    <tr>\n",
       "      <th>3371920</th>\n",
       "      <td>58.000000</td>\n",
       "      <td>T0E1E0</td>\n",
       "      <td>PEMB</td>\n",
       "      <td>13D</td>\n",
       "      <td>0.000000</td>\n",
       "      <td>10000.000000</td>\n",
       "      <td>1</td>\n",
       "      <td>T0E</td>\n",
       "      <td>43</td>\n",
       "      <td>-309.000000</td>\n",
       "      <td>0.000000</td>\n",
       "      <td>0</td>\n",
       "      <td>EDMONTON</td>\n",
       "      <td>AB</td>\n",
       "      <td>779900</td>\n",
       "      <td>ENDORSEMENT_CODES</td>\n",
       "      <td>P</td>\n",
       "      <td>F</td>\n",
       "      <td>1977-10</td>\n",
       "      <td>42.000000</td>\n",
       "      <td>0</td>\n",
       "      <td>0.000000</td>\n",
       "      <td>2.000000</td>\n",
       "      <td>JA4AJ4AW7HZ</td>\n",
       "      <td>YELLOWHEAD_COUNTY</td>\n",
       "      <td>AB</td>\n",
       "      <td>-118.084809</td>\n",
       "      <td>52.880370</td>\n",
       "    </tr>\n",
       "    <tr>\n",
       "      <th>3372321</th>\n",
       "      <td>36.000000</td>\n",
       "      <td>T0E1E0</td>\n",
       "      <td>PEMB</td>\n",
       "      <td>13D</td>\n",
       "      <td>0.000000</td>\n",
       "      <td>15000.000000</td>\n",
       "      <td>2</td>\n",
       "      <td>T0E</td>\n",
       "      <td>36</td>\n",
       "      <td>-203.000000</td>\n",
       "      <td>0.000000</td>\n",
       "      <td>0</td>\n",
       "      <td>EDMONTON</td>\n",
       "      <td>AB</td>\n",
       "      <td>266200</td>\n",
       "      <td>ENDORSEMENT_CODES</td>\n",
       "      <td>W</td>\n",
       "      <td>F</td>\n",
       "      <td>1999-03</td>\n",
       "      <td>20.000000</td>\n",
       "      <td>1</td>\n",
       "      <td>0.000000</td>\n",
       "      <td>3.000000</td>\n",
       "      <td>2C4RDGDG0GR</td>\n",
       "      <td>YELLOWHEAD_COUNTY</td>\n",
       "      <td>AB</td>\n",
       "      <td>-118.084809</td>\n",
       "      <td>52.880370</td>\n",
       "    </tr>\n",
       "    <tr>\n",
       "      <th>3372651</th>\n",
       "      <td>47.000000</td>\n",
       "      <td>T7V1A9</td>\n",
       "      <td>PEMB</td>\n",
       "      <td>13D</td>\n",
       "      <td>0.000000</td>\n",
       "      <td>10000.000000</td>\n",
       "      <td>2</td>\n",
       "      <td>T7V</td>\n",
       "      <td>30</td>\n",
       "      <td>-254.000000</td>\n",
       "      <td>0.000000</td>\n",
       "      <td>0</td>\n",
       "      <td>HINTON</td>\n",
       "      <td>AB</td>\n",
       "      <td>279700</td>\n",
       "      <td>ENDORSEMENT_CODES</td>\n",
       "      <td>W</td>\n",
       "      <td>F</td>\n",
       "      <td>1992-11</td>\n",
       "      <td>26.000000</td>\n",
       "      <td>0</td>\n",
       "      <td>0.000000</td>\n",
       "      <td>11.000000</td>\n",
       "      <td>3D7KS28D18G</td>\n",
       "      <td>HINTON</td>\n",
       "      <td>AB</td>\n",
       "      <td>-117.533033</td>\n",
       "      <td>53.425779</td>\n",
       "    </tr>\n",
       "    <tr>\n",
       "      <th>3372665</th>\n",
       "      <td>47.000000</td>\n",
       "      <td>T7V1A9</td>\n",
       "      <td>PEMB</td>\n",
       "      <td>13D</td>\n",
       "      <td>0.000000</td>\n",
       "      <td>10000.000000</td>\n",
       "      <td>2</td>\n",
       "      <td>T7V</td>\n",
       "      <td>32</td>\n",
       "      <td>-204.000000</td>\n",
       "      <td>0.000000</td>\n",
       "      <td>0</td>\n",
       "      <td>HINTON</td>\n",
       "      <td>AB</td>\n",
       "      <td>723800</td>\n",
       "      <td>ENDORSEMENT_CODES</td>\n",
       "      <td>P</td>\n",
       "      <td>F</td>\n",
       "      <td>1992-11</td>\n",
       "      <td>26.000000</td>\n",
       "      <td>0</td>\n",
       "      <td>0.000000</td>\n",
       "      <td>1.000000</td>\n",
       "      <td>3C4NJDDB3JT</td>\n",
       "      <td>HINTON</td>\n",
       "      <td>AB</td>\n",
       "      <td>-117.533033</td>\n",
       "      <td>53.425779</td>\n",
       "    </tr>\n",
       "    <tr>\n",
       "      <th>3832873</th>\n",
       "      <td>44.000000</td>\n",
       "      <td>N5V2X7</td>\n",
       "      <td>PEMB</td>\n",
       "      <td>ZNOC</td>\n",
       "      <td>0.000000</td>\n",
       "      <td>12000.000000</td>\n",
       "      <td>1</td>\n",
       "      <td>N5V</td>\n",
       "      <td>36</td>\n",
       "      <td>-204.000000</td>\n",
       "      <td>0.000000</td>\n",
       "      <td>0</td>\n",
       "      <td>LONDON</td>\n",
       "      <td>ON</td>\n",
       "      <td>795800</td>\n",
       "      <td>ZCODE</td>\n",
       "      <td>W</td>\n",
       "      <td>F</td>\n",
       "      <td>1992-08</td>\n",
       "      <td>27.000000</td>\n",
       "      <td>1</td>\n",
       "      <td>0.000000</td>\n",
       "      <td>1.000000</td>\n",
       "      <td>ML32A3HJXJH</td>\n",
       "      <td>LONDON</td>\n",
       "      <td>ON</td>\n",
       "      <td>-81.192819</td>\n",
       "      <td>43.029645</td>\n",
       "    </tr>\n",
       "  </tbody>\n",
       "</table>\n",
       "<p>84 rows × 28 columns</p>\n",
       "</div>"
      ],
      "text/plain": [
       "           AGE_D1 POSTAL_CODE COMPANY_CODE COVERAGE_CODE_AUTOMOBILE  \\\n",
       "83617   45.000000      T3R0X3         PEMB                     ZNOC   \n",
       "83628   45.000000      T3R0X3         PEMB                     ZNOC   \n",
       "84520   58.000000      T1P1J6         PEMB                      13D   \n",
       "84524   58.000000      T1P1J6         PEMB                     ZNOC   \n",
       "183383  24.000000      T5E5E6         PEMB                      13D   \n",
       "...           ...         ...          ...                      ...   \n",
       "3371920 58.000000      T0E1E0         PEMB                      13D   \n",
       "3372321 36.000000      T0E1E0         PEMB                      13D   \n",
       "3372651 47.000000      T7V1A9         PEMB                      13D   \n",
       "3372665 47.000000      T7V1A9         PEMB                      13D   \n",
       "3832873 44.000000      N5V2X7         PEMB                     ZNOC   \n",
       "\n",
       "         DEDUCTIBLE_AMOUNT  DISTANCE_DRIVEN_ANNUALLY  DRIVERS_NUM  FSA  \\\n",
       "83617             0.000000              12000.000000            2  T3R   \n",
       "83628             0.000000              12000.000000            2  T3R   \n",
       "84520             0.000000              20000.000000            1  T1P   \n",
       "84524             0.000000              20000.000000            1  T1P   \n",
       "183383            0.000000              25000.000000            1  T5E   \n",
       "...                    ...                       ...          ...  ...   \n",
       "3371920           0.000000              10000.000000            1  T0E   \n",
       "3372321           0.000000              15000.000000            2  T0E   \n",
       "3372651           0.000000              10000.000000            2  T7V   \n",
       "3372665           0.000000              10000.000000            2  T7V   \n",
       "3832873           0.000000              12000.000000            1  N5V   \n",
       "\n",
       "        VEHICLE_RATE_GROUP  FULL_TERM_PREMIUM_COVERAGE  LIMIT_1  \\\n",
       "83617                   30                 -295.000000 0.000000   \n",
       "83628                   35                 -374.000000 0.000000   \n",
       "84520                   35                 -439.000000 0.000000   \n",
       "84524                   35                 -485.000000 0.000000   \n",
       "183383                  36                 -315.000000 0.000000   \n",
       "...                    ...                         ...      ...   \n",
       "3371920                 43                 -309.000000 0.000000   \n",
       "3372321                 36                 -203.000000 0.000000   \n",
       "3372651                 30                 -254.000000 0.000000   \n",
       "3372665                 32                 -204.000000 0.000000   \n",
       "3832873                 36                 -204.000000 0.000000   \n",
       "\n",
       "        MULTICAR_DISCOUNT_INDICATOR NEW_CITY_NAME PROVINCE_STATE_ABBREVIATION  \\\n",
       "83617                             1     CALGARY                            AB   \n",
       "83628                             1     CALGARY                            AB   \n",
       "84520                             0  STRATHMORE                            AB   \n",
       "84524                             0  STRATHMORE                            AB   \n",
       "183383                            0    EDMONTON                            AB   \n",
       "...                             ...           ...                         ...   \n",
       "3371920                           0    EDMONTON                            AB   \n",
       "3372321                           0    EDMONTON                            AB   \n",
       "3372651                           0      HINTON                            AB   \n",
       "3372665                           0      HINTON                            AB   \n",
       "3832873                           0      LONDON                            ON   \n",
       "\n",
       "        VEHICLE_CODE1 COVERAGE_CODE_AUTOMOBILE_CLASS VEHICLE_USE_CODE  \\\n",
       "83617          684200                          ZCODE                W   \n",
       "83628          376300                          ZCODE                B   \n",
       "84520          679900              ENDORSEMENT_CODES                B   \n",
       "84524          679900                          ZCODE                B   \n",
       "183383         364500              ENDORSEMENT_CODES                W   \n",
       "...               ...                            ...              ...   \n",
       "3371920        779900              ENDORSEMENT_CODES                P   \n",
       "3372321        266200              ENDORSEMENT_CODES                W   \n",
       "3372651        279700              ENDORSEMENT_CODES                W   \n",
       "3372665        723800              ENDORSEMENT_CODES                P   \n",
       "3832873        795800                          ZCODE                W   \n",
       "\n",
       "        DRIVER_SEX_CODE_D1 YEAR_LICENSED  DRIVING_AGE  AUTO_CLAIMS  \\\n",
       "83617                    M       1990-07    29.000000            0   \n",
       "83628                    M       1990-07    29.000000            0   \n",
       "84520                    M       1979-05    40.000000            1   \n",
       "84524                    M       1979-05    40.000000            1   \n",
       "183383                   M       2011-11     7.000000            0   \n",
       "...                    ...           ...          ...          ...   \n",
       "3371920                  F       1977-10    42.000000            0   \n",
       "3372321                  F       1999-03    20.000000            1   \n",
       "3372651                  F       1992-11    26.000000            0   \n",
       "3372665                  F       1992-11    26.000000            0   \n",
       "3832873                  F       1992-08    27.000000            1   \n",
       "\n",
       "         CONVICTION_NUM  VEHICLE_AGE VIN_SERIAL_NUMBER               CITY  \\\n",
       "83617          0.000000    10.000000       1GKEV23DX9J  ROCKY_VIEW_COUNTY   \n",
       "83628          0.000000     8.000000       1FT8W3BT5BE  ROCKY_VIEW_COUNTY   \n",
       "84520          0.000000     2.000000       3GTU2PEJ0HG         STRATHMORE   \n",
       "84524          0.000000     2.000000       3GTU2PEJ0HG         STRATHMORE   \n",
       "183383         0.000000     4.000000       1FTEX1EP8FF           EDMONTON   \n",
       "...                 ...          ...               ...                ...   \n",
       "3371920        0.000000     2.000000       JA4AJ4AW7HZ  YELLOWHEAD_COUNTY   \n",
       "3372321        0.000000     3.000000       2C4RDGDG0GR  YELLOWHEAD_COUNTY   \n",
       "3372651        0.000000    11.000000       3D7KS28D18G             HINTON   \n",
       "3372665        0.000000     1.000000       3C4NJDDB3JT             HINTON   \n",
       "3832873        0.000000     1.000000       ML32A3HJXJH             LONDON   \n",
       "\n",
       "        PROVINCE   LONGITUDE  LATITUDE  \n",
       "83617         AB -114.187962 51.147105  \n",
       "83628         AB -114.187962 51.147105  \n",
       "84520         AB -113.400291 51.041247  \n",
       "84524         AB -113.400291 51.041247  \n",
       "183383        AB -113.518313 53.596932  \n",
       "...          ...         ...       ...  \n",
       "3371920       AB -118.084809 52.880370  \n",
       "3372321       AB -118.084809 52.880370  \n",
       "3372651       AB -117.533033 53.425779  \n",
       "3372665       AB -117.533033 53.425779  \n",
       "3832873       ON  -81.192819 43.029645  \n",
       "\n",
       "[84 rows x 28 columns]"
      ]
     },
     "execution_count": 105,
     "metadata": {},
     "output_type": "execute_result"
    },
    {
     "name": "stdout",
     "output_type": "stream",
     "text": [
      "time: 114 ms\n"
     ]
    }
   ],
   "source": [
    "b1[b1['FULL_TERM_PREMIUM_COVERAGE']<-200]"
   ]
  },
  {
   "cell_type": "code",
   "execution_count": 37,
   "metadata": {},
   "outputs": [
    {
     "ename": "KeyboardInterrupt",
     "evalue": "",
     "output_type": "error",
     "traceback": [
      "\u001b[1;31m---------------------------------------------------------------------------\u001b[0m",
      "\u001b[1;31mKeyboardInterrupt\u001b[0m                         Traceback (most recent call last)",
      "\u001b[1;32m<ipython-input-37-8386c6af538a>\u001b[0m in \u001b[0;36m<module>\u001b[1;34m\u001b[0m\n\u001b[1;32m----> 1\u001b[1;33m \u001b[0mval_result\u001b[0m\u001b[1;33m=\u001b[0m\u001b[0mgrid\u001b[0m\u001b[1;33m.\u001b[0m\u001b[0mpredict\u001b[0m\u001b[1;33m(\u001b[0m\u001b[0mx_val\u001b[0m\u001b[1;33m)\u001b[0m\u001b[1;33m\u001b[0m\u001b[1;33m\u001b[0m\u001b[0m\n\u001b[0m",
      "\u001b[1;32mC:\\Anaconda\\lib\\site-packages\\sklearn\\utils\\metaestimators.py\u001b[0m in \u001b[0;36m<lambda>\u001b[1;34m(*args, **kwargs)\u001b[0m\n\u001b[0;32m    114\u001b[0m \u001b[1;33m\u001b[0m\u001b[0m\n\u001b[0;32m    115\u001b[0m         \u001b[1;31m# lambda, but not partial, allows help() to work with update_wrapper\u001b[0m\u001b[1;33m\u001b[0m\u001b[1;33m\u001b[0m\u001b[1;33m\u001b[0m\u001b[0m\n\u001b[1;32m--> 116\u001b[1;33m         \u001b[0mout\u001b[0m \u001b[1;33m=\u001b[0m \u001b[1;32mlambda\u001b[0m \u001b[1;33m*\u001b[0m\u001b[0margs\u001b[0m\u001b[1;33m,\u001b[0m \u001b[1;33m**\u001b[0m\u001b[0mkwargs\u001b[0m\u001b[1;33m:\u001b[0m \u001b[0mself\u001b[0m\u001b[1;33m.\u001b[0m\u001b[0mfn\u001b[0m\u001b[1;33m(\u001b[0m\u001b[0mobj\u001b[0m\u001b[1;33m,\u001b[0m \u001b[1;33m*\u001b[0m\u001b[0margs\u001b[0m\u001b[1;33m,\u001b[0m \u001b[1;33m**\u001b[0m\u001b[0mkwargs\u001b[0m\u001b[1;33m)\u001b[0m\u001b[1;33m\u001b[0m\u001b[1;33m\u001b[0m\u001b[0m\n\u001b[0m\u001b[0;32m    117\u001b[0m         \u001b[1;31m# update the docstring of the returned function\u001b[0m\u001b[1;33m\u001b[0m\u001b[1;33m\u001b[0m\u001b[1;33m\u001b[0m\u001b[0m\n\u001b[0;32m    118\u001b[0m         \u001b[0mupdate_wrapper\u001b[0m\u001b[1;33m(\u001b[0m\u001b[0mout\u001b[0m\u001b[1;33m,\u001b[0m \u001b[0mself\u001b[0m\u001b[1;33m.\u001b[0m\u001b[0mfn\u001b[0m\u001b[1;33m)\u001b[0m\u001b[1;33m\u001b[0m\u001b[1;33m\u001b[0m\u001b[0m\n",
      "\u001b[1;32mC:\\Anaconda\\lib\\site-packages\\sklearn\\model_selection\\_search.py\u001b[0m in \u001b[0;36mpredict\u001b[1;34m(self, X)\u001b[0m\n\u001b[0;32m    455\u001b[0m         \"\"\"\n\u001b[0;32m    456\u001b[0m         \u001b[0mself\u001b[0m\u001b[1;33m.\u001b[0m\u001b[0m_check_is_fitted\u001b[0m\u001b[1;33m(\u001b[0m\u001b[1;34m'predict'\u001b[0m\u001b[1;33m)\u001b[0m\u001b[1;33m\u001b[0m\u001b[1;33m\u001b[0m\u001b[0m\n\u001b[1;32m--> 457\u001b[1;33m         \u001b[1;32mreturn\u001b[0m \u001b[0mself\u001b[0m\u001b[1;33m.\u001b[0m\u001b[0mbest_estimator_\u001b[0m\u001b[1;33m.\u001b[0m\u001b[0mpredict\u001b[0m\u001b[1;33m(\u001b[0m\u001b[0mX\u001b[0m\u001b[1;33m)\u001b[0m\u001b[1;33m\u001b[0m\u001b[1;33m\u001b[0m\u001b[0m\n\u001b[0m\u001b[0;32m    458\u001b[0m \u001b[1;33m\u001b[0m\u001b[0m\n\u001b[0;32m    459\u001b[0m     \u001b[1;33m@\u001b[0m\u001b[0mif_delegate_has_method\u001b[0m\u001b[1;33m(\u001b[0m\u001b[0mdelegate\u001b[0m\u001b[1;33m=\u001b[0m\u001b[1;33m(\u001b[0m\u001b[1;34m'best_estimator_'\u001b[0m\u001b[1;33m,\u001b[0m \u001b[1;34m'estimator'\u001b[0m\u001b[1;33m)\u001b[0m\u001b[1;33m)\u001b[0m\u001b[1;33m\u001b[0m\u001b[1;33m\u001b[0m\u001b[0m\n",
      "\u001b[1;32mC:\\Anaconda\\lib\\site-packages\\lightgbm\\sklearn.py\u001b[0m in \u001b[0;36mpredict\u001b[1;34m(self, X, raw_score, num_iteration, pred_leaf, pred_contrib, **kwargs)\u001b[0m\n\u001b[0;32m    603\u001b[0m                              % (self._n_features, n_features))\n\u001b[0;32m    604\u001b[0m         return self.booster_.predict(X, raw_score=raw_score, num_iteration=num_iteration,\n\u001b[1;32m--> 605\u001b[1;33m                                      pred_leaf=pred_leaf, pred_contrib=pred_contrib, **kwargs)\n\u001b[0m\u001b[0;32m    606\u001b[0m \u001b[1;33m\u001b[0m\u001b[0m\n\u001b[0;32m    607\u001b[0m     \u001b[1;33m@\u001b[0m\u001b[0mproperty\u001b[0m\u001b[1;33m\u001b[0m\u001b[1;33m\u001b[0m\u001b[0m\n",
      "\u001b[1;32mC:\\Anaconda\\lib\\site-packages\\lightgbm\\basic.py\u001b[0m in \u001b[0;36mpredict\u001b[1;34m(self, data, num_iteration, raw_score, pred_leaf, pred_contrib, data_has_header, is_reshape, **kwargs)\u001b[0m\n\u001b[0;32m   2159\u001b[0m         return predictor.predict(data, num_iteration,\n\u001b[0;32m   2160\u001b[0m                                  \u001b[0mraw_score\u001b[0m\u001b[1;33m,\u001b[0m \u001b[0mpred_leaf\u001b[0m\u001b[1;33m,\u001b[0m \u001b[0mpred_contrib\u001b[0m\u001b[1;33m,\u001b[0m\u001b[1;33m\u001b[0m\u001b[1;33m\u001b[0m\u001b[0m\n\u001b[1;32m-> 2161\u001b[1;33m                                  data_has_header, is_reshape)\n\u001b[0m\u001b[0;32m   2162\u001b[0m \u001b[1;33m\u001b[0m\u001b[0m\n\u001b[0;32m   2163\u001b[0m     \u001b[1;32mdef\u001b[0m \u001b[0mrefit\u001b[0m\u001b[1;33m(\u001b[0m\u001b[0mself\u001b[0m\u001b[1;33m,\u001b[0m \u001b[0mdata\u001b[0m\u001b[1;33m,\u001b[0m \u001b[0mlabel\u001b[0m\u001b[1;33m,\u001b[0m \u001b[0mdecay_rate\u001b[0m\u001b[1;33m=\u001b[0m\u001b[1;36m0.9\u001b[0m\u001b[1;33m,\u001b[0m \u001b[1;33m**\u001b[0m\u001b[0mkwargs\u001b[0m\u001b[1;33m)\u001b[0m\u001b[1;33m:\u001b[0m\u001b[1;33m\u001b[0m\u001b[1;33m\u001b[0m\u001b[0m\n",
      "\u001b[1;32mC:\\Anaconda\\lib\\site-packages\\lightgbm\\basic.py\u001b[0m in \u001b[0;36mpredict\u001b[1;34m(self, data, num_iteration, raw_score, pred_leaf, pred_contrib, data_has_header, is_reshape)\u001b[0m\n\u001b[0;32m    458\u001b[0m             \u001b[0mpreds\u001b[0m\u001b[1;33m,\u001b[0m \u001b[0mnrow\u001b[0m \u001b[1;33m=\u001b[0m \u001b[0mself\u001b[0m\u001b[1;33m.\u001b[0m\u001b[0m__pred_for_csc\u001b[0m\u001b[1;33m(\u001b[0m\u001b[0mdata\u001b[0m\u001b[1;33m,\u001b[0m \u001b[0mnum_iteration\u001b[0m\u001b[1;33m,\u001b[0m \u001b[0mpredict_type\u001b[0m\u001b[1;33m)\u001b[0m\u001b[1;33m\u001b[0m\u001b[1;33m\u001b[0m\u001b[0m\n\u001b[0;32m    459\u001b[0m         \u001b[1;32melif\u001b[0m \u001b[0misinstance\u001b[0m\u001b[1;33m(\u001b[0m\u001b[0mdata\u001b[0m\u001b[1;33m,\u001b[0m \u001b[0mnp\u001b[0m\u001b[1;33m.\u001b[0m\u001b[0mndarray\u001b[0m\u001b[1;33m)\u001b[0m\u001b[1;33m:\u001b[0m\u001b[1;33m\u001b[0m\u001b[1;33m\u001b[0m\u001b[0m\n\u001b[1;32m--> 460\u001b[1;33m             \u001b[0mpreds\u001b[0m\u001b[1;33m,\u001b[0m \u001b[0mnrow\u001b[0m \u001b[1;33m=\u001b[0m \u001b[0mself\u001b[0m\u001b[1;33m.\u001b[0m\u001b[0m__pred_for_np2d\u001b[0m\u001b[1;33m(\u001b[0m\u001b[0mdata\u001b[0m\u001b[1;33m,\u001b[0m \u001b[0mnum_iteration\u001b[0m\u001b[1;33m,\u001b[0m \u001b[0mpredict_type\u001b[0m\u001b[1;33m)\u001b[0m\u001b[1;33m\u001b[0m\u001b[1;33m\u001b[0m\u001b[0m\n\u001b[0m\u001b[0;32m    461\u001b[0m         \u001b[1;32melif\u001b[0m \u001b[0misinstance\u001b[0m\u001b[1;33m(\u001b[0m\u001b[0mdata\u001b[0m\u001b[1;33m,\u001b[0m \u001b[0mlist\u001b[0m\u001b[1;33m)\u001b[0m\u001b[1;33m:\u001b[0m\u001b[1;33m\u001b[0m\u001b[1;33m\u001b[0m\u001b[0m\n\u001b[0;32m    462\u001b[0m             \u001b[1;32mtry\u001b[0m\u001b[1;33m:\u001b[0m\u001b[1;33m\u001b[0m\u001b[1;33m\u001b[0m\u001b[0m\n",
      "\u001b[1;32mC:\\Anaconda\\lib\\site-packages\\lightgbm\\basic.py\u001b[0m in \u001b[0;36m__pred_for_np2d\u001b[1;34m(self, mat, num_iteration, predict_type)\u001b[0m\n\u001b[0;32m    545\u001b[0m             \u001b[1;32mreturn\u001b[0m \u001b[0mpreds\u001b[0m\u001b[1;33m,\u001b[0m \u001b[0mnrow\u001b[0m\u001b[1;33m\u001b[0m\u001b[1;33m\u001b[0m\u001b[0m\n\u001b[0;32m    546\u001b[0m         \u001b[1;32melse\u001b[0m\u001b[1;33m:\u001b[0m\u001b[1;33m\u001b[0m\u001b[1;33m\u001b[0m\u001b[0m\n\u001b[1;32m--> 547\u001b[1;33m             \u001b[1;32mreturn\u001b[0m \u001b[0minner_predict\u001b[0m\u001b[1;33m(\u001b[0m\u001b[0mmat\u001b[0m\u001b[1;33m,\u001b[0m \u001b[0mnum_iteration\u001b[0m\u001b[1;33m,\u001b[0m \u001b[0mpredict_type\u001b[0m\u001b[1;33m)\u001b[0m\u001b[1;33m\u001b[0m\u001b[1;33m\u001b[0m\u001b[0m\n\u001b[0m\u001b[0;32m    548\u001b[0m \u001b[1;33m\u001b[0m\u001b[0m\n\u001b[0;32m    549\u001b[0m     \u001b[1;32mdef\u001b[0m \u001b[0m__pred_for_csr\u001b[0m\u001b[1;33m(\u001b[0m\u001b[0mself\u001b[0m\u001b[1;33m,\u001b[0m \u001b[0mcsr\u001b[0m\u001b[1;33m,\u001b[0m \u001b[0mnum_iteration\u001b[0m\u001b[1;33m,\u001b[0m \u001b[0mpredict_type\u001b[0m\u001b[1;33m)\u001b[0m\u001b[1;33m:\u001b[0m\u001b[1;33m\u001b[0m\u001b[1;33m\u001b[0m\u001b[0m\n",
      "\u001b[1;32mC:\\Anaconda\\lib\\site-packages\\lightgbm\\basic.py\u001b[0m in \u001b[0;36minner_predict\u001b[1;34m(mat, num_iteration, predict_type, preds)\u001b[0m\n\u001b[0;32m    527\u001b[0m                 \u001b[0mc_str\u001b[0m\u001b[1;33m(\u001b[0m\u001b[0mself\u001b[0m\u001b[1;33m.\u001b[0m\u001b[0mpred_parameter\u001b[0m\u001b[1;33m)\u001b[0m\u001b[1;33m,\u001b[0m\u001b[1;33m\u001b[0m\u001b[1;33m\u001b[0m\u001b[0m\n\u001b[0;32m    528\u001b[0m                 \u001b[0mctypes\u001b[0m\u001b[1;33m.\u001b[0m\u001b[0mbyref\u001b[0m\u001b[1;33m(\u001b[0m\u001b[0mout_num_preds\u001b[0m\u001b[1;33m)\u001b[0m\u001b[1;33m,\u001b[0m\u001b[1;33m\u001b[0m\u001b[1;33m\u001b[0m\u001b[0m\n\u001b[1;32m--> 529\u001b[1;33m                 preds.ctypes.data_as(ctypes.POINTER(ctypes.c_double))))\n\u001b[0m\u001b[0;32m    530\u001b[0m             \u001b[1;32mif\u001b[0m \u001b[0mn_preds\u001b[0m \u001b[1;33m!=\u001b[0m \u001b[0mout_num_preds\u001b[0m\u001b[1;33m.\u001b[0m\u001b[0mvalue\u001b[0m\u001b[1;33m:\u001b[0m\u001b[1;33m\u001b[0m\u001b[1;33m\u001b[0m\u001b[0m\n\u001b[0;32m    531\u001b[0m                 \u001b[1;32mraise\u001b[0m \u001b[0mValueError\u001b[0m\u001b[1;33m(\u001b[0m\u001b[1;34m\"Wrong length for predict results\"\u001b[0m\u001b[1;33m)\u001b[0m\u001b[1;33m\u001b[0m\u001b[1;33m\u001b[0m\u001b[0m\n",
      "\u001b[1;31mKeyboardInterrupt\u001b[0m: "
     ]
    },
    {
     "name": "stdout",
     "output_type": "stream",
     "text": [
      "time: 1min 16s\n"
     ]
    }
   ],
   "source": [
    "val_result=grid.predict(x_val)"
   ]
  },
  {
   "cell_type": "code",
   "execution_count": null,
   "metadata": {},
   "outputs": [],
   "source": [
    "y_discount_code = discount_code['FULL_TERM_PREMIUM_COVERAGE']"
   ]
  },
  {
   "cell_type": "code",
   "execution_count": null,
   "metadata": {},
   "outputs": [],
   "source": [
    "val_1 = np.concatenate([val_result, y_discount_code])"
   ]
  },
  {
   "cell_type": "code",
   "execution_count": null,
   "metadata": {},
   "outputs": [],
   "source": [
    " y_val['FULL_TERM_PREMIUM_COVERAGE']"
   ]
  },
  {
   "cell_type": "code",
   "execution_count": null,
   "metadata": {},
   "outputs": [],
   "source": [
    "y_val_1 = np.concatenate([y_val['FULL_TERM_PREMIUM_COVERAGE'], y_discount_code])"
   ]
  },
  {
   "cell_type": "code",
   "execution_count": null,
   "metadata": {},
   "outputs": [],
   "source": [
    "print('Val data MAE score is {}'.format(mean_absolute_error(y_val_1, val_1)))"
   ]
  },
  {
   "cell_type": "code",
   "execution_count": null,
   "metadata": {},
   "outputs": [],
   "source": [
    "print('Val data R2 score is {:.2%}'.format(r2_score(y_val_1, val_1)))"
   ]
  },
  {
   "cell_type": "code",
   "execution_count": null,
   "metadata": {},
   "outputs": [],
   "source": []
  },
  {
   "cell_type": "code",
   "execution_count": null,
   "metadata": {},
   "outputs": [],
   "source": [
    "# zcode.FULL_TERM_PREMIUM_COVERAGE.describe()"
   ]
  },
  {
   "cell_type": "code",
   "execution_count": null,
   "metadata": {},
   "outputs": [],
   "source": []
  },
  {
   "cell_type": "code",
   "execution_count": null,
   "metadata": {},
   "outputs": [],
   "source": []
  },
  {
   "cell_type": "code",
   "execution_count": null,
   "metadata": {},
   "outputs": [],
   "source": [
    "params = {\n",
    "    'max_depth' : -1\n",
    "    'boosting_type': 'dart',\n",
    "    'objective': 'regression',\n",
    "    'metric': {'l2', 'l1'},\n",
    "    'num_leaves': 10000,\n",
    "    'learning_rate': 0.3,\n",
    "    'feature_fraction': 0.9,\n",
    "    'bagging_fraction': 0.8,\n",
    "    'bagging_freq': 5,\n",
    "    'verbose': 0\n",
    "}"
   ]
  },
  {
   "cell_type": "code",
   "execution_count": null,
   "metadata": {},
   "outputs": [],
   "source": [
    "def Light_GBM(x_train,y_train,x_test,y_test,cat_vars,params,early_stopping_rounds,num_boost_round,verbose_eval):\n",
    "    print()\n",
    "    print(format('start train light gbm model with basic setup','*^82'))\n",
    "    # create dataset for lightgbm\n",
    "    lgb_train = lgb.Dataset(x_train, y_train)\n",
    "    lgb_eval = lgb.Dataset(x_test, y_test, reference=lgb_train)\n",
    "\n",
    "    \n",
    "    evals_result = {}  # to record eval results for plotting\n",
    "    \n",
    "    gbm = lgb.train(params,\n",
    "                lgb_train,\n",
    "                num_boost_round=num_boost_round,\n",
    "                valid_sets=lgb_eval,\n",
    "                early_stopping_rounds=early_stopping_rounds,\n",
    "                categorical_feature=cat_vars,\n",
    "                evals_result=evals_result,\n",
    "                verbose_eval=verbose_eval)\n",
    "    \n",
    "    print(format('basic model training is done','*^82')) \n",
    "    return gbm"
   ]
  },
  {
   "cell_type": "code",
   "execution_count": null,
   "metadata": {},
   "outputs": [],
   "source": [
    "gbm = Light_GBM(x_train,y_train,x_test,y_test,cat_vars,params,100,1000,50)"
   ]
  },
  {
   "cell_type": "code",
   "execution_count": null,
   "metadata": {},
   "outputs": [],
   "source": []
  },
  {
   "cell_type": "code",
   "execution_count": null,
   "metadata": {},
   "outputs": [],
   "source": []
  },
  {
   "cell_type": "code",
   "execution_count": null,
   "metadata": {},
   "outputs": [],
   "source": []
  },
  {
   "cell_type": "code",
   "execution_count": null,
   "metadata": {},
   "outputs": [],
   "source": []
  },
  {
   "cell_type": "code",
   "execution_count": null,
   "metadata": {},
   "outputs": [],
   "source": []
  },
  {
   "cell_type": "code",
   "execution_count": null,
   "metadata": {},
   "outputs": [],
   "source": []
  },
  {
   "cell_type": "code",
   "execution_count": null,
   "metadata": {},
   "outputs": [],
   "source": []
  },
  {
   "cell_type": "code",
   "execution_count": null,
   "metadata": {},
   "outputs": [],
   "source": []
  },
  {
   "cell_type": "code",
   "execution_count": 80,
   "metadata": {},
   "outputs": [
    {
     "name": "stdout",
     "output_type": "stream",
     "text": [
      "Val data MAE score is 42.48031076605078\n",
      "Train data MAE score is 10.161328004723572\n",
      "Val data R2 score is 0.8438360934825458\n",
      "Train data R2 score is 99.07%\n",
      "time: 2min 24s\n"
     ]
    }
   ],
   "source": [
    "\n",
    "print('Val data MAE score is {}'.format(mean_absolute_error(y_val, grid.predict(x_val))))\n",
    "print('Train data MAE score is {}'.format(mean_absolute_error(y_train, grid.predict(x_train))))\n",
    "\n",
    "print('Val data R2 score is {}'.format(r2_score(y_val, grid.predict(x_val))))\n",
    "print('Train data R2 score is {:.2%}'.format(r2_score(y_train, grid.predict(x_train))))"
   ]
  },
  {
   "cell_type": "code",
   "execution_count": 84,
   "metadata": {},
   "outputs": [
    {
     "name": "stdout",
     "output_type": "stream",
     "text": [
      "time: 6.97 s\n"
     ]
    }
   ],
   "source": [
    "prediction = pd.DataFrame(grid.predict(x_val),columns = ['preds'])"
   ]
  },
  {
   "cell_type": "code",
   "execution_count": 90,
   "metadata": {},
   "outputs": [
    {
     "name": "stdout",
     "output_type": "stream",
     "text": [
      "time: 22 ms\n"
     ]
    }
   ],
   "source": [
    "result = pd.concat([x_val.reset_index(),y_val.reset_index(),prediction],axis = 1)"
   ]
  },
  {
   "cell_type": "code",
   "execution_count": 91,
   "metadata": {},
   "outputs": [
    {
     "data": {
      "text/plain": [
       "Index(['index', 'LONGITUDE', 'LATITUDE', 'AGE_D1', 'COMPANY_CODE',\n",
       "       'COVERAGE_CODE_AUTOMOBILE', 'DISTANCE_DRIVEN_ANNUALLY', 'VEHICLE_CODE1',\n",
       "       'DRIVING_AGE', 'VEHICLE_AGE', 'DRIVERS_NUM', 'AUTO_CLAIMS', 'PROVINCE',\n",
       "       'CITY', 'POSTAL_CODE', 'index', 'FULL_TERM_PREMIUM_COVERAGE', 'preds'],\n",
       "      dtype='object')"
      ]
     },
     "execution_count": 91,
     "metadata": {},
     "output_type": "execute_result"
    },
    {
     "name": "stdout",
     "output_type": "stream",
     "text": [
      "time: 2.98 ms\n"
     ]
    }
   ],
   "source": [
    "result.columns"
   ]
  },
  {
   "cell_type": "code",
   "execution_count": 96,
   "metadata": {},
   "outputs": [
    {
     "data": {
      "text/plain": [
       "ON    47393\n",
       "AB    18414\n",
       "NB     9949\n",
       "NS     5616\n",
       "PE     1338\n",
       "NL      692\n",
       "NT       80\n",
       "YT       29\n",
       "BC       21\n",
       "SK       16\n",
       "NU       16\n",
       "QC        5\n",
       "MB        2\n",
       "Name: PROVINCE, dtype: int64"
      ]
     },
     "execution_count": 96,
     "metadata": {},
     "output_type": "execute_result"
    },
    {
     "name": "stdout",
     "output_type": "stream",
     "text": [
      "time: 7.96 ms\n"
     ]
    }
   ],
   "source": [
    "result.PROVINCE.value_counts()"
   ]
  },
  {
   "cell_type": "code",
   "execution_count": 103,
   "metadata": {},
   "outputs": [
    {
     "name": "stdout",
     "output_type": "stream",
     "text": [
      "time: 8.97 ms\n"
     ]
    }
   ],
   "source": [
    "result1 = result[result['PROVINCE']=='AB']"
   ]
  },
  {
   "cell_type": "code",
   "execution_count": 106,
   "metadata": {},
   "outputs": [
    {
     "data": {
      "text/html": [
       "<div>\n",
       "<style scoped>\n",
       "    .dataframe tbody tr th:only-of-type {\n",
       "        vertical-align: middle;\n",
       "    }\n",
       "\n",
       "    .dataframe tbody tr th {\n",
       "        vertical-align: top;\n",
       "    }\n",
       "\n",
       "    .dataframe thead th {\n",
       "        text-align: right;\n",
       "    }\n",
       "</style>\n",
       "<table border=\"1\" class=\"dataframe\">\n",
       "  <thead>\n",
       "    <tr style=\"text-align: right;\">\n",
       "      <th></th>\n",
       "      <th>index</th>\n",
       "      <th>LONGITUDE</th>\n",
       "      <th>LATITUDE</th>\n",
       "      <th>AGE_D1</th>\n",
       "      <th>DISTANCE_DRIVEN_ANNUALLY</th>\n",
       "      <th>DRIVING_AGE</th>\n",
       "      <th>VEHICLE_AGE</th>\n",
       "      <th>DRIVERS_NUM</th>\n",
       "      <th>AUTO_CLAIMS</th>\n",
       "      <th>index</th>\n",
       "      <th>FULL_TERM_PREMIUM_COVERAGE</th>\n",
       "      <th>preds</th>\n",
       "    </tr>\n",
       "  </thead>\n",
       "  <tbody>\n",
       "    <tr>\n",
       "      <th>count</th>\n",
       "      <td>83571.000000</td>\n",
       "      <td>83571.000000</td>\n",
       "      <td>83571.000000</td>\n",
       "      <td>83571.000000</td>\n",
       "      <td>83571.000000</td>\n",
       "      <td>83571.000000</td>\n",
       "      <td>83571.000000</td>\n",
       "      <td>83571.000000</td>\n",
       "      <td>83571.000000</td>\n",
       "      <td>83571.000000</td>\n",
       "      <td>83571.000000</td>\n",
       "      <td>83571.000000</td>\n",
       "    </tr>\n",
       "    <tr>\n",
       "      <th>mean</th>\n",
       "      <td>683245.698998</td>\n",
       "      <td>-83.882940</td>\n",
       "      <td>46.359316</td>\n",
       "      <td>52.763076</td>\n",
       "      <td>13061.012337</td>\n",
       "      <td>32.288186</td>\n",
       "      <td>8.643249</td>\n",
       "      <td>1.799237</td>\n",
       "      <td>0.605389</td>\n",
       "      <td>683245.698998</td>\n",
       "      <td>218.222576</td>\n",
       "      <td>217.852751</td>\n",
       "    </tr>\n",
       "    <tr>\n",
       "      <th>std</th>\n",
       "      <td>419046.310873</td>\n",
       "      <td>17.130871</td>\n",
       "      <td>3.624388</td>\n",
       "      <td>16.274173</td>\n",
       "      <td>8838.569512</td>\n",
       "      <td>15.835249</td>\n",
       "      <td>7.154089</td>\n",
       "      <td>1.022878</td>\n",
       "      <td>0.990167</td>\n",
       "      <td>419046.310873</td>\n",
       "      <td>197.239216</td>\n",
       "      <td>181.728635</td>\n",
       "    </tr>\n",
       "    <tr>\n",
       "      <th>min</th>\n",
       "      <td>0.000000</td>\n",
       "      <td>-139.431266</td>\n",
       "      <td>42.014598</td>\n",
       "      <td>16.000000</td>\n",
       "      <td>0.000000</td>\n",
       "      <td>0.000000</td>\n",
       "      <td>-1.000000</td>\n",
       "      <td>0.000000</td>\n",
       "      <td>0.000000</td>\n",
       "      <td>0.000000</td>\n",
       "      <td>0.000000</td>\n",
       "      <td>-41.117588</td>\n",
       "    </tr>\n",
       "    <tr>\n",
       "      <th>25%</th>\n",
       "      <td>310459.000000</td>\n",
       "      <td>-81.444140</td>\n",
       "      <td>43.796184</td>\n",
       "      <td>40.000000</td>\n",
       "      <td>10000.000000</td>\n",
       "      <td>20.000000</td>\n",
       "      <td>4.000000</td>\n",
       "      <td>1.000000</td>\n",
       "      <td>0.000000</td>\n",
       "      <td>310459.000000</td>\n",
       "      <td>73.000000</td>\n",
       "      <td>74.784773</td>\n",
       "    </tr>\n",
       "    <tr>\n",
       "      <th>50%</th>\n",
       "      <td>636805.000000</td>\n",
       "      <td>-79.527342</td>\n",
       "      <td>44.762766</td>\n",
       "      <td>54.000000</td>\n",
       "      <td>12000.000000</td>\n",
       "      <td>33.000000</td>\n",
       "      <td>7.000000</td>\n",
       "      <td>2.000000</td>\n",
       "      <td>0.000000</td>\n",
       "      <td>636805.000000</td>\n",
       "      <td>150.000000</td>\n",
       "      <td>157.351981</td>\n",
       "    </tr>\n",
       "    <tr>\n",
       "      <th>75%</th>\n",
       "      <td>1078238.000000</td>\n",
       "      <td>-75.782193</td>\n",
       "      <td>47.622741</td>\n",
       "      <td>65.000000</td>\n",
       "      <td>16000.000000</td>\n",
       "      <td>44.000000</td>\n",
       "      <td>12.000000</td>\n",
       "      <td>2.000000</td>\n",
       "      <td>1.000000</td>\n",
       "      <td>1078238.000000</td>\n",
       "      <td>301.000000</td>\n",
       "      <td>314.976230</td>\n",
       "    </tr>\n",
       "    <tr>\n",
       "      <th>max</th>\n",
       "      <td>1370710.000000</td>\n",
       "      <td>-52.673885</td>\n",
       "      <td>72.696246</td>\n",
       "      <td>119.000000</td>\n",
       "      <td>999999.000000</td>\n",
       "      <td>107.000000</td>\n",
       "      <td>107.000000</td>\n",
       "      <td>31.000000</td>\n",
       "      <td>13.000000</td>\n",
       "      <td>1370710.000000</td>\n",
       "      <td>1000.000000</td>\n",
       "      <td>1014.843891</td>\n",
       "    </tr>\n",
       "  </tbody>\n",
       "</table>\n",
       "</div>"
      ],
      "text/plain": [
       "               index    LONGITUDE     LATITUDE       AGE_D1  \\\n",
       "count   83571.000000 83571.000000 83571.000000 83571.000000   \n",
       "mean   683245.698998   -83.882940    46.359316    52.763076   \n",
       "std    419046.310873    17.130871     3.624388    16.274173   \n",
       "min         0.000000  -139.431266    42.014598    16.000000   \n",
       "25%    310459.000000   -81.444140    43.796184    40.000000   \n",
       "50%    636805.000000   -79.527342    44.762766    54.000000   \n",
       "75%   1078238.000000   -75.782193    47.622741    65.000000   \n",
       "max   1370710.000000   -52.673885    72.696246   119.000000   \n",
       "\n",
       "       DISTANCE_DRIVEN_ANNUALLY  DRIVING_AGE  VEHICLE_AGE  DRIVERS_NUM  \\\n",
       "count              83571.000000 83571.000000 83571.000000 83571.000000   \n",
       "mean               13061.012337    32.288186     8.643249     1.799237   \n",
       "std                 8838.569512    15.835249     7.154089     1.022878   \n",
       "min                    0.000000     0.000000    -1.000000     0.000000   \n",
       "25%                10000.000000    20.000000     4.000000     1.000000   \n",
       "50%                12000.000000    33.000000     7.000000     2.000000   \n",
       "75%                16000.000000    44.000000    12.000000     2.000000   \n",
       "max               999999.000000   107.000000   107.000000    31.000000   \n",
       "\n",
       "       AUTO_CLAIMS          index  FULL_TERM_PREMIUM_COVERAGE        preds  \n",
       "count 83571.000000   83571.000000                83571.000000 83571.000000  \n",
       "mean      0.605389  683245.698998                  218.222576   217.852751  \n",
       "std       0.990167  419046.310873                  197.239216   181.728635  \n",
       "min       0.000000       0.000000                    0.000000   -41.117588  \n",
       "25%       0.000000  310459.000000                   73.000000    74.784773  \n",
       "50%       0.000000  636805.000000                  150.000000   157.351981  \n",
       "75%       1.000000 1078238.000000                  301.000000   314.976230  \n",
       "max      13.000000 1370710.000000                 1000.000000  1014.843891  "
      ]
     },
     "execution_count": 106,
     "metadata": {},
     "output_type": "execute_result"
    },
    {
     "name": "stdout",
     "output_type": "stream",
     "text": [
      "time: 134 ms\n"
     ]
    }
   ],
   "source": [
    "result.describe()"
   ]
  },
  {
   "cell_type": "code",
   "execution_count": 105,
   "metadata": {},
   "outputs": [
    {
     "name": "stdout",
     "output_type": "stream",
     "text": [
      "Val data MAE score is 9.71439827487882\n",
      "Val data R2 score is 70.61%\n",
      "time: 6.99 ms\n"
     ]
    }
   ],
   "source": [
    "print('Val data MAE score is {}'.format(mean_absolute_error(result1['FULL_TERM_PREMIUM_COVERAGE'], result1['preds'])))\n",
    "print('Val data R2 score is {:.2%}'.format(r2_score(result1['FULL_TERM_PREMIUM_COVERAGE'], result1['preds'])))"
   ]
  },
  {
   "cell_type": "code",
   "execution_count": null,
   "metadata": {},
   "outputs": [],
   "source": []
  },
  {
   "cell_type": "code",
   "execution_count": 27,
   "metadata": {},
   "outputs": [
    {
     "data": {
      "text/plain": [
       "array([[<matplotlib.axes._subplots.AxesSubplot object at 0x0000029C859CA9B0>]],\n",
       "      dtype=object)"
      ]
     },
     "execution_count": 27,
     "metadata": {},
     "output_type": "execute_result"
    },
    {
     "data": {
      "image/png": "[encoded data removed]",
      "text/plain": [
       "<Figure size 432x288 with 1 Axes>"
      ]
     },
     "metadata": {},
     "output_type": "display_data"
    },
    {
     "name": "stdout",
     "output_type": "stream",
     "text": [
      "time: 2.09 s\n"
     ]
    }
   ],
   "source": [
    "b0_ON[(b0_ON['FULL_TERM_PREMIUM_COVERAGE']!=0)&(b0_ON['FULL_TERM_PREMIUM_COVERAGE']<2000)][['FULL_TERM_PREMIUM_COVERAGE']].hist(bins=25)"
   ]
  },
  {
   "cell_type": "code",
   "execution_count": 9,
   "metadata": {},
   "outputs": [
    {
     "name": "stdout",
     "output_type": "stream",
     "text": [
      "time: 1.04 s\n"
     ]
    }
   ],
   "source": [
    "b0_ON.head(100000).to_csv(r'C:\\Users\\john.lan\\Desktop\\ontario_policies.csv')"
   ]
  },
  {
   "cell_type": "code",
   "execution_count": 25,
   "metadata": {},
   "outputs": [
    {
     "name": "stdout",
     "output_type": "stream",
     "text": [
      "time: 1.31 s\n"
     ]
    }
   ],
   "source": [
    "#the dataframe has postal code, latitude, longtitude, province and city\n",
    "#####     set the premium range bigger\n",
    "with adl.open(('/LeadGen/Raw/Silver/AUTO/Geolocation/postal_code_api.pkl'), 'rb') as f:\n",
    "    api_df = pickle.load(f)"
   ]
  },
  {
   "cell_type": "code",
   "execution_count": 42,
   "metadata": {},
   "outputs": [
    {
     "data": {
      "text/plain": [
       "(182882, 5)"
      ]
     },
     "execution_count": 42,
     "metadata": {},
     "output_type": "execute_result"
    },
    {
     "name": "stdout",
     "output_type": "stream",
     "text": [
      "time: 1.97 ms\n"
     ]
    }
   ],
   "source": [
    "api_df"
   ]
  },
  {
   "cell_type": "code",
   "execution_count": 38,
   "metadata": {},
   "outputs": [
    {
     "name": "stdout",
     "output_type": "stream",
     "text": [
      "time: 6.6 s\n"
     ]
    }
   ],
   "source": [
    "b1 = pd.merge(b0,api_df,left_on='POSTAL_CODE',right_on='POSTAL_CODE',how='left')"
   ]
  },
  {
   "cell_type": "code",
   "execution_count": 30,
   "metadata": {},
   "outputs": [
    {
     "name": "stdout",
     "output_type": "stream",
     "text": [
      "time: 36.5 s\n"
     ]
    }
   ],
   "source": [
    "b2 = b1.drop_duplicates()"
   ]
  },
  {
   "cell_type": "code",
   "execution_count": 31,
   "metadata": {},
   "outputs": [
    {
     "data": {
      "text/plain": [
       "(6185001, 18)"
      ]
     },
     "execution_count": 31,
     "metadata": {},
     "output_type": "execute_result"
    },
    {
     "name": "stdout",
     "output_type": "stream",
     "text": [
      "time: 4 ms\n"
     ]
    }
   ],
   "source": [
    "b2.shape"
   ]
  },
  {
   "cell_type": "code",
   "execution_count": 43,
   "metadata": {},
   "outputs": [
    {
     "name": "stdout",
     "output_type": "stream",
     "text": [
      "POSTAL_CODE 182845\n",
      "CITY 435\n",
      "PROVINCE 13\n",
      "LONGITUDE 159147\n",
      "LATITUDE 137657\n",
      "time: 114 ms\n"
     ]
    }
   ],
   "source": [
    "for i in api_df.columns:\n",
    "    print(i,api_df[i].nunique())"
   ]
  },
  {
   "cell_type": "code",
   "execution_count": 72,
   "metadata": {},
   "outputs": [
    {
     "name": "stdout",
     "output_type": "stream",
     "text": [
      "time: 507 ms\n"
     ]
    }
   ],
   "source": [
    "num_cols = ['AGE_D1',\n",
    "            'LONGITUDE',\n",
    "            'LATITUDE',\n",
    "           'DISTANCE_DRIVEN_ANNUALLY',\n",
    "           'DRIVING_AGE',\n",
    "           'VEHICLE_AGE',\n",
    "           'DRIVERS_NUM',\n",
    "           'FULL_TERM_PREMIUM_COVERAGE',\n",
    "           'AUTO_CLAIMS',\n",
    "           #'CONVICTION_NUM'\n",
    "           ]\n",
    "\n",
    "target = ['FULL_TERM_PREMIUM_COVERAGE']\n",
    "\n",
    "for col in num_cols:\n",
    "    b2[col] =pd.to_numeric(b2[col],errors='coerce')\n",
    "    #hold_out_1[col] =pd.to_numeric(hold_out_1[col],errors='coerce')\n",
    "pd.set_option('float_format', '{:f}'.format)"
   ]
  },
  {
   "cell_type": "code",
   "execution_count": 96,
   "metadata": {},
   "outputs": [
    {
     "name": "stdout",
     "output_type": "stream",
     "text": [
      "time: 2.01 ms\n"
     ]
    }
   ],
   "source": [
    "cat_vars=['COVERAGE_CODE_AUTOMOBILE',\n",
    " 'COMPANY_CODE',\n",
    " #'MULTICAR_DISCOUNT_INDICATOR',\n",
    " 'VEHICLE_CODE1',\n",
    " #'DRIVER_SEX_CODE_D1',\n",
    " 'PROVINCE',\n",
    " 'CITY',\n",
    " 'POSTAL_CODE'\n",
    "]"
   ]
  },
  {
   "cell_type": "code",
   "execution_count": 97,
   "metadata": {},
   "outputs": [
    {
     "name": "stdout",
     "output_type": "stream",
     "text": [
      "time: 134 ms\n"
     ]
    }
   ],
   "source": [
    "for i in cat_vars:\n",
    "    b2[i] = b2[i].astype('category')\n",
    "    #hold_out_1[i] = hold_out_1[i].astype('category')"
   ]
  },
  {
   "cell_type": "code",
   "execution_count": 98,
   "metadata": {},
   "outputs": [
    {
     "name": "stdout",
     "output_type": "stream",
     "text": [
      "time: 4.02 ms\n"
     ]
    }
   ],
   "source": [
    "input_cols = [\n",
    "'LONGITUDE',\n",
    "'LATITUDE',\n",
    "\"AGE_D1\",\n",
    "\"COMPANY_CODE\",\n",
    "\"COVERAGE_CODE_AUTOMOBILE\",\n",
    "\"DISTANCE_DRIVEN_ANNUALLY\",\n",
    "\"VEHICLE_CODE1\",\n",
    "\"DRIVING_AGE\",\n",
    "\"VEHICLE_AGE\",\n",
    "#\"MULTICAR_DISCOUNT_INDICATOR\",\n",
    "\"DRIVERS_NUM\",\n",
    "\"AUTO_CLAIMS\",\n",
    "#\"CONVICTION_NUM\",\n",
    "#\"DRIVER_SEX_CODE_D1\",\n",
    "'PROVINCE',\n",
    "'CITY',\n",
    "'POSTAL_CODE'\n",
    "]"
   ]
  },
  {
   "cell_type": "code",
   "execution_count": 129,
   "metadata": {},
   "outputs": [
    {
     "name": "stdout",
     "output_type": "stream",
     "text": [
      "time: 976 ms\n"
     ]
    }
   ],
   "source": [
    "b2 = b2[(b2['FULL_TERM_PREMIUM_COVERAGE']>-200)&(b2['FULL_TERM_PREMIUM_COVERAGE']<3000)]"
   ]
  },
  {
   "cell_type": "code",
   "execution_count": 130,
   "metadata": {},
   "outputs": [
    {
     "name": "stdout",
     "output_type": "stream",
     "text": [
      "time: 469 ms\n"
     ]
    }
   ],
   "source": [
    "#split train data, test data and validation data\n",
    "x_train = b2[input_cols]\n",
    "y_train = b2[target]"
   ]
  },
  {
   "cell_type": "code",
   "execution_count": 131,
   "metadata": {},
   "outputs": [
    {
     "data": {
      "text/html": [
       "<div>\n",
       "<style scoped>\n",
       "    .dataframe tbody tr th:only-of-type {\n",
       "        vertical-align: middle;\n",
       "    }\n",
       "\n",
       "    .dataframe tbody tr th {\n",
       "        vertical-align: top;\n",
       "    }\n",
       "\n",
       "    .dataframe thead th {\n",
       "        text-align: right;\n",
       "    }\n",
       "</style>\n",
       "<table border=\"1\" class=\"dataframe\">\n",
       "  <thead>\n",
       "    <tr style=\"text-align: right;\">\n",
       "      <th></th>\n",
       "      <th>LONGITUDE</th>\n",
       "      <th>LATITUDE</th>\n",
       "      <th>AGE_D1</th>\n",
       "      <th>COMPANY_CODE</th>\n",
       "      <th>COVERAGE_CODE_AUTOMOBILE</th>\n",
       "      <th>DISTANCE_DRIVEN_ANNUALLY</th>\n",
       "      <th>VEHICLE_CODE1</th>\n",
       "      <th>DRIVING_AGE</th>\n",
       "      <th>VEHICLE_AGE</th>\n",
       "      <th>DRIVERS_NUM</th>\n",
       "      <th>AUTO_CLAIMS</th>\n",
       "      <th>PROVINCE</th>\n",
       "      <th>CITY</th>\n",
       "      <th>POSTAL_CODE</th>\n",
       "    </tr>\n",
       "  </thead>\n",
       "  <tbody>\n",
       "    <tr>\n",
       "      <td>491</td>\n",
       "      <td>-113.995191</td>\n",
       "      <td>50.941905</td>\n",
       "      <td>51.000000</td>\n",
       "      <td>CGUI</td>\n",
       "      <td>TP</td>\n",
       "      <td>12000.000000</td>\n",
       "      <td>140000</td>\n",
       "      <td>34.000000</td>\n",
       "      <td>1.000000</td>\n",
       "      <td>1.000000</td>\n",
       "      <td>0.000000</td>\n",
       "      <td>AB</td>\n",
       "      <td>CALGARY</td>\n",
       "      <td>T2Z1Z9</td>\n",
       "    </tr>\n",
       "    <tr>\n",
       "      <td>492</td>\n",
       "      <td>-113.995191</td>\n",
       "      <td>50.941905</td>\n",
       "      <td>51.000000</td>\n",
       "      <td>CGUI</td>\n",
       "      <td>AB</td>\n",
       "      <td>12000.000000</td>\n",
       "      <td>140000</td>\n",
       "      <td>34.000000</td>\n",
       "      <td>1.000000</td>\n",
       "      <td>1.000000</td>\n",
       "      <td>0.000000</td>\n",
       "      <td>AB</td>\n",
       "      <td>CALGARY</td>\n",
       "      <td>T2Z1Z9</td>\n",
       "    </tr>\n",
       "    <tr>\n",
       "      <td>493</td>\n",
       "      <td>-113.995191</td>\n",
       "      <td>50.941905</td>\n",
       "      <td>51.000000</td>\n",
       "      <td>CGUI</td>\n",
       "      <td>COL</td>\n",
       "      <td>12000.000000</td>\n",
       "      <td>140000</td>\n",
       "      <td>34.000000</td>\n",
       "      <td>1.000000</td>\n",
       "      <td>1.000000</td>\n",
       "      <td>0.000000</td>\n",
       "      <td>AB</td>\n",
       "      <td>CALGARY</td>\n",
       "      <td>T2Z1Z9</td>\n",
       "    </tr>\n",
       "    <tr>\n",
       "      <td>494</td>\n",
       "      <td>-113.995191</td>\n",
       "      <td>50.941905</td>\n",
       "      <td>51.000000</td>\n",
       "      <td>CGUI</td>\n",
       "      <td>CMP</td>\n",
       "      <td>12000.000000</td>\n",
       "      <td>140000</td>\n",
       "      <td>34.000000</td>\n",
       "      <td>1.000000</td>\n",
       "      <td>1.000000</td>\n",
       "      <td>0.000000</td>\n",
       "      <td>AB</td>\n",
       "      <td>CALGARY</td>\n",
       "      <td>T2Z1Z9</td>\n",
       "    </tr>\n",
       "    <tr>\n",
       "      <td>495</td>\n",
       "      <td>-113.995191</td>\n",
       "      <td>50.941905</td>\n",
       "      <td>51.000000</td>\n",
       "      <td>CGUI</td>\n",
       "      <td>2</td>\n",
       "      <td>12000.000000</td>\n",
       "      <td>140000</td>\n",
       "      <td>34.000000</td>\n",
       "      <td>1.000000</td>\n",
       "      <td>1.000000</td>\n",
       "      <td>0.000000</td>\n",
       "      <td>AB</td>\n",
       "      <td>CALGARY</td>\n",
       "      <td>T2Z1Z9</td>\n",
       "    </tr>\n",
       "    <tr>\n",
       "      <td>...</td>\n",
       "      <td>...</td>\n",
       "      <td>...</td>\n",
       "      <td>...</td>\n",
       "      <td>...</td>\n",
       "      <td>...</td>\n",
       "      <td>...</td>\n",
       "      <td>...</td>\n",
       "      <td>...</td>\n",
       "      <td>...</td>\n",
       "      <td>...</td>\n",
       "      <td>...</td>\n",
       "      <td>...</td>\n",
       "      <td>...</td>\n",
       "      <td>...</td>\n",
       "    </tr>\n",
       "    <tr>\n",
       "      <td>16820356</td>\n",
       "      <td>-116.072900</td>\n",
       "      <td>50.625240</td>\n",
       "      <td>57.000000</td>\n",
       "      <td>WU</td>\n",
       "      <td>COL</td>\n",
       "      <td>20000.000000</td>\n",
       "      <td>364500</td>\n",
       "      <td>31.000000</td>\n",
       "      <td>7.000000</td>\n",
       "      <td>2.000000</td>\n",
       "      <td>0.000000</td>\n",
       "      <td>BC</td>\n",
       "      <td>COLUMBIA-SHUSWAP</td>\n",
       "      <td>V0A1M0</td>\n",
       "    </tr>\n",
       "    <tr>\n",
       "      <td>16820357</td>\n",
       "      <td>-116.072900</td>\n",
       "      <td>50.625240</td>\n",
       "      <td>57.000000</td>\n",
       "      <td>WU</td>\n",
       "      <td>SRAP</td>\n",
       "      <td>20000.000000</td>\n",
       "      <td>364500</td>\n",
       "      <td>31.000000</td>\n",
       "      <td>7.000000</td>\n",
       "      <td>2.000000</td>\n",
       "      <td>0.000000</td>\n",
       "      <td>BC</td>\n",
       "      <td>COLUMBIA-SHUSWAP</td>\n",
       "      <td>V0A1M0</td>\n",
       "    </tr>\n",
       "    <tr>\n",
       "      <td>16820358</td>\n",
       "      <td>-116.072900</td>\n",
       "      <td>50.625240</td>\n",
       "      <td>57.000000</td>\n",
       "      <td>WU</td>\n",
       "      <td>ZUM3</td>\n",
       "      <td>20000.000000</td>\n",
       "      <td>364500</td>\n",
       "      <td>31.000000</td>\n",
       "      <td>7.000000</td>\n",
       "      <td>2.000000</td>\n",
       "      <td>0.000000</td>\n",
       "      <td>BC</td>\n",
       "      <td>COLUMBIA-SHUSWAP</td>\n",
       "      <td>V0A1M0</td>\n",
       "    </tr>\n",
       "    <tr>\n",
       "      <td>16820359</td>\n",
       "      <td>-116.072900</td>\n",
       "      <td>50.625240</td>\n",
       "      <td>57.000000</td>\n",
       "      <td>WU</td>\n",
       "      <td>DISCX</td>\n",
       "      <td>20000.000000</td>\n",
       "      <td>364500</td>\n",
       "      <td>31.000000</td>\n",
       "      <td>7.000000</td>\n",
       "      <td>2.000000</td>\n",
       "      <td>0.000000</td>\n",
       "      <td>BC</td>\n",
       "      <td>COLUMBIA-SHUSWAP</td>\n",
       "      <td>V0A1M0</td>\n",
       "    </tr>\n",
       "    <tr>\n",
       "      <td>16820360</td>\n",
       "      <td>-116.072900</td>\n",
       "      <td>50.625240</td>\n",
       "      <td>57.000000</td>\n",
       "      <td>WU</td>\n",
       "      <td>DISDM</td>\n",
       "      <td>20000.000000</td>\n",
       "      <td>364500</td>\n",
       "      <td>31.000000</td>\n",
       "      <td>7.000000</td>\n",
       "      <td>2.000000</td>\n",
       "      <td>0.000000</td>\n",
       "      <td>BC</td>\n",
       "      <td>COLUMBIA-SHUSWAP</td>\n",
       "      <td>V0A1M0</td>\n",
       "    </tr>\n",
       "  </tbody>\n",
       "</table>\n",
       "<p>6180711 rows × 14 columns</p>\n",
       "</div>"
      ],
      "text/plain": [
       "           LONGITUDE  LATITUDE    AGE_D1 COMPANY_CODE  \\\n",
       "491      -113.995191 50.941905 51.000000         CGUI   \n",
       "492      -113.995191 50.941905 51.000000         CGUI   \n",
       "493      -113.995191 50.941905 51.000000         CGUI   \n",
       "494      -113.995191 50.941905 51.000000         CGUI   \n",
       "495      -113.995191 50.941905 51.000000         CGUI   \n",
       "...              ...       ...       ...          ...   \n",
       "16820356 -116.072900 50.625240 57.000000           WU   \n",
       "16820357 -116.072900 50.625240 57.000000           WU   \n",
       "16820358 -116.072900 50.625240 57.000000           WU   \n",
       "16820359 -116.072900 50.625240 57.000000           WU   \n",
       "16820360 -116.072900 50.625240 57.000000           WU   \n",
       "\n",
       "         COVERAGE_CODE_AUTOMOBILE  DISTANCE_DRIVEN_ANNUALLY VEHICLE_CODE1  \\\n",
       "491                            TP              12000.000000        140000   \n",
       "492                            AB              12000.000000        140000   \n",
       "493                           COL              12000.000000        140000   \n",
       "494                           CMP              12000.000000        140000   \n",
       "495                             2              12000.000000        140000   \n",
       "...                           ...                       ...           ...   \n",
       "16820356                      COL              20000.000000        364500   \n",
       "16820357                     SRAP              20000.000000        364500   \n",
       "16820358                     ZUM3              20000.000000        364500   \n",
       "16820359                    DISCX              20000.000000        364500   \n",
       "16820360                    DISDM              20000.000000        364500   \n",
       "\n",
       "          DRIVING_AGE  VEHICLE_AGE  DRIVERS_NUM  AUTO_CLAIMS PROVINCE  \\\n",
       "491         34.000000     1.000000     1.000000     0.000000       AB   \n",
       "492         34.000000     1.000000     1.000000     0.000000       AB   \n",
       "493         34.000000     1.000000     1.000000     0.000000       AB   \n",
       "494         34.000000     1.000000     1.000000     0.000000       AB   \n",
       "495         34.000000     1.000000     1.000000     0.000000       AB   \n",
       "...               ...          ...          ...          ...      ...   \n",
       "16820356    31.000000     7.000000     2.000000     0.000000       BC   \n",
       "16820357    31.000000     7.000000     2.000000     0.000000       BC   \n",
       "16820358    31.000000     7.000000     2.000000     0.000000       BC   \n",
       "16820359    31.000000     7.000000     2.000000     0.000000       BC   \n",
       "16820360    31.000000     7.000000     2.000000     0.000000       BC   \n",
       "\n",
       "                      CITY POSTAL_CODE  \n",
       "491                CALGARY      T2Z1Z9  \n",
       "492                CALGARY      T2Z1Z9  \n",
       "493                CALGARY      T2Z1Z9  \n",
       "494                CALGARY      T2Z1Z9  \n",
       "495                CALGARY      T2Z1Z9  \n",
       "...                    ...         ...  \n",
       "16820356  COLUMBIA-SHUSWAP      V0A1M0  \n",
       "16820357  COLUMBIA-SHUSWAP      V0A1M0  \n",
       "16820358  COLUMBIA-SHUSWAP      V0A1M0  \n",
       "16820359  COLUMBIA-SHUSWAP      V0A1M0  \n",
       "16820360  COLUMBIA-SHUSWAP      V0A1M0  \n",
       "\n",
       "[6180711 rows x 14 columns]"
      ]
     },
     "execution_count": 131,
     "metadata": {},
     "output_type": "execute_result"
    },
    {
     "name": "stdout",
     "output_type": "stream",
     "text": [
      "time: 1.26 s\n"
     ]
    }
   ],
   "source": [
    "x_train"
   ]
  },
  {
   "cell_type": "code",
   "execution_count": 132,
   "metadata": {},
   "outputs": [
    {
     "data": {
      "text/plain": [
       "[AB, BC, NB, NT, ON, ..., YT, PE, QC, SK, MB]\n",
       "Length: 13\n",
       "Categories (13, object): [AB, BC, NB, NT, ..., PE, QC, SK, MB]"
      ]
     },
     "execution_count": 132,
     "metadata": {},
     "output_type": "execute_result"
    },
    {
     "name": "stdout",
     "output_type": "stream",
     "text": [
      "time: 106 ms\n"
     ]
    }
   ],
   "source": [
    "x_train['PROVINCE'].unique()"
   ]
  },
  {
   "cell_type": "code",
   "execution_count": 133,
   "metadata": {},
   "outputs": [
    {
     "name": "stdout",
     "output_type": "stream",
     "text": [
      "AB (818315, 14)\n",
      "BC (5715, 14)\n",
      "NB (618583, 14)\n",
      "NT (5654, 14)\n",
      "ON (4255657, 14)\n",
      "NS (363245, 14)\n",
      "NL (45288, 14)\n",
      "NU (1231, 14)\n",
      "YT (1506, 14)\n",
      "PE (63442, 14)\n",
      "QC (1471, 14)\n",
      "SK (573, 14)\n",
      "MB (31, 14)\n",
      "time: 1.4 s\n"
     ]
    }
   ],
   "source": [
    "for i in x_train['PROVINCE'].unique():\n",
    "    print(i,x_train[(x_train['PROVINCE']==i)].shape)"
   ]
  },
  {
   "cell_type": "code",
   "execution_count": 134,
   "metadata": {},
   "outputs": [
    {
     "data": {
      "text/plain": [
       "(818315, 14)"
      ]
     },
     "execution_count": 134,
     "metadata": {},
     "output_type": "execute_result"
    },
    {
     "name": "stdout",
     "output_type": "stream",
     "text": [
      "time: 138 ms\n"
     ]
    }
   ],
   "source": [
    "x_train[x_train['PROVINCE']=='AB'].shape"
   ]
  },
  {
   "cell_type": "code",
   "execution_count": 135,
   "metadata": {},
   "outputs": [
    {
     "name": "stdout",
     "output_type": "stream",
     "text": [
      "time: 3.09 s\n"
     ]
    }
   ],
   "source": [
    "x_train, x_val, y_train, y_val = train_test_split(x_train, y_train, test_size=0.10, random_state=99)"
   ]
  },
  {
   "cell_type": "code",
   "execution_count": 150,
   "metadata": {},
   "outputs": [
    {
     "data": {
      "text/html": [
       "<div>\n",
       "<style scoped>\n",
       "    .dataframe tbody tr th:only-of-type {\n",
       "        vertical-align: middle;\n",
       "    }\n",
       "\n",
       "    .dataframe tbody tr th {\n",
       "        vertical-align: top;\n",
       "    }\n",
       "\n",
       "    .dataframe thead th {\n",
       "        text-align: right;\n",
       "    }\n",
       "</style>\n",
       "<table border=\"1\" class=\"dataframe\">\n",
       "  <thead>\n",
       "    <tr style=\"text-align: right;\">\n",
       "      <th></th>\n",
       "      <th>LONGITUDE</th>\n",
       "      <th>LATITUDE</th>\n",
       "      <th>AGE_D1</th>\n",
       "      <th>COMPANY_CODE</th>\n",
       "      <th>COVERAGE_CODE_AUTOMOBILE</th>\n",
       "      <th>DISTANCE_DRIVEN_ANNUALLY</th>\n",
       "      <th>VEHICLE_CODE1</th>\n",
       "      <th>DRIVING_AGE</th>\n",
       "      <th>VEHICLE_AGE</th>\n",
       "      <th>DRIVERS_NUM</th>\n",
       "      <th>AUTO_CLAIMS</th>\n",
       "      <th>PROVINCE</th>\n",
       "      <th>CITY</th>\n",
       "      <th>POSTAL_CODE</th>\n",
       "    </tr>\n",
       "  </thead>\n",
       "  <tbody>\n",
       "    <tr>\n",
       "      <td>1525024</td>\n",
       "      <td>-77.672186</td>\n",
       "      <td>44.865348</td>\n",
       "      <td>48.000000</td>\n",
       "      <td>CIC</td>\n",
       "      <td>38</td>\n",
       "      <td>16000.000000</td>\n",
       "      <td>264500</td>\n",
       "      <td>74.000000</td>\n",
       "      <td>13.000000</td>\n",
       "      <td>2.000000</td>\n",
       "      <td>0.000000</td>\n",
       "      <td>ON</td>\n",
       "      <td>TUDOR_AND_CASHEL</td>\n",
       "      <td>K0L1W0</td>\n",
       "    </tr>\n",
       "    <tr>\n",
       "      <td>13977944</td>\n",
       "      <td>-79.338756</td>\n",
       "      <td>43.748826</td>\n",
       "      <td>29.000000</td>\n",
       "      <td>CGUI</td>\n",
       "      <td>DISSN</td>\n",
       "      <td>10000.000000</td>\n",
       "      <td>147702</td>\n",
       "      <td>11.000000</td>\n",
       "      <td>2.000000</td>\n",
       "      <td>1.000000</td>\n",
       "      <td>1.000000</td>\n",
       "      <td>ON</td>\n",
       "      <td>TORONTO</td>\n",
       "      <td>M3A3B8</td>\n",
       "    </tr>\n",
       "    <tr>\n",
       "      <td>15396883</td>\n",
       "      <td>-81.242819</td>\n",
       "      <td>43.786500</td>\n",
       "      <td>27.000000</td>\n",
       "      <td>GORE</td>\n",
       "      <td>44R</td>\n",
       "      <td>10000.000000</td>\n",
       "      <td>378300</td>\n",
       "      <td>10.000000</td>\n",
       "      <td>11.000000</td>\n",
       "      <td>5.000000</td>\n",
       "      <td>0.000000</td>\n",
       "      <td>ON</td>\n",
       "      <td>SOUTH_BRUCE</td>\n",
       "      <td>N0G1H0</td>\n",
       "    </tr>\n",
       "    <tr>\n",
       "      <td>15473140</td>\n",
       "      <td>-79.690103</td>\n",
       "      <td>43.441071</td>\n",
       "      <td>40.000000</td>\n",
       "      <td>CIC</td>\n",
       "      <td>47</td>\n",
       "      <td>8000.000000</td>\n",
       "      <td>763700</td>\n",
       "      <td>12.000000</td>\n",
       "      <td>1.000000</td>\n",
       "      <td>1.000000</td>\n",
       "      <td>1.000000</td>\n",
       "      <td>ON</td>\n",
       "      <td>OAKVILLE</td>\n",
       "      <td>L6K2B1</td>\n",
       "    </tr>\n",
       "    <tr>\n",
       "      <td>9867848</td>\n",
       "      <td>-114.124260</td>\n",
       "      <td>50.917920</td>\n",
       "      <td>40.000000</td>\n",
       "      <td>ELT</td>\n",
       "      <td>19A</td>\n",
       "      <td>5000.000000</td>\n",
       "      <td>002000</td>\n",
       "      <td>20.000000</td>\n",
       "      <td>32.000000</td>\n",
       "      <td>2.000000</td>\n",
       "      <td>0.000000</td>\n",
       "      <td>AB</td>\n",
       "      <td>CALGARY</td>\n",
       "      <td>T2Y5A5</td>\n",
       "    </tr>\n",
       "    <tr>\n",
       "      <td>...</td>\n",
       "      <td>...</td>\n",
       "      <td>...</td>\n",
       "      <td>...</td>\n",
       "      <td>...</td>\n",
       "      <td>...</td>\n",
       "      <td>...</td>\n",
       "      <td>...</td>\n",
       "      <td>...</td>\n",
       "      <td>...</td>\n",
       "      <td>...</td>\n",
       "      <td>...</td>\n",
       "      <td>...</td>\n",
       "      <td>...</td>\n",
       "      <td>...</td>\n",
       "    </tr>\n",
       "    <tr>\n",
       "      <td>14504222</td>\n",
       "      <td>-77.093774</td>\n",
       "      <td>45.823425</td>\n",
       "      <td>61.000000</td>\n",
       "      <td>HAL</td>\n",
       "      <td>DISMV</td>\n",
       "      <td>10000.000000</td>\n",
       "      <td>022500</td>\n",
       "      <td>38.000000</td>\n",
       "      <td>13.000000</td>\n",
       "      <td>2.000000</td>\n",
       "      <td>1.000000</td>\n",
       "      <td>ON</td>\n",
       "      <td>LAURENTIAN_VALLEY</td>\n",
       "      <td>K8A2Z8</td>\n",
       "    </tr>\n",
       "    <tr>\n",
       "      <td>16520411</td>\n",
       "      <td>-77.613857</td>\n",
       "      <td>44.131020</td>\n",
       "      <td>72.000000</td>\n",
       "      <td>NORW</td>\n",
       "      <td>DISMP</td>\n",
       "      <td>5000.000000</td>\n",
       "      <td>359200</td>\n",
       "      <td>56.000000</td>\n",
       "      <td>11.000000</td>\n",
       "      <td>2.000000</td>\n",
       "      <td>0.000000</td>\n",
       "      <td>ON</td>\n",
       "      <td>QUINTE_WEST</td>\n",
       "      <td>K8V5P6</td>\n",
       "    </tr>\n",
       "    <tr>\n",
       "      <td>2284829</td>\n",
       "      <td>-113.638431</td>\n",
       "      <td>53.534760</td>\n",
       "      <td>67.000000</td>\n",
       "      <td>TRG</td>\n",
       "      <td>DISCF</td>\n",
       "      <td>15000.000000</td>\n",
       "      <td>673700</td>\n",
       "      <td>35.000000</td>\n",
       "      <td>10.000000</td>\n",
       "      <td>2.000000</td>\n",
       "      <td>0.000000</td>\n",
       "      <td>AB</td>\n",
       "      <td>EDMONTON</td>\n",
       "      <td>T5T4J1</td>\n",
       "    </tr>\n",
       "    <tr>\n",
       "      <td>15435436</td>\n",
       "      <td>-81.247769</td>\n",
       "      <td>43.856259</td>\n",
       "      <td>83.000000</td>\n",
       "      <td>WESW</td>\n",
       "      <td>DISRD</td>\n",
       "      <td>12000.000000</td>\n",
       "      <td>362900</td>\n",
       "      <td>44.000000</td>\n",
       "      <td>19.000000</td>\n",
       "      <td>2.000000</td>\n",
       "      <td>0.000000</td>\n",
       "      <td>ON</td>\n",
       "      <td>SOUTH_BRUCE</td>\n",
       "      <td>N0G1G0</td>\n",
       "    </tr>\n",
       "    <tr>\n",
       "      <td>3912479</td>\n",
       "      <td>-67.761269</td>\n",
       "      <td>47.060817</td>\n",
       "      <td>46.000000</td>\n",
       "      <td>WAWA</td>\n",
       "      <td>13C</td>\n",
       "      <td>11000.000000</td>\n",
       "      <td>161603</td>\n",
       "      <td>30.000000</td>\n",
       "      <td>2.000000</td>\n",
       "      <td>2.000000</td>\n",
       "      <td>0.000000</td>\n",
       "      <td>NB</td>\n",
       "      <td>DRUMMOND_PARISH</td>\n",
       "      <td>E3Y1A1</td>\n",
       "    </tr>\n",
       "  </tbody>\n",
       "</table>\n",
       "<p>5562639 rows × 14 columns</p>\n",
       "</div>"
      ],
      "text/plain": [
       "           LONGITUDE  LATITUDE    AGE_D1 COMPANY_CODE  \\\n",
       "1525024   -77.672186 44.865348 48.000000          CIC   \n",
       "13977944  -79.338756 43.748826 29.000000         CGUI   \n",
       "15396883  -81.242819 43.786500 27.000000         GORE   \n",
       "15473140  -79.690103 43.441071 40.000000          CIC   \n",
       "9867848  -114.124260 50.917920 40.000000          ELT   \n",
       "...              ...       ...       ...          ...   \n",
       "14504222  -77.093774 45.823425 61.000000          HAL   \n",
       "16520411  -77.613857 44.131020 72.000000         NORW   \n",
       "2284829  -113.638431 53.534760 67.000000          TRG   \n",
       "15435436  -81.247769 43.856259 83.000000         WESW   \n",
       "3912479   -67.761269 47.060817 46.000000         WAWA   \n",
       "\n",
       "         COVERAGE_CODE_AUTOMOBILE  DISTANCE_DRIVEN_ANNUALLY VEHICLE_CODE1  \\\n",
       "1525024                        38              16000.000000        264500   \n",
       "13977944                    DISSN              10000.000000        147702   \n",
       "15396883                      44R              10000.000000        378300   \n",
       "15473140                       47               8000.000000        763700   \n",
       "9867848                       19A               5000.000000        002000   \n",
       "...                           ...                       ...           ...   \n",
       "14504222                    DISMV              10000.000000        022500   \n",
       "16520411                    DISMP               5000.000000        359200   \n",
       "2284829                     DISCF              15000.000000        673700   \n",
       "15435436                    DISRD              12000.000000        362900   \n",
       "3912479                       13C              11000.000000        161603   \n",
       "\n",
       "          DRIVING_AGE  VEHICLE_AGE  DRIVERS_NUM  AUTO_CLAIMS PROVINCE  \\\n",
       "1525024     74.000000    13.000000     2.000000     0.000000       ON   \n",
       "13977944    11.000000     2.000000     1.000000     1.000000       ON   \n",
       "15396883    10.000000    11.000000     5.000000     0.000000       ON   \n",
       "15473140    12.000000     1.000000     1.000000     1.000000       ON   \n",
       "9867848     20.000000    32.000000     2.000000     0.000000       AB   \n",
       "...               ...          ...          ...          ...      ...   \n",
       "14504222    38.000000    13.000000     2.000000     1.000000       ON   \n",
       "16520411    56.000000    11.000000     2.000000     0.000000       ON   \n",
       "2284829     35.000000    10.000000     2.000000     0.000000       AB   \n",
       "15435436    44.000000    19.000000     2.000000     0.000000       ON   \n",
       "3912479     30.000000     2.000000     2.000000     0.000000       NB   \n",
       "\n",
       "                       CITY POSTAL_CODE  \n",
       "1525024    TUDOR_AND_CASHEL      K0L1W0  \n",
       "13977944            TORONTO      M3A3B8  \n",
       "15396883        SOUTH_BRUCE      N0G1H0  \n",
       "15473140           OAKVILLE      L6K2B1  \n",
       "9867848             CALGARY      T2Y5A5  \n",
       "...                     ...         ...  \n",
       "14504222  LAURENTIAN_VALLEY      K8A2Z8  \n",
       "16520411        QUINTE_WEST      K8V5P6  \n",
       "2284829            EDMONTON      T5T4J1  \n",
       "15435436        SOUTH_BRUCE      N0G1G0  \n",
       "3912479     DRUMMOND_PARISH      E3Y1A1  \n",
       "\n",
       "[5562639 rows x 14 columns]"
      ]
     },
     "execution_count": 150,
     "metadata": {},
     "output_type": "execute_result"
    },
    {
     "name": "stdout",
     "output_type": "stream",
     "text": [
      "time: 1.06 s\n"
     ]
    }
   ],
   "source": [
    "zcode"
   ]
  },
  {
   "cell_type": "code",
   "execution_count": 136,
   "metadata": {},
   "outputs": [
    {
     "name": "stdout",
     "output_type": "stream",
     "text": [
      "\n",
      "****To find optimal parameters for lightGBM using GridSearchCV for Regression*****\n",
      "\n",
      "========================================================\n",
      " Results from Grid Search \n",
      "========================================================\n",
      "\n",
      " The best estimator across ALL searched params:\n",
      " LGBMRegressor(boosting_type='dart', class_weight=None, colsample_bytree=1.0,\n",
      "              importance_type='split', lambda_l1=0.0, learning_rate=0.3,\n",
      "              max_depth=-1, min_child_sample=10, min_child_samples=20,\n",
      "              min_child_weight=1, min_split_gain=0.0, n_estimators=100,\n",
      "              n_jobs=-1, num_leaves=25000, objective=None, random_state=None,\n",
      "              reg_alpha=0.0, reg_lambda=0.0, scale_pos_weight=1.0, silent=True,\n",
      "              subsample=1.0, subsample_for_bin=200000, subsample_freq=0)\n",
      "\n",
      " The best score across ALL searched params:\n",
      " 0.8127135653419217\n",
      "\n",
      " The best parameters across ALL searched params:\n",
      " {'boosting_type': 'dart', 'colsample_bytree': 1.0, 'lambda_l1': 0.0, 'learning_rate': 0.3, 'max_depth': -1, 'min_child_sample': 10, 'min_child_weight': 1, 'n_estimators': 100, 'num_leaves': 25000, 'reg_lambda': 0.0, 'scale_pos_weight': 1.0, 'subsample': 1.0}\n",
      "\n",
      " ========================================================\n",
      "time: 1h 53min 32s\n"
     ]
    }
   ],
   "source": [
    "## grid search for the best hyperparameters\n",
    "model = lgb.LGBMRegressor()\n",
    "parameters = {    'max_depth' : [-1],\n",
    "                  'learning_rate' : [0.3],\n",
    "                  'num_leaves': [25000],\n",
    "                  'n_estimators': [100],\n",
    "                  'min_child_weight' : [1],\n",
    "                  'min_child_sample' : [10],\n",
    "                  'subsample': [1.0],\n",
    "                  'colsample_bytree': [1.0],\n",
    "                  'scale_pos_weight': [1.0],\n",
    "                  'reg_lambda':[0.0],\n",
    "                  'boosting_type': ['dart'],     \n",
    "                  'lambda_l1':[0.0]\n",
    "             }\n",
    "\n",
    "grid = ParameterOptimizer(model = model,\n",
    "                          parameters= parameters,\n",
    "                          x_train = x_train,\n",
    "                          y_train = y_train,\n",
    "                          cat_vars = cat_vars,\n",
    "                          early_stopping_rounds = 100,\n",
    "                          eval_set = [(x_val,y_val)])\n"
   ]
  },
  {
   "cell_type": "code",
   "execution_count": 137,
   "metadata": {},
   "outputs": [
    {
     "name": "stdout",
     "output_type": "stream",
     "text": [
      "Val data R2 score is 83.65%\n",
      "time: 42.9 s\n"
     ]
    }
   ],
   "source": [
    "#print('Test data R2 score is {:.2%}'.format(r2_score(y_test, grid.predict(x_test))))\n",
    "print('Val data R2 score is {:.2%}'.format(r2_score(y_val, grid.predict(x_val))))\n",
    "#print('Train data R2 score is {:.2%}'.format(r2_score(y_train, grid.predict(x_train))))"
   ]
  },
  {
   "cell_type": "code",
   "execution_count": 104,
   "metadata": {},
   "outputs": [
    {
     "name": "stdout",
     "output_type": "stream",
     "text": [
      "Train data R2 score is 95.21%\n",
      "time: 6min 40s\n"
     ]
    }
   ],
   "source": [
    "print('Train data R2 score is {:.2%}'.format(r2_score(y_train, grid.predict(x_train))))"
   ]
  },
  {
   "cell_type": "code",
   "execution_count": 143,
   "metadata": {},
   "outputs": [
    {
     "name": "stdout",
     "output_type": "stream",
     "text": [
      "time: 45.8 s\n"
     ]
    }
   ],
   "source": [
    "prediction = pd.DataFrame(grid.predict(x_val),columns = ['preds'])"
   ]
  },
  {
   "cell_type": "code",
   "execution_count": 144,
   "metadata": {},
   "outputs": [
    {
     "name": "stdout",
     "output_type": "stream",
     "text": [
      "time: 117 ms\n"
     ]
    }
   ],
   "source": [
    "result = pd.concat([x_val.reset_index(),y_val.reset_index(),prediction],axis = 1)"
   ]
  },
  {
   "cell_type": "code",
   "execution_count": 124,
   "metadata": {},
   "outputs": [
    {
     "name": "stdout",
     "output_type": "stream",
     "text": [
      "time: 115 ms\n"
     ]
    }
   ],
   "source": [
    "result1 = result[(result['FULL_TERM_PREMIUM_COVERAGE']>-200)&(result['FULL_TERM_PREMIUM_COVERAGE']<3000)]"
   ]
  },
  {
   "cell_type": "code",
   "execution_count": 149,
   "metadata": {},
   "outputs": [
    {
     "data": {
      "text/html": [
       "<div>\n",
       "<style scoped>\n",
       "    .dataframe tbody tr th:only-of-type {\n",
       "        vertical-align: middle;\n",
       "    }\n",
       "\n",
       "    .dataframe tbody tr th {\n",
       "        vertical-align: top;\n",
       "    }\n",
       "\n",
       "    .dataframe thead th {\n",
       "        text-align: right;\n",
       "    }\n",
       "</style>\n",
       "<table border=\"1\" class=\"dataframe\">\n",
       "  <thead>\n",
       "    <tr style=\"text-align: right;\">\n",
       "      <th></th>\n",
       "      <th>LONGITUDE</th>\n",
       "      <th>LATITUDE</th>\n",
       "      <th>AGE_D1</th>\n",
       "      <th>COMPANY_CODE</th>\n",
       "      <th>COVERAGE_CODE_AUTOMOBILE</th>\n",
       "      <th>DISTANCE_DRIVEN_ANNUALLY</th>\n",
       "      <th>VEHICLE_CODE1</th>\n",
       "      <th>DRIVING_AGE</th>\n",
       "      <th>VEHICLE_AGE</th>\n",
       "      <th>DRIVERS_NUM</th>\n",
       "      <th>AUTO_CLAIMS</th>\n",
       "      <th>PROVINCE</th>\n",
       "      <th>CITY</th>\n",
       "      <th>POSTAL_CODE</th>\n",
       "    </tr>\n",
       "  </thead>\n",
       "  <tbody>\n",
       "    <tr>\n",
       "      <td>1525024</td>\n",
       "      <td>-77.672186</td>\n",
       "      <td>44.865348</td>\n",
       "      <td>48.000000</td>\n",
       "      <td>CIC</td>\n",
       "      <td>38</td>\n",
       "      <td>16000.000000</td>\n",
       "      <td>264500</td>\n",
       "      <td>74.000000</td>\n",
       "      <td>13.000000</td>\n",
       "      <td>2.000000</td>\n",
       "      <td>0.000000</td>\n",
       "      <td>ON</td>\n",
       "      <td>TUDOR_AND_CASHEL</td>\n",
       "      <td>K0L1W0</td>\n",
       "    </tr>\n",
       "    <tr>\n",
       "      <td>13977944</td>\n",
       "      <td>-79.338756</td>\n",
       "      <td>43.748826</td>\n",
       "      <td>29.000000</td>\n",
       "      <td>CGUI</td>\n",
       "      <td>DISSN</td>\n",
       "      <td>10000.000000</td>\n",
       "      <td>147702</td>\n",
       "      <td>11.000000</td>\n",
       "      <td>2.000000</td>\n",
       "      <td>1.000000</td>\n",
       "      <td>1.000000</td>\n",
       "      <td>ON</td>\n",
       "      <td>TORONTO</td>\n",
       "      <td>M3A3B8</td>\n",
       "    </tr>\n",
       "    <tr>\n",
       "      <td>15396883</td>\n",
       "      <td>-81.242819</td>\n",
       "      <td>43.786500</td>\n",
       "      <td>27.000000</td>\n",
       "      <td>GORE</td>\n",
       "      <td>44R</td>\n",
       "      <td>10000.000000</td>\n",
       "      <td>378300</td>\n",
       "      <td>10.000000</td>\n",
       "      <td>11.000000</td>\n",
       "      <td>5.000000</td>\n",
       "      <td>0.000000</td>\n",
       "      <td>ON</td>\n",
       "      <td>SOUTH_BRUCE</td>\n",
       "      <td>N0G1H0</td>\n",
       "    </tr>\n",
       "    <tr>\n",
       "      <td>15473140</td>\n",
       "      <td>-79.690103</td>\n",
       "      <td>43.441071</td>\n",
       "      <td>40.000000</td>\n",
       "      <td>CIC</td>\n",
       "      <td>47</td>\n",
       "      <td>8000.000000</td>\n",
       "      <td>763700</td>\n",
       "      <td>12.000000</td>\n",
       "      <td>1.000000</td>\n",
       "      <td>1.000000</td>\n",
       "      <td>1.000000</td>\n",
       "      <td>ON</td>\n",
       "      <td>OAKVILLE</td>\n",
       "      <td>L6K2B1</td>\n",
       "    </tr>\n",
       "    <tr>\n",
       "      <td>9867848</td>\n",
       "      <td>-114.124260</td>\n",
       "      <td>50.917920</td>\n",
       "      <td>40.000000</td>\n",
       "      <td>ELT</td>\n",
       "      <td>19A</td>\n",
       "      <td>5000.000000</td>\n",
       "      <td>002000</td>\n",
       "      <td>20.000000</td>\n",
       "      <td>32.000000</td>\n",
       "      <td>2.000000</td>\n",
       "      <td>0.000000</td>\n",
       "      <td>AB</td>\n",
       "      <td>CALGARY</td>\n",
       "      <td>T2Y5A5</td>\n",
       "    </tr>\n",
       "  </tbody>\n",
       "</table>\n",
       "</div>"
      ],
      "text/plain": [
       "           LONGITUDE  LATITUDE    AGE_D1 COMPANY_CODE  \\\n",
       "1525024   -77.672186 44.865348 48.000000          CIC   \n",
       "13977944  -79.338756 43.748826 29.000000         CGUI   \n",
       "15396883  -81.242819 43.786500 27.000000         GORE   \n",
       "15473140  -79.690103 43.441071 40.000000          CIC   \n",
       "9867848  -114.124260 50.917920 40.000000          ELT   \n",
       "\n",
       "         COVERAGE_CODE_AUTOMOBILE  DISTANCE_DRIVEN_ANNUALLY VEHICLE_CODE1  \\\n",
       "1525024                        38              16000.000000        264500   \n",
       "13977944                    DISSN              10000.000000        147702   \n",
       "15396883                      44R              10000.000000        378300   \n",
       "15473140                       47               8000.000000        763700   \n",
       "9867848                       19A               5000.000000        002000   \n",
       "\n",
       "          DRIVING_AGE  VEHICLE_AGE  DRIVERS_NUM  AUTO_CLAIMS PROVINCE  \\\n",
       "1525024     74.000000    13.000000     2.000000     0.000000       ON   \n",
       "13977944    11.000000     2.000000     1.000000     1.000000       ON   \n",
       "15396883    10.000000    11.000000     5.000000     0.000000       ON   \n",
       "15473140    12.000000     1.000000     1.000000     1.000000       ON   \n",
       "9867848     20.000000    32.000000     2.000000     0.000000       AB   \n",
       "\n",
       "                      CITY POSTAL_CODE  \n",
       "1525024   TUDOR_AND_CASHEL      K0L1W0  \n",
       "13977944           TORONTO      M3A3B8  \n",
       "15396883       SOUTH_BRUCE      N0G1H0  \n",
       "15473140          OAKVILLE      L6K2B1  \n",
       "9867848            CALGARY      T2Y5A5  "
      ]
     },
     "execution_count": 149,
     "metadata": {},
     "output_type": "execute_result"
    },
    {
     "name": "stdout",
     "output_type": "stream",
     "text": [
      "time: 21 ms\n"
     ]
    }
   ],
   "source": [
    "x_train.head()"
   ]
  },
  {
   "cell_type": "code",
   "execution_count": 145,
   "metadata": {},
   "outputs": [
    {
     "data": {
      "text/plain": [
       "count   618072.000000\n",
       "mean       135.395847\n",
       "std        238.171150\n",
       "min       -199.636364\n",
       "25%         14.000000\n",
       "50%         40.000000\n",
       "75%        160.000000\n",
       "max       2993.000000\n",
       "Name: FULL_TERM_PREMIUM_COVERAGE, dtype: float64"
      ]
     },
     "execution_count": 145,
     "metadata": {},
     "output_type": "execute_result"
    },
    {
     "name": "stdout",
     "output_type": "stream",
     "text": [
      "time: 140 ms\n"
     ]
    }
   ],
   "source": [
    "result['FULL_TERM_PREMIUM_COVERAGE'].describe()"
   ]
  },
  {
   "cell_type": "code",
   "execution_count": 146,
   "metadata": {},
   "outputs": [
    {
     "data": {
      "text/plain": [
       "count   618072.000000\n",
       "mean       133.178439\n",
       "std        215.163038\n",
       "min       -219.596826\n",
       "25%         17.562648\n",
       "50%         44.602845\n",
       "75%        155.727087\n",
       "max       2786.884890\n",
       "Name: preds, dtype: float64"
      ]
     },
     "execution_count": 146,
     "metadata": {},
     "output_type": "execute_result"
    },
    {
     "name": "stdout",
     "output_type": "stream",
     "text": [
      "time: 40 ms\n"
     ]
    }
   ],
   "source": [
    "result['preds'].describe()"
   ]
  },
  {
   "cell_type": "code",
   "execution_count": 128,
   "metadata": {},
   "outputs": [
    {
     "name": "stdout",
     "output_type": "stream",
     "text": [
      "Train data R2 score is 82.60%\n",
      "time: 49 ms\n"
     ]
    }
   ],
   "source": [
    "print('Train data R2 score is {:.2%}'.format(r2_score(result1['FULL_TERM_PREMIUM_COVERAGE'], result1['preds'])))"
   ]
  },
  {
   "cell_type": "code",
   "execution_count": 37,
   "metadata": {},
   "outputs": [
    {
     "data": {
      "text/plain": [
       "Index(['AGE_D1', 'COMPANY_CODE', 'COVERAGE_CODE_AUTOMOBILE',\n",
       "       'DISTANCE_DRIVEN_ANNUALLY', 'VEHICLE_CODE1', 'DRIVING_AGE',\n",
       "       'VEHICLE_AGE', 'DRIVERS_NUM', 'PROVINCE', 'CITY', 'FSA'],\n",
       "      dtype='object')"
      ]
     },
     "execution_count": 37,
     "metadata": {},
     "output_type": "execute_result"
    },
    {
     "name": "stdout",
     "output_type": "stream",
     "text": [
      "time: 4 ms\n"
     ]
    }
   ],
   "source": [
    "x_train.columns"
   ]
  },
  {
   "cell_type": "code",
   "execution_count": 223,
   "metadata": {},
   "outputs": [
    {
     "data": {
      "text/plain": [
       "['C:\\\\Users\\\\john.lan\\\\Desktop\\\\model_1.pkl']"
      ]
     },
     "execution_count": 223,
     "metadata": {},
     "output_type": "execute_result"
    },
    {
     "name": "stdout",
     "output_type": "stream",
     "text": [
      "time: 1.71 s\n"
     ]
    }
   ],
   "source": [
    "#from sklearn.externals import joblib\n",
    "# save model\n",
    "#0.81\n",
    "joblib.dump(grid, r'C:\\Users\\john.lan\\Desktop\\model_1.pkl')"
   ]
  },
  {
   "cell_type": "code",
   "execution_count": null,
   "metadata": {},
   "outputs": [],
   "source": []
  }
 ],
 "metadata": {
  "kernelspec": {
   "display_name": "Python 3",
   "language": "python",
   "name": "python3"
  },
  "language_info": {
   "codemirror_mode": {
    "name": "ipython",
    "version": 3
   },
   "file_extension": ".py",
   "mimetype": "text/x-python",
   "name": "python",
   "nbconvert_exporter": "python",
   "pygments_lexer": "ipython3",
   "version": "3.6.9"
  }
 },
 "nbformat": 4,
 "nbformat_minor": 4
}
